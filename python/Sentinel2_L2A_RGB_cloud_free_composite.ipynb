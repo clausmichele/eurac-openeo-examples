{
 "cells": [
  {
   "cell_type": "markdown",
   "id": "eb104f48-3940-40c3-84c2-4a3aa20985db",
   "metadata": {},
   "source": [
    "<img src=\"https://gitlab.inf.unibz.it/earth_observation_public/eurac-openeo-examples/-/raw/main/python/aux_data/eurac_EO.png\"\n",
    "     alt=\"EURAC EO logo\"\n",
    "     style=\"float: left; margin-right: 10px; max-width: 300px\" />"
   ]
  },
  {
   "cell_type": "markdown",
   "id": "9482ca85-a1f3-4e17-822e-d26ae534ef81",
   "metadata": {},
   "source": [
    "# openEO - Cloud Free RGB Composite based on Sentinel-2 L2A\n",
    "Author michele.claus@eurac.edu\n",
    "\n",
    "Updated: 2023/05/15"
   ]
  },
  {
   "cell_type": "markdown",
   "id": "77d58f63-6b56-4ebc-8180-e9b6febbdca7",
   "metadata": {},
   "source": [
    "In this notebook we will use openEO to generate a cloud free RGB composite based on Sentinel-2 L2A data, using the S2_L2A_ALPS collection, which provides Sentinel-2 L2A data with a cloud mask layer generated with s2cloudless over the Alps."
   ]
  },
  {
   "cell_type": "code",
   "execution_count": null,
   "id": "b626f71c-beb4-4944-a2fd-f372c98ec1f1",
   "metadata": {},
   "outputs": [],
   "source": [
    "import openeo\n",
    "from openeo.rest.datacube import PGNode, THIS\n",
    "from openeo.processes import mean, eq, median, or_, array_element, clip\n",
    "import xarray as xr\n",
    "import rioxarray\n",
    "import numpy as np\n",
    "import matplotlib.pyplot as plt"
   ]
  },
  {
   "cell_type": "markdown",
   "id": "bae6c95f-6e11-4fd0-8af0-af23523a3294",
   "metadata": {},
   "source": [
    "Connect to the EURAC openEO back-end"
   ]
  },
  {
   "cell_type": "code",
   "execution_count": null,
   "id": "ddb27029-5aaf-48ce-810e-d8491058b6bc",
   "metadata": {},
   "outputs": [],
   "source": [
    "euracEndpoint = \"https://openeo.eurac.edu\"\n",
    "conn = openeo.connect(euracEndpoint).authenticate_oidc(client_id=\"openEO_PKCE\")"
   ]
  },
  {
   "cell_type": "markdown",
   "id": "b037bc6b-87d8-47ec-9578-de1a3da3c0aa",
   "metadata": {},
   "source": [
    "You can get detailed metadata about the Sentinel-2 collection with the following code:"
   ]
  },
  {
   "cell_type": "code",
   "execution_count": null,
   "id": "5dc3de4a-625d-4c5e-ab02-a4c6108528b3",
   "metadata": {},
   "outputs": [],
   "source": [
    "conn.describe_collection(\"S2_L2A_ALPS\")"
   ]
  },
  {
   "cell_type": "markdown",
   "id": "40b5bae0-2635-41f2-af1e-b066b3962c14",
   "metadata": {},
   "source": [
    "Set the temporal extent we want to consider"
   ]
  },
  {
   "cell_type": "code",
   "execution_count": null,
   "id": "c8643ddb-e119-4bc6-a365-819a31004241",
   "metadata": {},
   "outputs": [],
   "source": [
    "temporal_extent = [\"2021-05-01\",\"2021-09-01\"]"
   ]
  },
  {
   "cell_type": "markdown",
   "id": "a677ddeb-0b30-4dcf-8fea-2579f7c4bf5c",
   "metadata": {},
   "source": [
    "Set the spatial extent (area around Bolzano as an example)"
   ]
  },
  {
   "cell_type": "code",
   "execution_count": null,
   "id": "b3e90e70-a80a-4c56-b530-d12d399dedac",
   "metadata": {},
   "outputs": [],
   "source": [
    "spatial_extent = { \"west\": 11.071590350000491,\"east\": 11.588542226063511,\"south\": 46.40991407331259,\"north\": 46.56346581927167}"
   ]
  },
  {
   "cell_type": "markdown",
   "id": "4b73930a-e47e-4536-8387-0bd12745e662",
   "metadata": {},
   "source": [
    "Set the collection name for the Sentinel-2 data"
   ]
  },
  {
   "cell_type": "code",
   "execution_count": null,
   "id": "52b84965-de93-497b-a048-822af4c9195f",
   "metadata": {},
   "outputs": [],
   "source": [
    "S2_collection = \"S2_L2A_ALPS\""
   ]
  },
  {
   "cell_type": "markdown",
   "id": "2bf361af-1126-4c01-b6dc-3a2909209b3e",
   "metadata": {},
   "source": [
    "Set the bands we want to load"
   ]
  },
  {
   "cell_type": "code",
   "execution_count": null,
   "id": "dafa3994-8794-42b7-b1fe-1de222ab3196",
   "metadata": {},
   "outputs": [],
   "source": [
    "bands = [\"B02\",\"B03\",\"B04\",\"CLOUD_MASK\"]"
   ]
  },
  {
   "cell_type": "markdown",
   "id": "3fc92a2b-4928-44d4-b264-c23b47e1dc33",
   "metadata": {},
   "source": [
    "Load the S2 data:"
   ]
  },
  {
   "cell_type": "code",
   "execution_count": null,
   "id": "65643637-6f6f-4e41-b3b3-839f002b8c8d",
   "metadata": {},
   "outputs": [],
   "source": [
    "S2_data = conn.load_collection(S2_collection,\n",
    "                               temporal_extent=temporal_extent,\n",
    "                               bands=bands,\n",
    "                               spatial_extent=spatial_extent)#.filter_bbox(spatial_extent)"
   ]
  },
  {
   "cell_type": "markdown",
   "id": "7e4f7242-87fd-4c0e-997d-965d4800ceb2",
   "metadata": {},
   "source": [
    "We need to mask out (setting it to not a number) the zero values, i.e. where there is no data. "
   ]
  },
  {
   "cell_type": "code",
   "execution_count": null,
   "id": "15359487-56e1-4714-a2d1-80e35ff688a4",
   "metadata": {},
   "outputs": [],
   "source": [
    "data_mask = S2_data.filter_bands(\"B04\").reduce_dimension(dimension=\"bands\",reducer = lambda value: eq(array_element(value,0),0))\n",
    "S2_L2A_masked = S2_data.mask(data_mask)"
   ]
  },
  {
   "cell_type": "markdown",
   "id": "31dc58b9-e2f3-40a9-8236-b06adecb2c6b",
   "metadata": {},
   "source": [
    "We create a mask for clouds (CLOUD_MASK == 1)."
   ]
  },
  {
   "cell_type": "code",
   "execution_count": null,
   "id": "4b6d5794-2463-4f70-96f8-e11503d71413",
   "metadata": {},
   "outputs": [],
   "source": [
    "cloud_mask = S2_data.filter_bands(\"CLOUD_MASK\").reduce_dimension(dimension=\"bands\",reducer = lambda value: eq(array_element(value,0),1))"
   ]
  },
  {
   "cell_type": "markdown",
   "id": "b2f0aac0-7190-4cec-90d8-ffba5bcab34c",
   "metadata": {},
   "source": [
    "Apply the mask to the S2 data"
   ]
  },
  {
   "cell_type": "code",
   "execution_count": null,
   "id": "fa717fdf-24f4-4baa-b393-3f7e23666eb0",
   "metadata": {},
   "outputs": [],
   "source": [
    "S2_L2A_masked = S2_L2A_masked.filter_bands([\"B02\",\"B03\",\"B04\"]).mask(cloud_mask)"
   ]
  },
  {
   "cell_type": "markdown",
   "id": "aec23115-2c02-4734-ada6-b643a0df166b",
   "metadata": {},
   "source": [
    "Compute the median over time"
   ]
  },
  {
   "cell_type": "code",
   "execution_count": null,
   "id": "601fd674-acca-4752-a0c7-2d492e33cbb3",
   "metadata": {},
   "outputs": [],
   "source": [
    "S2_data_masked_median = S2_L2A_masked.reduce_dimension(dimension=\"DATE\",reducer=median)"
   ]
  },
  {
   "cell_type": "markdown",
   "id": "9fb5a0da-6107-4569-8f56-93a79e453d20",
   "metadata": {},
   "source": [
    "Clip the data between 0 and 1800 for a better visualization"
   ]
  },
  {
   "cell_type": "code",
   "execution_count": null,
   "id": "7becf739-a056-41c5-ad25-3bcf92ba734b",
   "metadata": {},
   "outputs": [],
   "source": [
    "S2_data_masked_median_clipped = S2_data_masked_median.apply(lambda value: value.clip(0,1800))"
   ]
  },
  {
   "cell_type": "markdown",
   "id": "7be6a0b6-9d0b-4d5b-b475-94f160f48e0d",
   "metadata": {},
   "source": [
    "Save the result as geoTIFF"
   ]
  },
  {
   "cell_type": "code",
   "execution_count": null,
   "id": "ff9af9a1-e016-4ece-abde-bca766d35891",
   "metadata": {},
   "outputs": [],
   "source": [
    "S2_data_masked_median_tiff = S2_data_masked_median_clipped.save_result(format=\"GTIFF\")"
   ]
  },
  {
   "cell_type": "markdown",
   "id": "9b8f614b-07df-43dc-87aa-89ee9e7d8fd8",
   "metadata": {},
   "source": [
    "Start a batch job and wait until it is marked as finished"
   ]
  },
  {
   "cell_type": "code",
   "execution_count": null,
   "id": "d6aaf36e-72fd-4229-9138-4349f9be42e3",
   "metadata": {},
   "outputs": [],
   "source": [
    "job_title = \"S2_L2A_RGB_cloud_free_composite2\"\n",
    "job = conn.create_job(S2_data_masked_median_tiff,title=job_title)\n",
    "job_id = job.job_id\n",
    "print(\"Batch job created with id: \",job_id)\n",
    "job.start_job()"
   ]
  },
  {
   "cell_type": "code",
   "execution_count": null,
   "id": "e851dc2b-0a0c-4509-8d93-d53b6d91a9c8",
   "metadata": {},
   "outputs": [],
   "source": [
    "job = conn.job(job_id)\n",
    "job"
   ]
  },
  {
   "cell_type": "markdown",
   "id": "0736ffc2-8e46-46ad-9d74-b74993a702c5",
   "metadata": {},
   "source": [
    "Download the result"
   ]
  },
  {
   "cell_type": "code",
   "execution_count": null,
   "id": "742cc404-3bbd-4708-bd52-9c58f55d3a0d",
   "metadata": {},
   "outputs": [],
   "source": [
    "results = job.get_results()\n",
    "results.download_files('./RGB_results/')"
   ]
  },
  {
   "cell_type": "markdown",
   "id": "39937439-89ca-4acf-9f31-4c9e0e78e201",
   "metadata": {},
   "source": [
    "Tone mapping function for a nicer RGB visualization:"
   ]
  },
  {
   "cell_type": "code",
   "execution_count": null,
   "id": "e46c1830-b368-436b-8469-0f546dab07fd",
   "metadata": {},
   "outputs": [],
   "source": [
    "def tone_mapping(B04,B03,B02):\n",
    "    red = B04.values\n",
    "    green = B03.values\n",
    "    blue = B02.values\n",
    "    red = (red+1)/1733*255\n",
    "    green = (green+1)/1630*255\n",
    "    blue = (blue+1)/1347*255\n",
    "    red = np.clip(red,0,255).astype(np.uint8)\n",
    "    green = np.clip(green,0,255).astype(np.uint8)\n",
    "    blue = np.clip(blue,0,255).astype(np.uint8)\n",
    "    brg = np.zeros((red.shape[0],red.shape[1],3),dtype=np.uint8)\n",
    "    brg[:,:,0] = red\n",
    "    brg[:,:,1] = green\n",
    "    brg[:,:,2] = blue\n",
    "    return brg"
   ]
  },
  {
   "cell_type": "markdown",
   "id": "9d83f951-7a5c-4462-bb67-8aba95a779d9",
   "metadata": {},
   "source": [
    "Open the result"
   ]
  },
  {
   "cell_type": "code",
   "execution_count": null,
   "id": "80c5594d-07e1-421d-a15b-2b3fc3711f6d",
   "metadata": {},
   "outputs": [],
   "source": [
    "result = rioxarray.open_rasterio('RGB_results/result.tiff')\n",
    "result"
   ]
  },
  {
   "cell_type": "code",
   "execution_count": null,
   "id": "19433cfa-8344-4e29-9508-2e5c304f5d1e",
   "metadata": {},
   "outputs": [],
   "source": [
    "rgb = tone_mapping(result[2],result[1],result[0])\n",
    "fig, ax = plt.subplots(figsize=(18, 7))\n",
    "ax.imshow(rgb)\n",
    "plt.show()"
   ]
  },
  {
   "cell_type": "markdown",
   "id": "ee1efe2d-1d43-467d-ba26-888600bbad91",
   "metadata": {},
   "source": [
    "But what if we would like to do also the tone mapping part directly in openEO?\n",
    "\n",
    "The syntax wouldn't be so different!"
   ]
  },
  {
   "cell_type": "code",
   "execution_count": null,
   "id": "90919dc6-3d69-4efe-8309-1ccc7b3d8256",
   "metadata": {},
   "outputs": [],
   "source": [
    "from openeo.processes import clip\n",
    "\n",
    "red = S2_data_masked_median.band(\"B04\")\n",
    "green = S2_data_masked_median.band(\"B03\")\n",
    "blue = S2_data_masked_median.band(\"B02\")\n",
    "\n",
    "red = (red+1)/1733*255\n",
    "green = (green+1)/1630*255\n",
    "blue = (blue+1)/1347*255\n",
    "\n",
    "red = red.add_dimension(name=\"bands\",label=\"red\",type=\"bands\")\n",
    "green = green.add_dimension(name=\"bands\",label=\"green\",type=\"bands\")\n",
    "blue = blue.add_dimension(name=\"bands\",label=\"blue\",type=\"bands\")\n",
    "rgb_openeo = red.merge_cubes(green).merge_cubes(blue)\n",
    "\n",
    "rgb_openeo = rgb_openeo.apply(lambda x: clip(x,0,255))"
   ]
  },
  {
   "cell_type": "markdown",
   "id": "72e0eadf-4755-4776-b4a9-323a6b57727b",
   "metadata": {},
   "source": [
    "Download the resulting PNG image directly using a synchronous call:"
   ]
  },
  {
   "cell_type": "code",
   "execution_count": null,
   "id": "2ae14c2d-0c05-4bdf-9060-d171c2228f46",
   "metadata": {},
   "outputs": [],
   "source": [
    "rgb_openeo.download('RGB_results/openeo_tone_mapping.png')"
   ]
  },
  {
   "cell_type": "markdown",
   "id": "e6713102-32d2-4bb1-a916-f04d4e683d76",
   "metadata": {},
   "source": [
    "Move around color channels to get RGB, the order that matplotlib expects:"
   ]
  },
  {
   "cell_type": "code",
   "execution_count": null,
   "id": "f1d0b859-aba2-4523-a191-b8d878514e4f",
   "metadata": {},
   "outputs": [],
   "source": [
    "rgb2 = plt.imread('RGB_results/openeo_tone_mapping.png')\n",
    "rgb2 = rgb2[:,:,::-1]"
   ]
  },
  {
   "cell_type": "markdown",
   "id": "8088e9ef-1a9b-4004-bcef-2dff040801f4",
   "metadata": {},
   "source": [
    "Visualize both results:"
   ]
  },
  {
   "cell_type": "code",
   "execution_count": null,
   "id": "b7830d23-d355-4bc2-af5b-93284a1a3cb6",
   "metadata": {},
   "outputs": [],
   "source": [
    "fig, ax = plt.subplots(1,2,figsize=(18, 7))\n",
    "ax[0].imshow(rgb)\n",
    "ax[0].set_title('RGB numpy tone mapping')\n",
    "ax[1].imshow(rgb2)\n",
    "ax[1].set_title('RGB openEO tone mapping')\n",
    "plt.show()"
   ]
  }
 ],
 "metadata": {
  "kernelspec": {
   "display_name": "Python 3 (ipykernel)",
   "language": "python",
   "name": "python3"
  },
  "language_info": {
   "codemirror_mode": {
    "name": "ipython",
    "version": 3
   },
   "file_extension": ".py",
   "mimetype": "text/x-python",
   "name": "python",
   "nbconvert_exporter": "python",
   "pygments_lexer": "ipython3",
   "version": "3.10.11"
  }
 },
 "nbformat": 4,
 "nbformat_minor": 5
}
