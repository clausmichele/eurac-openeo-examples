{
 "cells": [
  {
   "cell_type": "markdown",
   "id": "a6b245ba-1715-4287-8571-2560a8b0880e",
   "metadata": {},
   "source": [
    "<img src=\"https://gitlab.inf.unibz.it/earth_observation_public/eurac-openeo-examples/-/raw/main/python/aux_data/eurac_EO.png\"\n",
    "     alt=\"EURAC EO logo\"\n",
    "     style=\"float: left; margin-right: 10px; max-width: 300px\" />"
   ]
  },
  {
   "cell_type": "markdown",
   "id": "6faf58c1-2aa5-4a6d-9f4d-bd1f7941ce43",
   "metadata": {},
   "source": [
    "<img src=\"https://avatars.githubusercontent.com/u/63704085?s=400&u=5dc6c45b7d457ce6f303fbc612091cb2c133482f&v=4\"\n",
    "     alt=\"SAR2Cube logo\"\n",
    "     style=\"float: right; max-width: 200px\" />\n",
    "# SAR2Cube and openEO - SAR Interferometric Coherence data on-the-fly\n",
    "Author michele.claus@eurac.edu\n",
    "\n",
    "Date: 2022/10/24\n",
    "\n",
    "Updated: 2023/05/15"
   ]
  },
  {
   "cell_type": "markdown",
   "id": "b0f31cf0-02c3-419d-b85d-3213aaab7d80",
   "metadata": {
    "tags": []
   },
   "source": [
    "## Useful links:\n",
    "\n",
    "SAR2Cube website: https://sar2cube.projects.eurac.edu/\n",
    "\n",
    "openEO main website: https://openeo.org/\n",
    "\n",
    "openEO Python Client documentation: https://open-eo.github.io/openeo-python-client/index.html\n",
    "\n",
    "Getting started guide for openEO with python: https://openeo.org/documentation/1.0/python/"
   ]
  },
  {
   "cell_type": "markdown",
   "id": "a06168e3-974a-4a68-8568-75d213b9172c",
   "metadata": {
    "tags": []
   },
   "source": [
    "## Topics\n",
    "- Login to Eurac's openEO backend containing the SAR2Cube data sets\n",
    "- Create an openEO process graph to compute the interferometric coherence\n",
    "- Create an openEO batch job and monitor it\n",
    "- Download and visualize the results"
   ]
  },
  {
   "cell_type": "markdown",
   "id": "161d39db-9fe0-4db9-b161-50cd21547f48",
   "metadata": {},
   "source": [
    "## Import all the libraries and utilities functions\n",
    "The ones included in the eo_utils.py file are needed for the ipyleaflet interactive map"
   ]
  },
  {
   "cell_type": "markdown",
   "id": "3a29e8df-2ba3-41da-ac6e-97594f339545",
   "metadata": {},
   "source": [
    "Please check to have the latest `openeo` library. Please check here for the latest available version: https://pypi.org/project/openeo/"
   ]
  },
  {
   "cell_type": "code",
   "execution_count": null,
   "id": "708cc0dd-94c2-4cd2-8ab9-99d7c807b344",
   "metadata": {},
   "outputs": [],
   "source": [
    "import os\n",
    "import openeo\n",
    "import xarray as xr\n",
    "import numpy as np\n",
    "import matplotlib.pyplot as plt"
   ]
  },
  {
   "cell_type": "markdown",
   "id": "6e1c997e-7461-43a5-8536-e26b633afcfc",
   "metadata": {},
   "source": [
    "## SAR2Cube available data collections\n",
    "### Doñana Datacubes:\n",
    "Sentinel-1:\n",
    "```\n",
    "SAR2Cube_SInCohMap_S1_L0_147_ASC_DONYANA\n",
    "SAR2Cube_SInCohMap_S1_L0_154_DSC_DONYANA\n",
    "```\n",
    "Sentinel-2:\n",
    "```\n",
    "SInCohMap_S2_L1C_T29SQB\n",
    "```\n",
    "### South Tyrol Datacubes\n",
    "Sentinel-1:\n",
    "```\n",
    "SAR2Cube_SInCohMap_S1_L0_117_ASC_SOUTH_TYROL\n",
    "SAR2Cube_SInCohMap_S1_L0_168_DSC_SOUTH_TYROL\n",
    "```\n",
    "Sentinel-2:\n",
    "```\n",
    "S2_L1C_T32TPS\n",
    "```\n",
    "### Finland Datacubes\n",
    "Sentinel-1:\n",
    "```\n",
    "SAR2Cube_SInCohMap_S1_L0_80_DSC_FINLAND_AOI1\n",
    "SAR2Cube_SInCohMap_S1_L0_80_DSC_FINLAND_AOI2\n",
    "```"
   ]
  },
  {
   "cell_type": "markdown",
   "id": "a401ea5c-7c6c-40e8-bb4e-a133156f9f32",
   "metadata": {},
   "source": [
    "## Interferometric Coherence"
   ]
  },
  {
   "cell_type": "markdown",
   "id": "a1a06e33-674d-4890-a3d9-be0d06c54ceb",
   "metadata": {},
   "source": [
    "\n",
    "Firstly download a tiny subset of the datacube for the whole timeseries.\n",
    "\n",
    "With the downloaded netCDF we can extract the available dates and compute the master-slave pairs for the given temporal baseline."
   ]
  },
  {
   "cell_type": "markdown",
   "id": "471d92ca-fa16-4c03-a2cd-b5a9b364276f",
   "metadata": {},
   "source": [
    "**Please note: this step is not necessary since sample netCDFs with the vailable dates are already provided in the GitHub repo in the aux_data folder.**\n",
    "\n",
    "The available netCDFs containing the dates for the SInCohMap Sentinel-1 datacubes are:\n",
    "```\n",
    "./aux_data/Donyana_ASC_147_dates.nc\n",
    "./aux_data/Donyana_DSC_154_dates.nc\n",
    "./aux_data/Finland_AOI1_dates.nc\n",
    "./aux_data/Finland_AOI1_dates.nc\n",
    "./aux_data/South_Tyrol_DSC_168_dates.nc\n",
    "./aux_data/South_Tyrol_ASC_117_dates.nc\n",
    "```"
   ]
  },
  {
   "cell_type": "code",
   "execution_count": null,
   "id": "d0775a26-949c-4210-b737-27786a8490f1",
   "metadata": {
    "scrolled": true
   },
   "outputs": [],
   "source": [
    "# conn = openeo.connect(openeoHost).authenticate_oidc(client_id=\"openEO_PKCE\")\n",
    "# spatial_extent  = {'west':-6.094129 ,'east':-6.091833 ,'south':37.115613 ,'north':37.117239}\n",
    "# collection      = 'SAR2Cube_SInCohMap_S1_L0_147_ASC_DONYANA'\n",
    "# # Not specifying the temporal extent will load the whole timeseries\n",
    "# bands = ['grid_lon','grid_lat']\n",
    "# S1_slant_range = conn.load_collection(collection,spatial_extent=spatial_extent,bands=bands)"
   ]
  },
  {
   "cell_type": "code",
   "execution_count": null,
   "id": "c2945389-a710-49a5-97a8-2e5accaa7dd6",
   "metadata": {},
   "outputs": [],
   "source": [
    "# %%time\n",
    "# S1_slant_range.download('./aux_data/Donyana_ASC_147_dates.nc')"
   ]
  },
  {
   "cell_type": "markdown",
   "id": "8e2d4998-3bad-4fdf-a6a6-c15df59a4629",
   "metadata": {
    "tags": []
   },
   "source": [
    "## AOI\n",
    "We usa a sample AOI over Bolzano, South Tyrol, Italy"
   ]
  },
  {
   "cell_type": "code",
   "execution_count": null,
   "id": "faceaf9f-1706-4b54-abcf-3b5b390ff063",
   "metadata": {},
   "outputs": [],
   "source": [
    "spatial_extent = {'west': 11.286736, 'east': 11.377029, 'south': 46.463309, 'north': 46.513185}"
   ]
  },
  {
   "cell_type": "markdown",
   "id": "01de46ce-0347-4e90-a19f-2d1a4734dbf1",
   "metadata": {},
   "source": [
    "Compute the master-slave pairs for the given temporal baseline.\n",
    "\n",
    "Read the retrieved netCDF containing the timestamps:"
   ]
  },
  {
   "cell_type": "code",
   "execution_count": null,
   "id": "8500b0ba-07bc-47e3-8b8f-78ab51af20e6",
   "metadata": {
    "scrolled": true,
    "tags": []
   },
   "outputs": [],
   "source": [
    "dates_netcdf = xr.open_dataarray('./aux_data/South_Tyrol_ASC_117_dates.nc')\n",
    "dates_netcdf.time"
   ]
  },
  {
   "cell_type": "markdown",
   "id": "6ba8d2d5-6248-4d4f-8769-c9b40068ba51",
   "metadata": {},
   "source": [
    "Coherence temporal baseline. Ideally you can use values that are multiple of 6.\n",
    "\n",
    "However, when using data from January 2022 onwards only 12 days is possible since we lost Sentinel-1B."
   ]
  },
  {
   "cell_type": "code",
   "execution_count": null,
   "id": "b8fb4412-e45d-4739-b315-e54e3c2054bb",
   "metadata": {},
   "outputs": [],
   "source": [
    "timedelta = 12"
   ]
  },
  {
   "cell_type": "markdown",
   "id": "4616c12c-d23c-43db-8d2e-c2bc333094fd",
   "metadata": {
    "tags": []
   },
   "source": [
    "We want to compute the coherence for January 2022. (Please try a small temporal extent firstly)"
   ]
  },
  {
   "cell_type": "code",
   "execution_count": null,
   "id": "69790e01-92d4-478f-a3f1-f349dbe1d298",
   "metadata": {
    "tags": []
   },
   "outputs": [],
   "source": [
    "timesteps = dates_netcdf['time'].loc[dict(time=slice('2022-01-01','2022-01-16'))].values\n",
    "print(\"First date available for 2022: \",timesteps[0])\n",
    "print(\"Last date available for 2021:  \",timesteps[-1])"
   ]
  },
  {
   "cell_type": "markdown",
   "id": "c3ab8662-fd9d-4472-b4df-c1a0e32b4e92",
   "metadata": {
    "tags": []
   },
   "source": [
    "We loop through the timesteps and check where we have 6 or 12 or ... days pairs of dates"
   ]
  },
  {
   "cell_type": "code",
   "execution_count": null,
   "id": "c7d293a1-33fd-44fb-9d6e-dff6d3944e08",
   "metadata": {
    "tags": []
   },
   "outputs": [],
   "source": [
    "dates_pair = []\n",
    "for i,t in enumerate(timesteps[:-1]):\n",
    "    for t2 in timesteps[i+1:]:\n",
    "        if(np.timedelta64(t2 - t, 'D')) == np.timedelta64(timedelta,'D'):\n",
    "            dates_pair.append([t,t2])\n",
    "print(\"First date pair: \",dates_pair[0])\n",
    "print(\"Last date pair:  \",dates_pair[-1])"
   ]
  },
  {
   "cell_type": "markdown",
   "id": "71164283-2726-4ee7-90aa-90332cfef4b9",
   "metadata": {},
   "source": [
    "We define new temporal labels containing the master and slave dates:"
   ]
  },
  {
   "cell_type": "code",
   "execution_count": null,
   "id": "287cc93e-2bbf-4904-b454-d71d9a815dca",
   "metadata": {},
   "outputs": [],
   "source": [
    "mst_slv_temporal_labels = [ str(i[0])[:10] + \"_\" + str(i[1])[:10] for i in dates_pair]\n",
    "mst_slv_temporal_labels.reverse()\n",
    "print(\"The output will have a temporal label named like this: \",mst_slv_temporal_labels[0])"
   ]
  },
  {
   "cell_type": "markdown",
   "id": "a832b211-9b8d-4eae-ac44-dbd86eab8013",
   "metadata": {},
   "source": [
    "We now got the master-slave date pairs which will be used to compute the coherence."
   ]
  },
  {
   "cell_type": "markdown",
   "id": "d18c1d24-df5d-4901-b429-627fc3a0f89f",
   "metadata": {},
   "source": [
    "Now we define the utility functions for computing the complex coherence and then its amplitude.\n",
    "\n",
    "The coherence is defined as in the following formula:\n",
    "\n",
    "![coherence.gif](./aux_data/coherence.gif)\n",
    "\n",
    "Source: http://www.aha.ru/~geivanit/EEGmanual/Coherence.htm\n",
    "\n",
    "The next functions are the representation of the complex coherence formula using separate real and imaginary parts:\n"
   ]
  },
  {
   "cell_type": "code",
   "execution_count": null,
   "id": "511a8ab0-70bb-4874-a31f-4cdfe8bb5323",
   "metadata": {},
   "outputs": [],
   "source": [
    "from openeo.processes import ProcessBuilder, array_element\n",
    "\n",
    "def compute_real_part_numerator_VV(x:ProcessBuilder):\n",
    "    i_mst = array_element(x,label=\"i_VV_mst\")\n",
    "    q_mst = array_element(x,label=\"q_VV_mst\")\n",
    "    i_slv = array_element(x,label=\"i_VV_slv\")\n",
    "    q_slv = array_element(x,label=\"q_VV_slv\")\n",
    "    return (i_mst*i_slv + q_mst*q_slv)\n",
    "\n",
    "def compute_imag_part_numerator_VV(x:ProcessBuilder):\n",
    "    i_mst = array_element(x,label=\"i_VV_mst\")\n",
    "    q_mst = array_element(x,label=\"q_VV_mst\")\n",
    "    i_slv = array_element(x,label=\"i_VV_slv\")\n",
    "    q_slv = array_element(x,label=\"q_VV_slv\")\n",
    "    return (q_mst*i_slv - i_mst*q_slv)\n",
    "\n",
    "def compute_real_part_numerator_VH(x:ProcessBuilder):\n",
    "    i_mst = array_element(x,label=\"i_VH_mst\")\n",
    "    q_mst = array_element(x,label=\"q_VH_mst\")\n",
    "    i_slv = array_element(x,label=\"i_VH_slv\")\n",
    "    q_slv = array_element(x,label=\"q_VH_slv\")\n",
    "    return (i_mst*i_slv + q_mst*q_slv)\n",
    "\n",
    "def compute_imag_part_numerator_VH(x:ProcessBuilder):\n",
    "    i_mst = array_element(x,label=\"i_VH_mst\")\n",
    "    q_mst = array_element(x,label=\"q_VH_mst\")\n",
    "    i_slv = array_element(x,label=\"i_VH_slv\")\n",
    "    q_slv = array_element(x,label=\"q_VH_slv\")\n",
    "    return (q_mst*i_slv - i_mst*q_slv)\n",
    "\n",
    "def compute_mst_denominator_VV(x:ProcessBuilder):\n",
    "    i_mst = array_element(x,label=\"i_VV_mst\")\n",
    "    q_mst = array_element(x,label=\"q_VV_mst\")\n",
    "    return (i_mst**2+q_mst**2)\n",
    "\n",
    "def compute_slv_denominator_VV(x:ProcessBuilder):\n",
    "    i_slv = array_element(x,label=\"i_VV_slv\")\n",
    "    q_slv = array_element(x,label=\"q_VV_slv\")\n",
    "    return (i_slv**2+q_slv**2)\n",
    "\n",
    "def compute_mst_denominator_VH(x:ProcessBuilder):\n",
    "    i_mst = array_element(x,label=\"i_VH_mst\")\n",
    "    q_mst = array_element(x,label=\"q_VH_mst\")\n",
    "    return (i_mst**2+q_mst**2)\n",
    "\n",
    "def compute_slv_denominator_VH(x:ProcessBuilder):\n",
    "    i_slv = array_element(x,label=\"i_VH_slv\")\n",
    "    q_slv = array_element(x,label=\"q_VH_slv\")\n",
    "    return (i_slv**2+q_slv**2)\n",
    "\n",
    "def compute_coherence_amplitude_VV(x:ProcessBuilder):\n",
    "    q_num_VV = array_element(x,label=\"q_num_VV\")\n",
    "    i_num_VV = array_element(x,label=\"i_num_VV\")\n",
    "    mst_den = array_element(x,label=\"mst_den\")\n",
    "    slv_den = array_element(x,label=\"slv_den\")\n",
    "    \n",
    "    coh_i = i_num_VV / ((mst_den * slv_den + 1e-12)**0.5)\n",
    "    coh_q = q_num_VV / ((mst_den * slv_den + 1e-12)**0.5)\n",
    "    \n",
    "    return (coh_i**2+coh_q**2)**0.5\n",
    "\n",
    "def compute_coherence_amplitude_VH(x:ProcessBuilder):\n",
    "    q_num_VH = array_element(x,label=\"q_num_VH\")\n",
    "    i_num_VH = array_element(x,label=\"i_num_VH\")\n",
    "    mst_den = array_element(x,label=\"mst_den\")\n",
    "    slv_den = array_element(x,label=\"slv_den\")\n",
    "    \n",
    "    coh_i = i_num_VH / ((mst_den * slv_den + 1e-12)**0.5)\n",
    "    coh_q = q_num_VH / ((mst_den * slv_den + 1e-12)**0.5)\n",
    "    \n",
    "    return (coh_i**2+coh_q**2)**0.5"
   ]
  },
  {
   "cell_type": "markdown",
   "id": "e6f4bc23-bb5b-4679-8bb6-c29c50f95806",
   "metadata": {},
   "source": [
    "Coherence parameters:"
   ]
  },
  {
   "cell_type": "code",
   "execution_count": null,
   "id": "0da48941-a512-48f5-839f-0b930bafa981",
   "metadata": {},
   "outputs": [],
   "source": [
    "# Multi-look filter\n",
    "range_looks   = 19\n",
    "azimuth_looks = 4\n",
    "\n",
    "# Geocoding\n",
    "resolution = 20 # can be 10, 20 or 60 meters, it will be aligned with the Sentinel-2 grid\n",
    "crs = 32632\n",
    "\n",
    "# Datacube\n",
    "collection      = \"SAR2Cube_SInCohMap_S1_L0_117_ASC_SOUTH_TYROL\"\n",
    "\n",
    "# openEO Eurac back-end\n",
    "openeoHost = \"https://openeo.eurac.edu\""
   ]
  },
  {
   "cell_type": "code",
   "execution_count": null,
   "id": "788d106b-dae4-427b-841e-b4937ab60c50",
   "metadata": {
    "scrolled": true,
    "tags": []
   },
   "outputs": [],
   "source": [
    "conn = openeo.connect(openeoHost).authenticate_oidc(client_id=\"openEO_PKCE\")\n",
    "bands = [\"grid_lon\",\"grid_lat\",\"i_VV\",\"q_VV\",\"i_VH\",\"q_VH\"]\n",
    "S1_slant_range = conn.load_collection(collection,spatial_extent=spatial_extent,bands=bands)\n",
    "\n",
    "# We use a loop over the dates we want to request and a combination of filter_temporal + merge_cubes to get only the dates we want:\n",
    "for i,date_pair in enumerate(dates_pair):\n",
    "    # The requested date until the day after, since openEO excludes the end date\n",
    "    mst_date = date_pair[0]\n",
    "    slv_date = date_pair[1]\n",
    "    mst_temporal_extent = [str(mst_date),str(mst_date + np.timedelta64(1, \"D\"))]\n",
    "    slv_temporal_extent = [str(slv_date),str(slv_date + np.timedelta64(1, \"D\"))]\n",
    "\n",
    "    if i == 0:\n",
    "        S1_slant_range_mst_bands = S1_slant_range.filter_temporal(mst_temporal_extent)\n",
    "        S1_slant_range_slv_bands = S1_slant_range.filter_temporal(slv_temporal_extent)\n",
    "    else:\n",
    "        S1_slant_range_mst_bands = S1_slant_range.filter_temporal(mst_temporal_extent).merge_cubes(S1_slant_range_mst_bands)\n",
    "        S1_slant_range_slv_bands = S1_slant_range.filter_temporal(slv_temporal_extent).merge_cubes(S1_slant_range_slv_bands)"
   ]
  },
  {
   "cell_type": "code",
   "execution_count": null,
   "id": "4f6d9028-214e-41b9-8896-a33b20b3f32e",
   "metadata": {},
   "outputs": [],
   "source": [
    "S1_slant_range_mst_bands = S1_slant_range_mst_bands.filter_bands([\"i_VV\",\"q_VV\",\"i_VH\",\"q_VH\"])\n",
    "S1_slant_range_slv_bands = S1_slant_range_slv_bands.filter_bands([\"i_VV\",\"q_VV\",\"i_VH\",\"q_VH\"])"
   ]
  },
  {
   "cell_type": "markdown",
   "id": "fdca418b-2b5f-4d13-a0c7-cd45d72deff8",
   "metadata": {},
   "source": [
    "We rename the temporal labels to facilitate the next steps of the coherence computation:"
   ]
  },
  {
   "cell_type": "code",
   "execution_count": null,
   "id": "6f26875d-2b05-498f-82d4-dff2003b4f77",
   "metadata": {},
   "outputs": [],
   "source": [
    "S1_slant_range_mst_bands = S1_slant_range_mst_bands.rename_labels(dimension=\"DATE\",\n",
    "                                                                 target=mst_slv_temporal_labels)\n",
    "S1_slant_range_slv_bands = S1_slant_range_slv_bands.rename_labels(dimension=\"DATE\",\n",
    "                                                                 target=mst_slv_temporal_labels)"
   ]
  },
  {
   "cell_type": "markdown",
   "id": "7b0fed2b-4cff-4c21-bc22-35576a0139b7",
   "metadata": {},
   "source": [
    "We rename the bands according to the master/slave members"
   ]
  },
  {
   "cell_type": "code",
   "execution_count": null,
   "id": "81ec95a3-513b-476e-b09e-772c68c62c15",
   "metadata": {},
   "outputs": [],
   "source": [
    "S1_slant_range_mst_bands = S1_slant_range_mst_bands.rename_labels(dimension=\"bands\",\n",
    "                                                                  source=[\"i_VV\",\"q_VV\",\"i_VH\",\"q_VH\"],\n",
    "                                                                  target=[\"i_VV_mst\",\"q_VV_mst\",\"i_VH_mst\",\"q_VH_mst\"])\n",
    "S1_slant_range_slv_bands = S1_slant_range_slv_bands.rename_labels(dimension=\"bands\",\n",
    "                                                                  source=[\"i_VV\",\"q_VV\",\"i_VH\",\"q_VH\"],\n",
    "                                                                  target=[\"i_VV_slv\",\"q_VV_slv\",\"i_VH_slv\",\"q_VH_slv\"])"
   ]
  },
  {
   "cell_type": "markdown",
   "id": "b7486726-3cb8-401e-be0b-76ca3d2617e8",
   "metadata": {},
   "source": [
    "Merge the two datacubes into a single one"
   ]
  },
  {
   "cell_type": "code",
   "execution_count": null,
   "id": "4f363d43-f5bd-425b-b459-1d4827a20d3a",
   "metadata": {},
   "outputs": [],
   "source": [
    "S1_slant_range_mst_slv_bands = S1_slant_range_mst_bands.merge_cubes(S1_slant_range_slv_bands)"
   ]
  },
  {
   "cell_type": "markdown",
   "id": "f6365da3-9227-41e1-bcba-62ec7c5d97b0",
   "metadata": {},
   "source": [
    "Compute the coherence numerator for VV and VH"
   ]
  },
  {
   "cell_type": "code",
   "execution_count": null,
   "id": "198403a8-5c71-4faf-95fc-a1d8960cba93",
   "metadata": {},
   "outputs": [],
   "source": [
    "i_numerator_VV = S1_slant_range_mst_slv_bands.reduce_dimension(dimension=\"bands\",reducer=compute_real_part_numerator_VV)\n",
    "q_numerator_VV = S1_slant_range_mst_slv_bands.reduce_dimension(dimension=\"bands\",reducer=compute_imag_part_numerator_VV)\n",
    "\n",
    "i_numerator_VH = S1_slant_range_mst_slv_bands.reduce_dimension(dimension=\"bands\",reducer=compute_real_part_numerator_VH)\n",
    "q_numerator_VH = S1_slant_range_mst_slv_bands.reduce_dimension(dimension=\"bands\",reducer=compute_imag_part_numerator_VH)"
   ]
  },
  {
   "cell_type": "markdown",
   "id": "53ed0821-e9f6-4069-9017-9c36619b9f74",
   "metadata": {},
   "source": [
    "Apply multilook to real and imaginary part of the numerator using the `aggregate_spatial_window` openEO process. More info here: https://processes.openeo.org/#aggregate_spatial_window"
   ]
  },
  {
   "cell_type": "code",
   "execution_count": null,
   "id": "80c3d8e6-023d-40ef-b033-4310bd8d28ef",
   "metadata": {},
   "outputs": [],
   "source": [
    "i_numerator_VV_ML = i_numerator_VV.aggregate_spatial_window(size=[range_looks,azimuth_looks],reducer=\"mean\")\n",
    "q_numerator_VV_ML = q_numerator_VV.aggregate_spatial_window(size=[range_looks,azimuth_looks],reducer=\"mean\")\n",
    "\n",
    "i_numerator_VH_ML = i_numerator_VH.aggregate_spatial_window(size=[range_looks,azimuth_looks],reducer=\"mean\")\n",
    "q_numerator_VH_ML = q_numerator_VH.aggregate_spatial_window(size=[range_looks,azimuth_looks],reducer=\"mean\")"
   ]
  },
  {
   "cell_type": "markdown",
   "id": "3e28883f-7a66-481b-817d-a6b1592747e6",
   "metadata": {},
   "source": [
    "Compute the coherence denominator for VV and VH"
   ]
  },
  {
   "cell_type": "code",
   "execution_count": null,
   "id": "1949bc46-c95b-4d44-86ac-80cc2a533352",
   "metadata": {},
   "outputs": [],
   "source": [
    "mst_denominator_VV = S1_slant_range_mst_slv_bands.reduce_dimension(dimension=\"bands\",reducer=compute_mst_denominator_VV)\n",
    "slv_denominator_VV = S1_slant_range_mst_slv_bands.reduce_dimension(dimension=\"bands\",reducer=compute_slv_denominator_VV)\n",
    "\n",
    "mst_denominator_VH = S1_slant_range_mst_slv_bands.reduce_dimension(dimension=\"bands\",reducer=compute_mst_denominator_VH)\n",
    "slv_denominator_VH = S1_slant_range_mst_slv_bands.reduce_dimension(dimension=\"bands\",reducer=compute_slv_denominator_VH)"
   ]
  },
  {
   "cell_type": "markdown",
   "id": "757b1ff9-5187-4839-9a73-9e79a76aa14d",
   "metadata": {},
   "source": [
    "Apply multilook to the denominator"
   ]
  },
  {
   "cell_type": "code",
   "execution_count": null,
   "id": "3f2c260a-6faa-48c1-bf8b-fa23d0609b55",
   "metadata": {},
   "outputs": [],
   "source": [
    "mst_denominator_VV_ML = mst_denominator_VV.aggregate_spatial_window(size=[range_looks,azimuth_looks],reducer=\"mean\")\n",
    "slv_denominator_VV_ML = slv_denominator_VV.aggregate_spatial_window(size=[range_looks,azimuth_looks],reducer=\"mean\")\n",
    "\n",
    "mst_denominator_VH_ML = mst_denominator_VH.aggregate_spatial_window(size=[range_looks,azimuth_looks],reducer=\"mean\")\n",
    "slv_denominator_VH_ML = slv_denominator_VH.aggregate_spatial_window(size=[range_looks,azimuth_looks],reducer=\"mean\")"
   ]
  },
  {
   "cell_type": "markdown",
   "id": "99bd6745-8c1a-4d12-9192-f107c4963a5d",
   "metadata": {},
   "source": [
    "Merge all the bands for VV"
   ]
  },
  {
   "cell_type": "code",
   "execution_count": null,
   "id": "1d7aa46c-b116-4d60-bc30-6215a17b1db8",
   "metadata": {},
   "outputs": [],
   "source": [
    "i_numerator_VV_ML = i_numerator_VV_ML.add_dimension(name=\"bands\",label=\"i_num_VV\")\n",
    "q_numerator_VV_ML = q_numerator_VV_ML.add_dimension(name=\"bands\",label=\"q_num_VV\")\n",
    "\n",
    "mst_denominator_VV_ML = mst_denominator_VV_ML.add_dimension(name=\"bands\",label=\"mst_den\")\n",
    "slv_denominator_VV_ML = slv_denominator_VV_ML.add_dimension(name=\"bands\",label=\"slv_den\")\n",
    "\n",
    "coh_numerator_denominator_VV = i_numerator_VV_ML.merge_cubes(q_numerator_VV_ML).merge_cubes(mst_denominator_VV_ML).merge_cubes(slv_denominator_VV_ML)"
   ]
  },
  {
   "cell_type": "markdown",
   "id": "b3216cad-1db6-4023-a0b7-33d7049816cd",
   "metadata": {},
   "source": [
    "Merge all the bands for VH"
   ]
  },
  {
   "cell_type": "code",
   "execution_count": null,
   "id": "3241882d-75d9-43a5-af2f-d736a652a98d",
   "metadata": {},
   "outputs": [],
   "source": [
    "i_numerator_VH_ML = i_numerator_VH_ML.add_dimension(name=\"bands\",label=\"i_num_VH\")\n",
    "q_numerator_VH_ML = q_numerator_VH_ML.add_dimension(name=\"bands\",label=\"q_num_VH\")\n",
    "\n",
    "mst_denominator_VH_ML = mst_denominator_VH_ML.add_dimension(name=\"bands\",label=\"mst_den\")\n",
    "slv_denominator_VH_ML = slv_denominator_VH_ML.add_dimension(name=\"bands\",label=\"slv_den\")\n",
    "\n",
    "coh_numerator_denominator_VH = i_numerator_VH_ML.merge_cubes(q_numerator_VH_ML).merge_cubes(mst_denominator_VH_ML).merge_cubes(slv_denominator_VH_ML)"
   ]
  },
  {
   "cell_type": "markdown",
   "id": "3b87e15a-3eb4-4d15-9e5c-4192a2c20097",
   "metadata": {},
   "source": [
    "Compute the coherence amplitude"
   ]
  },
  {
   "cell_type": "code",
   "execution_count": null,
   "id": "6728929b-9615-442c-82d1-993e5bf5b012",
   "metadata": {},
   "outputs": [],
   "source": [
    "coh_VV = coh_numerator_denominator_VV.reduce_dimension(dimension=\"bands\",reducer=compute_coherence_amplitude_VV)\n",
    "coh_VV = coh_VV.add_dimension(name=\"bands\",label=\"coh_vv_amp\")\n",
    "\n",
    "coh_VH = coh_numerator_denominator_VH.reduce_dimension(dimension=\"bands\",reducer=compute_coherence_amplitude_VH)\n",
    "coh_VH = coh_VH.add_dimension(name=\"bands\",label=\"coh_vh_amp\")"
   ]
  },
  {
   "cell_type": "markdown",
   "id": "9a569ef0-d4b3-4251-972e-0f0fbd8771a6",
   "metadata": {},
   "source": [
    "Merge VV and VH"
   ]
  },
  {
   "cell_type": "code",
   "execution_count": null,
   "id": "ae091c10-4487-4d70-9f55-3f2f6a372d7b",
   "metadata": {},
   "outputs": [],
   "source": [
    "coh_amplitude = coh_VH.merge_cubes(coh_VV)"
   ]
  },
  {
   "cell_type": "markdown",
   "id": "aa912031-bd24-412f-9bd8-492ff10a230c",
   "metadata": {},
   "source": [
    "Apply geocoding. We choose 20m resolution for the pixel size and the local UTM zone as projection.\n",
    "\n",
    "We can choose only from 10, 20 or 60m for resolution, for being able to align the data with Sentinel-2 grid.\n",
    "\n",
    "This process is not yet an official openEO process and therefore the syntax to apply it is not streamlined as with the other processes."
   ]
  },
  {
   "cell_type": "code",
   "execution_count": null,
   "id": "a3437019-67a7-40ec-b651-1823327a20b5",
   "metadata": {},
   "outputs": [],
   "source": [
    "lat_lon_grids = S1_slant_range.filter_bands([\"grid_lon\",\"grid_lat\"]).reduce_dimension(dimension=\"DATE\",reducer=\"mean\")\n",
    "lat_lon_grids = lat_lon_grids.aggregate_spatial_window(size=[range_looks,azimuth_looks],reducer=\"mean\")\n",
    "\n",
    "coh_amplitude = coh_amplitude.merge_cubes(lat_lon_grids)\n",
    "\n",
    "args_geocoding = {\"resolution\":resolution,\"crs\":crs}\n",
    "coh_amplitude_geocoded = coh_amplitude.process(\"geocode\",args_geocoding, data=coh_amplitude)\n",
    "\n",
    "coh_amplitude_geocoded_nc = coh_amplitude_geocoded.save_result(format=\"netCDF\")"
   ]
  },
  {
   "cell_type": "markdown",
   "id": "09e8c3e3-1287-41db-b87d-4e855f40904b",
   "metadata": {},
   "source": [
    "Create a batch job and start it"
   ]
  },
  {
   "cell_type": "code",
   "execution_count": null,
   "id": "4a790149-55cf-4a46-a6e2-74deca039c33",
   "metadata": {},
   "outputs": [],
   "source": [
    "job = conn.create_job(coh_amplitude_geocoded_nc,title=\"SAR2CUBE_ASC_coherence_12days\")\n",
    "job_id = job.job_id\n",
    "print(\"Batch job created with id: \",job_id)\n",
    "job.start_job()"
   ]
  },
  {
   "cell_type": "markdown",
   "id": "8424d994-aeeb-4cbb-bfb9-625c4177becc",
   "metadata": {},
   "source": [
    "Visualize the job status"
   ]
  },
  {
   "cell_type": "code",
   "execution_count": null,
   "id": "0139fdae-3aa0-4bb2-bfd6-a6f10679cd47",
   "metadata": {
    "tags": []
   },
   "outputs": [],
   "source": [
    "job = conn.job(job_id)\n",
    "job"
   ]
  },
  {
   "cell_type": "markdown",
   "id": "0374a789-be6a-40bc-a38a-95b9ee1c2193",
   "metadata": {},
   "source": [
    "Create the output folder to store the results:"
   ]
  },
  {
   "cell_type": "code",
   "execution_count": null,
   "id": "777af0b1-dbb4-4dce-8306-c9f92071aa9a",
   "metadata": {},
   "outputs": [],
   "source": [
    "import os\n",
    "result_dir_name = \"coherence_results\"\n",
    "if not os.path.exists(result_dir_name):\n",
    "    os.mkdir(result_dir_name)"
   ]
  },
  {
   "cell_type": "markdown",
   "id": "a867a893-18da-4d11-9bd1-21cbd05dba2e",
   "metadata": {},
   "source": [
    "Once the job is marked as finished, you can download the result.\n",
    "\n",
    "Either via the download link provided in the following visualization:"
   ]
  },
  {
   "cell_type": "code",
   "execution_count": null,
   "id": "b426217d-0001-4eb1-bb17-a2a05fc60d8f",
   "metadata": {},
   "outputs": [],
   "source": [
    "result = job.get_results()\n",
    "result"
   ]
  },
  {
   "cell_type": "markdown",
   "id": "f63e1d1a-06fb-4c48-9f3c-81ccde6116b8",
   "metadata": {},
   "source": [
    "Or via python code specifying the target location:"
   ]
  },
  {
   "cell_type": "code",
   "execution_count": null,
   "id": "45815ef1-8e39-453d-a931-b03f5ac98c1d",
   "metadata": {},
   "outputs": [],
   "source": [
    "result.download_files(result_dir_name + \"/\")"
   ]
  },
  {
   "cell_type": "markdown",
   "id": "0583b3dd-d7e4-48e0-a65a-580b6fbcb916",
   "metadata": {},
   "source": [
    "Loading the netCDF using xArray"
   ]
  },
  {
   "cell_type": "code",
   "execution_count": null,
   "id": "230c2b05-fbd6-43f0-89dd-72dd14e43e25",
   "metadata": {},
   "outputs": [],
   "source": [
    "result = xr.open_dataarray(result_dir_name + \"/result.nc\",decode_coords=\"all\")\n",
    "result"
   ]
  },
  {
   "cell_type": "markdown",
   "id": "b0003d7e-43e3-45d6-8b00-e20acbca362e",
   "metadata": {},
   "source": [
    "Visualize the result with matplotlib"
   ]
  },
  {
   "cell_type": "code",
   "execution_count": null,
   "id": "594a7384-d17d-499b-bf00-1dcb2e211fa2",
   "metadata": {},
   "outputs": [],
   "source": [
    "# plot_args = {'cmap':'Greys_r','add_colorbar':False}\n",
    "plot_args = {}\n",
    "fig, ax = plt.subplots(1,2,figsize=(15,5))\n",
    "result.loc[dict(variable=\"coh_vh_amp\")][0].plot.imshow(ax=ax[0],**plot_args, vmin=0,vmax=1)\n",
    "ax[0].set_title(\"VH COH for dates \" + str(result.loc[dict(variable=\"coh_vh_amp\")][\"time\"][0].values))\n",
    "result.loc[dict(variable=\"coh_vv_amp\")][0].plot.imshow(ax=ax[1],**plot_args, vmin=0,vmax=1)\n",
    "ax[1].set_title(\"VV COH for dates \" + str(result.loc[dict(variable=\"coh_vv_amp\")][\"time\"][0].values))\n",
    "plt.show()"
   ]
  },
  {
   "cell_type": "code",
   "execution_count": null,
   "id": "d3b25780-5575-432f-9ec6-b4b73abaf89c",
   "metadata": {},
   "outputs": [],
   "source": []
  }
 ],
 "metadata": {
  "kernelspec": {
   "display_name": "Python 3 (ipykernel)",
   "language": "python",
   "name": "python3"
  },
  "language_info": {
   "codemirror_mode": {
    "name": "ipython",
    "version": 3
   },
   "file_extension": ".py",
   "mimetype": "text/x-python",
   "name": "python",
   "nbconvert_exporter": "python",
   "pygments_lexer": "ipython3",
   "version": "3.10.11"
  }
 },
 "nbformat": 4,
 "nbformat_minor": 5
}
