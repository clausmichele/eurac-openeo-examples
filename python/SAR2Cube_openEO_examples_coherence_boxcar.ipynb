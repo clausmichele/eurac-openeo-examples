{
 "cells": [
  {
   "cell_type": "markdown",
   "id": "a6b245ba-1715-4287-8571-2560a8b0880e",
   "metadata": {},
   "source": [
    "<img src=\"https://gitlab.inf.unibz.it/earth_observation_public/eurac-openeo-examples/-/raw/main/python/aux_data/eurac_EO.png\"\n",
    "     alt=\"EURAC EO logo\"\n",
    "     style=\"float: left; margin-right: 10px; max-width: 300px\" />"
   ]
  },
  {
   "cell_type": "markdown",
   "id": "6faf58c1-2aa5-4a6d-9f4d-bd1f7941ce43",
   "metadata": {},
   "source": [
    "<img src=\"https://avatars.githubusercontent.com/u/63704085?s=400&u=5dc6c45b7d457ce6f303fbc612091cb2c133482f&v=4\"\n",
    "     alt=\"SAR2Cube logo\"\n",
    "     style=\"float: right; max-width: 200px\" />\n",
    "# SAR2Cube and openEO - Computing SAR Interferometric Coherence on-the-fly with a boxcar filter\n",
    "Author michele.claus@eurac.edu\n",
    "\n",
    "Date: 2023/01/09\n",
    "\n",
    "Updated: 2023/05/15"
   ]
  },
  {
   "cell_type": "markdown",
   "id": "b0f31cf0-02c3-419d-b85d-3213aaab7d80",
   "metadata": {
    "tags": []
   },
   "source": [
    "## Useful links:\n",
    "\n",
    "SAR2Cube website: https://sar2cube.projects.eurac.edu/\n",
    "\n",
    "openEO main website: https://openeo.org/\n",
    "\n",
    "openEO Python Client documentation: https://open-eo.github.io/openeo-python-client/index.html\n",
    "\n",
    "Getting started guide for openEO with python: https://openeo.org/documentation/1.0/python/"
   ]
  },
  {
   "cell_type": "markdown",
   "id": "135e8017-c8cf-42a0-9f28-990e80efb2c3",
   "metadata": {},
   "source": [
    "## Import all the libraries and utilities functions\n",
    "The ones included in the eo_utils.py file are needed for the ipyleaflet interactive map"
   ]
  },
  {
   "cell_type": "markdown",
   "id": "f2f5213a-2824-470b-b576-0017e7e08ab9",
   "metadata": {},
   "source": [
    "Please check to have the latest `openeo` library. Please check here for the latest available version: https://pypi.org/project/openeo/"
   ]
  },
  {
   "cell_type": "code",
   "execution_count": null,
   "id": "c8dd7f54-0915-46d7-86e4-1effc2c00dfc",
   "metadata": {},
   "outputs": [],
   "source": [
    "import os\n",
    "import openeo\n",
    "import xarray as xr\n",
    "import matplotlib.pyplot as plt\n",
    "try:\n",
    "    from eo_utils import *\n",
    "except Exception as e:\n",
    "    print(e)"
   ]
  },
  {
   "cell_type": "markdown",
   "id": "fd0781cb-38dc-4795-a39a-8a687f6a3fdb",
   "metadata": {},
   "source": [
    "### Connect and login"
   ]
  },
  {
   "cell_type": "code",
   "execution_count": null,
   "id": "a4fa0ed5-6678-4ca7-9442-c8521cfa0c90",
   "metadata": {
    "scrolled": true,
    "tags": []
   },
   "outputs": [],
   "source": [
    "openeoHost = \"https://openeo.eurac.edu\"\n",
    "conn = openeo.connect(openeoHost).authenticate_oidc(client_id=\"openEO_PKCE\")"
   ]
  },
  {
   "cell_type": "markdown",
   "id": "31e52859-5492-4a65-8fa4-10594a9dd58d",
   "metadata": {},
   "source": [
    "## SAR2Cube available data collections\n",
    "### Doñana Datacubes:\n",
    "Sentinel-1:\n",
    "```\n",
    "SAR2Cube_SInCohMap_S1_L0_147_ASC_DONYANA\n",
    "SAR2Cube_SInCohMap_S1_L0_154_DSC_DONYANA\n",
    "```\n",
    "Sentinel-2:\n",
    "```\n",
    "SInCohMap_S2_L1C_T29SQB\n",
    "```\n",
    "### South Tyrol Datacubes\n",
    "Sentinel-1:\n",
    "```\n",
    "SAR2Cube_SInCohMap_S1_L0_117_ASC_SOUTH_TYROL\n",
    "SAR2Cube_SInCohMap_S1_L0_168_DSC_SOUTH_TYROL\n",
    "```\n",
    "Sentinel-2:\n",
    "```\n",
    "S2_L1C_T32TPS\n",
    "```\n",
    "### Finland Datacubes\n",
    "Sentinel-1:\n",
    "```\n",
    "SAR2Cube_SInCohMap_S1_L0_80_DSC_FINLAND_AOI1\n",
    "SAR2Cube_SInCohMap_S1_L0_80_DSC_FINLAND_AOI2\n",
    "```"
   ]
  },
  {
   "cell_type": "markdown",
   "id": "be4ef929-4781-49fa-b913-e53b412c3a11",
   "metadata": {},
   "source": [
    "## Interferometric Coherence"
   ]
  },
  {
   "cell_type": "markdown",
   "id": "59041a11-ef74-49e4-b61e-320617f6c163",
   "metadata": {},
   "source": [
    "\n",
    "Firstly download a tiny subset of the datacube for the whole timeseries.\n",
    "\n",
    "With the downloaded netCDF we can extract the available dates and compute the master-slave pairs for the given temporal baseline."
   ]
  },
  {
   "cell_type": "markdown",
   "id": "8f7d95af-df23-4485-bb89-c379bfb66f33",
   "metadata": {},
   "source": [
    "**Please note: this step is not necessary since sample netCDFs with the vailable dates are already provided in the GitHub repo in the aux_data folder.**\n",
    "\n",
    "The available netCDFs containing the dates for the SInCohMap Sentinel-1 datacubes are:\n",
    "```\n",
    "./aux_data/Donyana_ASC_147_dates.nc\n",
    "./aux_data/Donyana_DSC_154_dates.nc\n",
    "./aux_data/Finland_AOI1_dates.nc\n",
    "./aux_data/Finland_AOI1_dates.nc\n",
    "./aux_data/South_Tyrol_DSC_168_dates.nc\n",
    "./aux_data/South_Tyrol_ASC_117_dates.nc\n",
    "```"
   ]
  },
  {
   "cell_type": "code",
   "execution_count": null,
   "id": "e3dc32be-a2ff-4e54-b938-ac91539bd34b",
   "metadata": {
    "scrolled": true
   },
   "outputs": [],
   "source": [
    "# conn = openeo.connect(openeoHost).authenticate_oidc(client_id=\"openEO_PKCE\")\n",
    "# spatial_extent  = {'west':-6.094129 ,'east':-6.091833 ,'south':37.115613 ,'north':37.117239}\n",
    "# collection      = 'SAR2Cube_SInCohMap_S1_L0_147_ASC_DONYANA'\n",
    "# # Not specifying the temporal extent will load the whole timeseries\n",
    "# bands = ['grid_lon','grid_lat']\n",
    "# S1_slant_range = conn.load_collection(collection,spatial_extent=spatial_extent,bands=bands)"
   ]
  },
  {
   "cell_type": "code",
   "execution_count": null,
   "id": "71f5d7bc-e073-4dc0-9b6f-e4467b9becab",
   "metadata": {},
   "outputs": [],
   "source": [
    "# %%time\n",
    "# S1_slant_range.download('./aux_data/Donyana_ASC_147_dates.nc')"
   ]
  },
  {
   "cell_type": "markdown",
   "id": "8e2d4998-3bad-4fdf-a6a6-c15df59a4629",
   "metadata": {
    "tags": []
   },
   "source": [
    "## AOI\n",
    "We usa a sample AOI over Doñana, Spain"
   ]
  },
  {
   "cell_type": "code",
   "execution_count": null,
   "id": "faceaf9f-1706-4b54-abcf-3b5b390ff063",
   "metadata": {},
   "outputs": [],
   "source": [
    "spatial_extent = {\"west\": -6.31,\"east\": -5.87,\"south\": 37.05,\"north\": 37.19}"
   ]
  },
  {
   "cell_type": "markdown",
   "id": "01de46ce-0347-4e90-a19f-2d1a4734dbf1",
   "metadata": {},
   "source": [
    "Compute the master-slave pairs for the given temporal baseline.\n",
    "\n",
    "Read the retrieved netCDF containing the timestamps:"
   ]
  },
  {
   "cell_type": "code",
   "execution_count": null,
   "id": "8500b0ba-07bc-47e3-8b8f-78ab51af20e6",
   "metadata": {
    "scrolled": true,
    "tags": []
   },
   "outputs": [],
   "source": [
    "dates_netcdf = xr.open_dataarray(\"./aux_data/Donyana_ASC_147_dates.nc\")\n",
    "print(dates_netcdf.time.values)"
   ]
  },
  {
   "cell_type": "markdown",
   "id": "6ba8d2d5-6248-4d4f-8769-c9b40068ba51",
   "metadata": {},
   "source": [
    "Coherence temporal baseline"
   ]
  },
  {
   "cell_type": "code",
   "execution_count": null,
   "id": "b8fb4412-e45d-4739-b315-e54e3c2054bb",
   "metadata": {},
   "outputs": [],
   "source": [
    "timedelta = 6"
   ]
  },
  {
   "cell_type": "markdown",
   "id": "4616c12c-d23c-43db-8d2e-c2bc333094fd",
   "metadata": {
    "tags": []
   },
   "source": [
    "We want to compute the coherence for a pair of dates in January 2018. (Please try a small temporal extent firstly)"
   ]
  },
  {
   "cell_type": "code",
   "execution_count": null,
   "id": "69790e01-92d4-478f-a3f1-f349dbe1d298",
   "metadata": {
    "tags": []
   },
   "outputs": [],
   "source": [
    "timesteps = dates_netcdf[\"time\"].loc[dict(time=slice(\"2018-01-27\",\"2018-02-03\"))].values\n",
    "print(\"First date available: \",timesteps[0])\n",
    "print(\"Last date available:  \",timesteps[-1])"
   ]
  },
  {
   "cell_type": "markdown",
   "id": "c3ab8662-fd9d-4472-b4df-c1a0e32b4e92",
   "metadata": {
    "tags": []
   },
   "source": [
    "We loop through the timesteps and check where we have 6 or 12 or ... days pairs of dates"
   ]
  },
  {
   "cell_type": "code",
   "execution_count": null,
   "id": "c7d293a1-33fd-44fb-9d6e-dff6d3944e08",
   "metadata": {
    "tags": []
   },
   "outputs": [],
   "source": [
    "dates_pair = []\n",
    "for i,t in enumerate(timesteps[:-1]):\n",
    "    for t2 in timesteps[i+1:]:\n",
    "        if(np.timedelta64(t2 - t, \"D\")) == np.timedelta64(timedelta,\"D\"):\n",
    "            dates_pair.append([t,t2])\n",
    "print(\"First date pair: \",dates_pair[0])\n",
    "print(\"Last date pair:  \",dates_pair[-1])"
   ]
  },
  {
   "cell_type": "markdown",
   "id": "71164283-2726-4ee7-90aa-90332cfef4b9",
   "metadata": {},
   "source": [
    "We define new temporal labels containing the master and slave dates:"
   ]
  },
  {
   "cell_type": "code",
   "execution_count": null,
   "id": "287cc93e-2bbf-4904-b454-d71d9a815dca",
   "metadata": {},
   "outputs": [],
   "source": [
    "mst_slv_temporal_labels = [ str(i[0])[:10] + \"_\" + str(i[1])[:10] for i in dates_pair]\n",
    "mst_slv_temporal_labels.reverse()\n",
    "print(\"The output will have a temporal label named like this: \",mst_slv_temporal_labels[0])"
   ]
  },
  {
   "cell_type": "markdown",
   "id": "a832b211-9b8d-4eae-ac44-dbd86eab8013",
   "metadata": {},
   "source": [
    "We now got the master-slave date pairs which will be used to compute the coherence."
   ]
  },
  {
   "cell_type": "markdown",
   "id": "d18c1d24-df5d-4901-b429-627fc3a0f89f",
   "metadata": {},
   "source": [
    "Now we define the utility functions for computing the complex coherence and then its amplitude.\n",
    "\n",
    "The coherence is defined as in the following formula:\n",
    "\n",
    "![coherence.gif](./aux_data/coherence.gif)\n",
    "\n",
    "Source: http://www.aha.ru/~geivanit/EEGmanual/Coherence.htm\n",
    "\n",
    "The next functions are the representation of the complex coherence formula using separate real and imaginary parts:\n"
   ]
  },
  {
   "cell_type": "code",
   "execution_count": null,
   "id": "511a8ab0-70bb-4874-a31f-4cdfe8bb5323",
   "metadata": {},
   "outputs": [],
   "source": [
    "from openeo.processes import ProcessBuilder, array_element\n",
    "\n",
    "def compute_real_part_numerator_VV(x:ProcessBuilder):\n",
    "    i_mst = array_element(x,label=\"i_VV_mst\")\n",
    "    q_mst = array_element(x,label=\"q_VV_mst\")\n",
    "    i_slv = array_element(x,label=\"i_VV_slv\")\n",
    "    q_slv = array_element(x,label=\"q_VV_slv\")\n",
    "    return (i_mst*i_slv + q_mst*q_slv)\n",
    "\n",
    "def compute_imag_part_numerator_VV(x:ProcessBuilder):\n",
    "    i_mst = array_element(x,label=\"i_VV_mst\")\n",
    "    q_mst = array_element(x,label=\"q_VV_mst\")\n",
    "    i_slv = array_element(x,label=\"i_VV_slv\")\n",
    "    q_slv = array_element(x,label=\"q_VV_slv\")\n",
    "    return (q_mst*i_slv - i_mst*q_slv)\n",
    "\n",
    "def compute_real_part_numerator_VH(x:ProcessBuilder):\n",
    "    i_mst = array_element(x,label=\"i_VH_mst\")\n",
    "    q_mst = array_element(x,label=\"q_VH_mst\")\n",
    "    i_slv = array_element(x,label=\"i_VH_slv\")\n",
    "    q_slv = array_element(x,label=\"q_VH_slv\")\n",
    "    return (i_mst*i_slv + q_mst*q_slv)\n",
    "\n",
    "def compute_imag_part_numerator_VH(x:ProcessBuilder):\n",
    "    i_mst = array_element(x,label=\"i_VH_mst\")\n",
    "    q_mst = array_element(x,label=\"q_VH_mst\")\n",
    "    i_slv = array_element(x,label=\"i_VH_slv\")\n",
    "    q_slv = array_element(x,label=\"q_VH_slv\")\n",
    "    return (q_mst*i_slv - i_mst*q_slv)\n",
    "\n",
    "def compute_mst_denominator_VV(x:ProcessBuilder):\n",
    "    i_mst = array_element(x,label=\"i_VV_mst\")\n",
    "    q_mst = array_element(x,label=\"q_VV_mst\")\n",
    "    return (i_mst**2+q_mst**2)\n",
    "\n",
    "def compute_slv_denominator_VV(x:ProcessBuilder):\n",
    "    i_slv = array_element(x,label=\"i_VV_slv\")\n",
    "    q_slv = array_element(x,label=\"q_VV_slv\")\n",
    "    return (i_slv**2+q_slv**2)\n",
    "\n",
    "def compute_mst_denominator_VH(x:ProcessBuilder):\n",
    "    i_mst = array_element(x,label=\"i_VH_mst\")\n",
    "    q_mst = array_element(x,label=\"q_VH_mst\")\n",
    "    return (i_mst**2+q_mst**2)\n",
    "\n",
    "def compute_slv_denominator_VH(x:ProcessBuilder):\n",
    "    i_slv = array_element(x,label=\"i_VH_slv\")\n",
    "    q_slv = array_element(x,label=\"q_VH_slv\")\n",
    "    return (i_slv**2+q_slv**2)\n",
    "\n",
    "def compute_coherence_amplitude_VV(x:ProcessBuilder):\n",
    "    q_num_VV = array_element(x,label=\"q_num_VV\")\n",
    "    i_num_VV = array_element(x,label=\"i_num_VV\")\n",
    "    mst_den = array_element(x,label=\"mst_den\")\n",
    "    slv_den = array_element(x,label=\"slv_den\")\n",
    "    \n",
    "    coh_i = i_num_VV / ((mst_den * slv_den + 1e-12)**0.5)\n",
    "    coh_q = q_num_VV / ((mst_den * slv_den + 1e-12)**0.5)\n",
    "    \n",
    "    return (coh_i**2+coh_q**2)**0.5\n",
    "\n",
    "def compute_coherence_amplitude_VH(x:ProcessBuilder):\n",
    "    q_num_VH = array_element(x,label=\"q_num_VH\")\n",
    "    i_num_VH = array_element(x,label=\"i_num_VH\")\n",
    "    mst_den = array_element(x,label=\"mst_den\")\n",
    "    slv_den = array_element(x,label=\"slv_den\")\n",
    "    \n",
    "    coh_i = i_num_VH / ((mst_den * slv_den + 1e-12)**0.5)\n",
    "    coh_q = q_num_VH / ((mst_den * slv_den + 1e-12)**0.5)\n",
    "    \n",
    "    return (coh_i**2+coh_q**2)**0.5"
   ]
  },
  {
   "cell_type": "markdown",
   "id": "e6f4bc23-bb5b-4679-8bb6-c29c50f95806",
   "metadata": {},
   "source": [
    "Coherence parameters:"
   ]
  },
  {
   "cell_type": "code",
   "execution_count": null,
   "id": "0da48941-a512-48f5-839f-0b930bafa981",
   "metadata": {},
   "outputs": [],
   "source": [
    "# Boxcar filter\n",
    "range_dim   = 19\n",
    "azimuth_dim = 4\n",
    "\n",
    "# Geocoding\n",
    "resolution = 10 # can be 10, 20 or 60 meters, it will be aligned with the Sentinel-2 grid\n",
    "crs = 32629\n",
    "\n",
    "# Datacube\n",
    "collection = \"SAR2Cube_SInCohMap_S1_L0_147_ASC_DONYANA\""
   ]
  },
  {
   "cell_type": "code",
   "execution_count": null,
   "id": "788d106b-dae4-427b-841e-b4937ab60c50",
   "metadata": {
    "scrolled": true,
    "tags": []
   },
   "outputs": [],
   "source": [
    "conn = openeo.connect(openeoHost).authenticate_oidc(client_id=\"openEO_PKCE\")\n",
    "bands = [\"grid_lon\",\"grid_lat\",\"i_VH\",\"q_VH\"]\n",
    "S1_slant_range = conn.load_collection(collection,spatial_extent=spatial_extent,bands=bands)\n",
    "\n",
    "# We use a loop over the dates we want to request and a combination of filter_temporal + merge_cubes to get only the dates we want:\n",
    "for i,date_pair in enumerate(dates_pair):\n",
    "    # The requested date until the day after, since openEO excludes the end date\n",
    "    mst_date = date_pair[0]\n",
    "    slv_date = date_pair[1]\n",
    "    mst_temporal_extent = [str(mst_date),str(mst_date + np.timedelta64(1, \"D\"))]\n",
    "    slv_temporal_extent = [str(slv_date),str(slv_date + np.timedelta64(1, \"D\"))]\n",
    "\n",
    "    if i == 0:\n",
    "        S1_slant_range_mst_bands = S1_slant_range.filter_temporal(mst_temporal_extent)\n",
    "        S1_slant_range_slv_bands = S1_slant_range.filter_temporal(slv_temporal_extent)\n",
    "    else:\n",
    "        S1_slant_range_mst_bands = S1_slant_range.filter_temporal(mst_temporal_extent).merge_cubes(S1_slant_range_mst_bands)\n",
    "        S1_slant_range_slv_bands = S1_slant_range.filter_temporal(slv_temporal_extent).merge_cubes(S1_slant_range_slv_bands)"
   ]
  },
  {
   "cell_type": "code",
   "execution_count": null,
   "id": "4f6d9028-214e-41b9-8896-a33b20b3f32e",
   "metadata": {},
   "outputs": [],
   "source": [
    "S1_slant_range_mst_bands = S1_slant_range_mst_bands.filter_bands([\"i_VH\",\"q_VH\"])\n",
    "S1_slant_range_slv_bands = S1_slant_range_slv_bands.filter_bands([\"i_VH\",\"q_VH\"])"
   ]
  },
  {
   "cell_type": "markdown",
   "id": "fdca418b-2b5f-4d13-a0c7-cd45d72deff8",
   "metadata": {},
   "source": [
    "We rename the temporal labels to facilitate the next steps of the coherence computation:"
   ]
  },
  {
   "cell_type": "code",
   "execution_count": null,
   "id": "aa5f350d-ebcf-4220-bbdf-9aaf29f6c59f",
   "metadata": {},
   "outputs": [],
   "source": [
    "S1_slant_range_mst_bands = S1_slant_range_mst_bands.rename_labels(dimension=\"DATE\",\n",
    "                                                                  target=mst_slv_temporal_labels)\n",
    "S1_slant_range_slv_bands = S1_slant_range_slv_bands.rename_labels(dimension=\"DATE\",\n",
    "                                                                  target=mst_slv_temporal_labels)"
   ]
  },
  {
   "cell_type": "markdown",
   "id": "7b0fed2b-4cff-4c21-bc22-35576a0139b7",
   "metadata": {},
   "source": [
    "We rename the bands according to the master/slave members"
   ]
  },
  {
   "cell_type": "code",
   "execution_count": null,
   "id": "81ec95a3-513b-476e-b09e-772c68c62c15",
   "metadata": {},
   "outputs": [],
   "source": [
    "S1_slant_range_mst_bands = S1_slant_range_mst_bands.rename_labels(dimension=\"bands\",\n",
    "                                                                  source=[\"i_VH\",\"q_VH\"],\n",
    "                                                                  target=[\"i_VH_mst\",\"q_VH_mst\"])\n",
    "S1_slant_range_slv_bands = S1_slant_range_slv_bands.rename_labels(dimension=\"bands\",\n",
    "                                                                  source=[\"i_VH\",\"q_VH\"],\n",
    "                                                                  target=[\"i_VH_slv\",\"q_VH_slv\"])"
   ]
  },
  {
   "cell_type": "markdown",
   "id": "b7486726-3cb8-401e-be0b-76ca3d2617e8",
   "metadata": {},
   "source": [
    "Merge the two datacubes into a single one"
   ]
  },
  {
   "cell_type": "code",
   "execution_count": null,
   "id": "4f363d43-f5bd-425b-b459-1d4827a20d3a",
   "metadata": {},
   "outputs": [],
   "source": [
    "S1_slant_range_mst_slv_bands = S1_slant_range_mst_bands.merge_cubes(S1_slant_range_slv_bands)"
   ]
  },
  {
   "cell_type": "markdown",
   "id": "f6365da3-9227-41e1-bcba-62ec7c5d97b0",
   "metadata": {},
   "source": [
    "Compute the coherence numerator for VH"
   ]
  },
  {
   "cell_type": "code",
   "execution_count": null,
   "id": "198403a8-5c71-4faf-95fc-a1d8960cba93",
   "metadata": {},
   "outputs": [],
   "source": [
    "i_numerator_VH = S1_slant_range_mst_slv_bands.reduce_dimension(dimension=\"bands\",\n",
    "                                                               reducer=compute_real_part_numerator_VH)\n",
    "q_numerator_VH = S1_slant_range_mst_slv_bands.reduce_dimension(dimension=\"bands\",\n",
    "                                                               reducer=compute_imag_part_numerator_VH)"
   ]
  },
  {
   "cell_type": "markdown",
   "id": "3e28883f-7a66-481b-817d-a6b1592747e6",
   "metadata": {},
   "source": [
    "Compute the coherence denominator"
   ]
  },
  {
   "cell_type": "code",
   "execution_count": null,
   "id": "1949bc46-c95b-4d44-86ac-80cc2a533352",
   "metadata": {},
   "outputs": [],
   "source": [
    "mst_denominator_VH = S1_slant_range_mst_slv_bands.reduce_dimension(dimension=\"bands\",\n",
    "                                                                   reducer=compute_mst_denominator_VH)\n",
    "slv_denominator_VH = S1_slant_range_mst_slv_bands.reduce_dimension(dimension=\"bands\",\n",
    "                                                                   reducer=compute_slv_denominator_VH)"
   ]
  },
  {
   "cell_type": "markdown",
   "id": "53ed0821-e9f6-4069-9017-9c36619b9f74",
   "metadata": {},
   "source": [
    "Merge all the bands"
   ]
  },
  {
   "cell_type": "code",
   "execution_count": null,
   "id": "80c3d8e6-023d-40ef-b033-4310bd8d28ef",
   "metadata": {},
   "outputs": [],
   "source": [
    "i_numerator_VH_with_dim = i_numerator_VH.add_dimension(type=\"bands\",name=\"bands\",label=\"i_num_VH\")\n",
    "q_numerator_VH_with_dim = q_numerator_VH.add_dimension(type=\"bands\",name=\"bands\",label=\"q_num_VH\")\n",
    "mst_denominator_VH_with_dim = mst_denominator_VH.add_dimension(type=\"bands\",name=\"bands\",label=\"mst_den\")\n",
    "slv_denominator_VH_with_dim = slv_denominator_VH.add_dimension(type=\"bands\",name=\"bands\",label=\"slv_den\")\n",
    "\n",
    "coh_numerator_denominator_VH = i_numerator_VH_with_dim.merge_cubes(q_numerator_VH_with_dim).merge_cubes(mst_denominator_VH_with_dim).merge_cubes(slv_denominator_VH_with_dim)"
   ]
  },
  {
   "cell_type": "markdown",
   "id": "757b1ff9-5187-4839-9a73-9e79a76aa14d",
   "metadata": {},
   "source": [
    "Apply boxcar filter using the `apply_kernel` openEO process. More info here: https://processes.openeo.org/#apply_kernel"
   ]
  },
  {
   "cell_type": "code",
   "execution_count": null,
   "id": "3f2c260a-6faa-48c1-bf8b-fa23d0609b55",
   "metadata": {},
   "outputs": [],
   "source": [
    "kernel = np.ones((range_dim,azimuth_dim))\n",
    "coh_numerator_denominator_VH_boxcar = coh_numerator_denominator_VH.apply_kernel(kernel=kernel,\n",
    "                                                                                factor=1/(range_dim*azimuth_dim),\n",
    "                                                                                border=\"reflect\")"
   ]
  },
  {
   "cell_type": "markdown",
   "id": "3b87e15a-3eb4-4d15-9e5c-4192a2c20097",
   "metadata": {},
   "source": [
    "Compute the coherence amplitude"
   ]
  },
  {
   "cell_type": "code",
   "execution_count": null,
   "id": "6728929b-9615-442c-82d1-993e5bf5b012",
   "metadata": {},
   "outputs": [],
   "source": [
    "coh_VH = coh_numerator_denominator_VH_boxcar.reduce_dimension(dimension=\"bands\",\n",
    "                                                              reducer=compute_coherence_amplitude_VH)\n",
    "coh_amplitude = coh_VH.add_dimension(name=\"bands\",\n",
    "                              label=\"coh_vh_amp\")"
   ]
  },
  {
   "cell_type": "markdown",
   "id": "aa912031-bd24-412f-9bd8-492ff10a230c",
   "metadata": {},
   "source": [
    "Apply geocoding. We choose 10m resolution for the pixel size and the local UTM zone as projection.\n",
    "\n",
    "We can choose only from 10, 20 or 60m for resolution, for being able to align the data with Sentinel-2 grid.\n",
    "\n",
    "This process is not yet an official openEO process and therefore the syntax to apply it is not streamlined as with the other processes."
   ]
  },
  {
   "cell_type": "code",
   "execution_count": null,
   "id": "961f3470-4d38-4a93-96c5-4263d0987176",
   "metadata": {},
   "outputs": [],
   "source": [
    "lat_lon_grids = S1_slant_range.filter_bands([\"grid_lon\",\"grid_lat\"]).reduce_dimension(dimension=\"DATE\",\n",
    "                                                                                      reducer=\"mean\")\n",
    "coh_amplitude = coh_amplitude.merge_cubes(lat_lon_grids)\n",
    "\n",
    "args_geocoding = {\"resolution\":resolution,\"crs\":crs}\n",
    "coh_amplitude_geocoded = coh_amplitude.process(\"geocode\",args_geocoding, data=coh_amplitude).reduce_dimension(dimension=\"DATE\",reducer=\"mean\")\n",
    "\n",
    "coh_amplitude_geocoded_tif = coh_amplitude_geocoded.save_result(format=\"GTIFF\")"
   ]
  },
  {
   "cell_type": "markdown",
   "id": "d44f8971-b001-4026-9322-d1265ec7ecba",
   "metadata": {},
   "source": [
    "Create a batch job and start it"
   ]
  },
  {
   "cell_type": "code",
   "execution_count": null,
   "id": "4a790149-55cf-4a46-a6e2-74deca039c33",
   "metadata": {},
   "outputs": [],
   "source": [
    "job = conn.create_job(coh_amplitude_geocoded_tif,title=\"SAR2CUBE_coherence_Donyana_ASC_boxcar_10m\")\n",
    "job_id = job.job_id\n",
    "print(\"Batch job created with id: \",job_id)\n",
    "job.start_job()"
   ]
  },
  {
   "cell_type": "markdown",
   "id": "0adeb51e-2bbe-45b7-815d-64562b15bcb8",
   "metadata": {},
   "source": [
    "Visualize the job status"
   ]
  },
  {
   "cell_type": "code",
   "execution_count": null,
   "id": "0139fdae-3aa0-4bb2-bfd6-a6f10679cd47",
   "metadata": {
    "tags": []
   },
   "outputs": [],
   "source": [
    "job = conn.job(job_id)\n",
    "job"
   ]
  },
  {
   "cell_type": "markdown",
   "id": "0374a789-be6a-40bc-a38a-95b9ee1c2193",
   "metadata": {},
   "source": [
    "Create the output folder to store the results:"
   ]
  },
  {
   "cell_type": "code",
   "execution_count": null,
   "id": "777af0b1-dbb4-4dce-8306-c9f92071aa9a",
   "metadata": {},
   "outputs": [],
   "source": [
    "import os\n",
    "result_dir_name = \"coherence_results_ML\"\n",
    "if not os.path.exists(result_dir_name):\n",
    "    os.mkdir(result_dir_name)"
   ]
  },
  {
   "cell_type": "markdown",
   "id": "a867a893-18da-4d11-9bd1-21cbd05dba2e",
   "metadata": {},
   "source": [
    "Once the job is marked as finished, you can download the result.\n",
    "\n",
    "Either via the download link provided in the following visualization:"
   ]
  },
  {
   "cell_type": "code",
   "execution_count": null,
   "id": "b426217d-0001-4eb1-bb17-a2a05fc60d8f",
   "metadata": {},
   "outputs": [],
   "source": [
    "result = job.get_results()\n",
    "result"
   ]
  },
  {
   "cell_type": "markdown",
   "id": "f63e1d1a-06fb-4c48-9f3c-81ccde6116b8",
   "metadata": {},
   "source": [
    "Or via python code specifying the target location:"
   ]
  },
  {
   "cell_type": "code",
   "execution_count": null,
   "id": "45815ef1-8e39-453d-a931-b03f5ac98c1d",
   "metadata": {},
   "outputs": [],
   "source": [
    "result.download_files(result_dir_name + '/')"
   ]
  },
  {
   "cell_type": "markdown",
   "id": "9c1fd69b-ec42-4f43-9988-46c8283c8526",
   "metadata": {},
   "source": [
    "Loading the geoTiff using rioxarray"
   ]
  },
  {
   "cell_type": "code",
   "execution_count": null,
   "id": "230c2b05-fbd6-43f0-89dd-72dd14e43e25",
   "metadata": {},
   "outputs": [],
   "source": [
    "result = rioxarray.open_rasterio(result_dir_name + \"/result.tiff\")\n",
    "result"
   ]
  },
  {
   "cell_type": "markdown",
   "id": "8480b9b4-6899-4459-ba31-c90c7e8e63a3",
   "metadata": {},
   "source": [
    "Visualize the result with matplotlib"
   ]
  },
  {
   "cell_type": "code",
   "execution_count": null,
   "id": "74e245c6-5d69-42ac-b577-8307dc700289",
   "metadata": {},
   "outputs": [],
   "source": [
    "result[0].plot.imshow(vmin=0,vmax=1)"
   ]
  },
  {
   "cell_type": "markdown",
   "id": "b2fca01e-7698-4925-b4eb-00e8f3a0d78a",
   "metadata": {},
   "source": [
    "Visualize the result with ipyleaflet interactively"
   ]
  },
  {
   "cell_type": "code",
   "execution_count": null,
   "id": "778b12d5-408a-41a4-885f-fea0a9a38e87",
   "metadata": {},
   "outputs": [],
   "source": [
    "center = [37.1, -6]\n",
    "zoom = 12\n",
    "\n",
    "eoMap = openeoMap(center,zoom)\n",
    "addLayer(eoMap,\"./coherence_results_ML/result.tiff\",\"VH_COH_10m\",clip=[0,1])\n",
    "eoMap.map"
   ]
  }
 ],
 "metadata": {
  "kernelspec": {
   "display_name": "Python 3 (ipykernel)",
   "language": "python",
   "name": "python3"
  },
  "language_info": {
   "codemirror_mode": {
    "name": "ipython",
    "version": 3
   },
   "file_extension": ".py",
   "mimetype": "text/x-python",
   "name": "python",
   "nbconvert_exporter": "python",
   "pygments_lexer": "ipython3",
   "version": "3.10.11"
  }
 },
 "nbformat": 4,
 "nbformat_minor": 5
}
