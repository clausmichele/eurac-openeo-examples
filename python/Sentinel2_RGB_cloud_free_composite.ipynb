{
 "cells": [
  {
   "cell_type": "markdown",
   "id": "eb104f48-3940-40c3-84c2-4a3aa20985db",
   "metadata": {},
   "source": [
    "<img src=\"./auxdata/eurac_EO.png\" alt=\"EURAC Institute for Earth Observation\" title=\"EURAC Institute for Earth Observation\" width=\"300\"/>"
   ]
  },
  {
   "cell_type": "markdown",
   "id": "77d58f63-6b56-4ebc-8180-e9b6febbdca7",
   "metadata": {},
   "source": [
    "In this notebook we will use openEO to generate a cloud free RGB composite based on Sentinel-2 data."
   ]
  },
  {
   "cell_type": "code",
   "execution_count": 164,
   "id": "b626f71c-beb4-4944-a2fd-f372c98ec1f1",
   "metadata": {},
   "outputs": [],
   "source": [
    "import openeo\n",
    "import csv\n",
    "import pandas as pd\n",
    "from openeo.rest.datacube import PGNode, THIS\n",
    "from openeo.processes import mean, eq, median, or_, array_element, clip\n",
    "import xarray as xr\n",
    "from pyproj import Proj, transform, Transformer, CRS"
   ]
  },
  {
   "cell_type": "markdown",
   "id": "61263240-715c-400b-98b6-d560a3e3785e",
   "metadata": {},
   "source": [
    "Tile of interest"
   ]
  },
  {
   "cell_type": "code",
   "execution_count": 9,
   "id": "13cf86f7-f1ea-4d84-a1ae-e7ecfc8004b0",
   "metadata": {},
   "outputs": [],
   "source": [
    "tile_of_interest = \"32TPS\""
   ]
  },
  {
   "cell_type": "markdown",
   "id": "67317804-4376-4a4f-84a3-6e24f978f4ca",
   "metadata": {},
   "source": [
    "Get the UTM extent of the tile we are interested in, e.g. 32TPS"
   ]
  },
  {
   "cell_type": "code",
   "execution_count": 98,
   "id": "734511c0-b4b0-4339-b085-d049f8895305",
   "metadata": {},
   "outputs": [
    {
     "data": {
      "text/plain": [
       "32632"
      ]
     },
     "execution_count": 98,
     "metadata": {},
     "output_type": "execute_result"
    }
   ],
   "source": [
    "s2gridpath = './auxdata/tabularize_s2_footprint.csv'\n",
    "s2grid = pd.read_csv(s2gridpath, sep=',')\n",
    "tile_description = s2grid.loc[s2grid[\"tile_id\"]==tile_of_interest]\n",
    "epsg = tile_description['epsg'].item()"
   ]
  },
  {
   "cell_type": "markdown",
   "id": "6512cc4c-bff6-4392-a101-8fa7cce906d1",
   "metadata": {},
   "source": [
    "Get the bounding box of the tile. Each UTM tile has an extent of 109800 meters along x and y."
   ]
  },
  {
   "cell_type": "code",
   "execution_count": 11,
   "id": "a9522b8e-03df-4331-98cd-60c2113ad211",
   "metadata": {},
   "outputs": [],
   "source": [
    "ul_x = tile_description[\"ul_x\"].values[0]\n",
    "ul_y = tile_description[\"ul_y\"].values[0]\n",
    "ll_x = ul_x + 109800\n",
    "ll_y = ul_y - 109800"
   ]
  },
  {
   "cell_type": "code",
   "execution_count": 99,
   "id": "fb2ec7ec-6b0d-4030-bec4-3a365c572939",
   "metadata": {},
   "outputs": [],
   "source": [
    "points_x = [ul_x, ll_x]\n",
    "points_y = [ul_y, ll_y]\n",
    "transformer = Transformer.from_crs(epsg, 4326)\n",
    "points_lat,points_lon = transformer.transform(points_x,points_y)"
   ]
  },
  {
   "cell_type": "markdown",
   "id": "bae6c95f-6e11-4fd0-8af0-af23523a3294",
   "metadata": {},
   "source": [
    "Connect to the EURAC openEO back-end"
   ]
  },
  {
   "cell_type": "code",
   "execution_count": 128,
   "id": "ddb27029-5aaf-48ce-810e-d8491058b6bc",
   "metadata": {},
   "outputs": [
    {
     "name": "stdout",
     "output_type": "stream",
     "text": [
      "Authenticated using refresh token.\n"
     ]
    }
   ],
   "source": [
    "euracEndpoint = \"https://openeo.eurac.edu\"\n",
    "conn = openeo.connect(euracEndpoint).authenticate_oidc(client_id=\"openEO_PKCE\")"
   ]
  },
  {
   "cell_type": "markdown",
   "id": "40b5bae0-2635-41f2-af1e-b066b3962c14",
   "metadata": {},
   "source": [
    "Set the temporal extent we want to consider"
   ]
  },
  {
   "cell_type": "code",
   "execution_count": 129,
   "id": "c8643ddb-e119-4bc6-a365-819a31004241",
   "metadata": {},
   "outputs": [],
   "source": [
    "temporal_extent = [\"2017-06-01\",\"2017-07-01\"]"
   ]
  },
  {
   "cell_type": "markdown",
   "id": "a677ddeb-0b30-4dcf-8fea-2579f7c4bf5c",
   "metadata": {},
   "source": [
    "Set the spatial extent of the tile based on the extracted bounds"
   ]
  },
  {
   "cell_type": "code",
   "execution_count": 130,
   "id": "b3e90e70-a80a-4c56-b530-d12d399dedac",
   "metadata": {},
   "outputs": [],
   "source": [
    "spatial_extent = {'west':points_lon[0],'east':points_lon[1],'north':points_lat[0],'south':points_lat[1]}"
   ]
  },
  {
   "cell_type": "markdown",
   "id": "4b73930a-e47e-4536-8387-0bd12745e662",
   "metadata": {},
   "source": [
    "Set the collection name for the Sentinel-2 data"
   ]
  },
  {
   "cell_type": "code",
   "execution_count": 131,
   "id": "52b84965-de93-497b-a048-822af4c9195f",
   "metadata": {},
   "outputs": [],
   "source": [
    "S2_collection = 'S2_L1C_T32TPS'"
   ]
  },
  {
   "cell_type": "markdown",
   "id": "2bf361af-1126-4c01-b6dc-3a2909209b3e",
   "metadata": {},
   "source": [
    "Set the bands we want to load"
   ]
  },
  {
   "cell_type": "code",
   "execution_count": 135,
   "id": "dafa3994-8794-42b7-b1fe-1de222ab3196",
   "metadata": {},
   "outputs": [],
   "source": [
    "bands = ['B02','B03','B04','FMASK']"
   ]
  },
  {
   "cell_type": "markdown",
   "id": "3fc92a2b-4928-44d4-b264-c23b47e1dc33",
   "metadata": {},
   "source": [
    "Load the S2 data:"
   ]
  },
  {
   "cell_type": "code",
   "execution_count": 150,
   "id": "65643637-6f6f-4e41-b3b3-839f002b8c8d",
   "metadata": {},
   "outputs": [],
   "source": [
    "S2_data = conn.load_collection(S2_collection,temporal_extent=temporal_extent,bands=bands).filter_bbox(spatial_extent)"
   ]
  },
  {
   "cell_type": "markdown",
   "id": "7e4f7242-87fd-4c0e-997d-965d4800ceb2",
   "metadata": {},
   "source": [
    "We need to mask out (setting it to not a number) the zero values, i.e. where there is no data."
   ]
  },
  {
   "cell_type": "code",
   "execution_count": 159,
   "id": "15359487-56e1-4714-a2d1-80e35ff688a4",
   "metadata": {},
   "outputs": [],
   "source": [
    "data_mask = S2_data.filter_bands('B04').reduce_dimension(dimension=\"bands\",reducer = lambda value: eq(array_element(value,0),0))\n",
    "S2_L1C_masked = S2_data.mask(data_mask)"
   ]
  },
  {
   "cell_type": "markdown",
   "id": "31dc58b9-e2f3-40a9-8236-b06adecb2c6b",
   "metadata": {},
   "source": [
    "We create a mask for clouds (FMASK == 4) and cloud shadows (FMASK == 2)."
   ]
  },
  {
   "cell_type": "code",
   "execution_count": 151,
   "id": "4b6d5794-2463-4f70-96f8-e11503d71413",
   "metadata": {},
   "outputs": [],
   "source": [
    "cloud_mask = S2_data.filter_bands('FMASK').reduce_dimension(dimension=\"bands\",reducer = lambda value: or_(eq(array_element(value,0),2),eq(array_element(value,0),4)))"
   ]
  },
  {
   "cell_type": "markdown",
   "id": "b2f0aac0-7190-4cec-90d8-ffba5bcab34c",
   "metadata": {},
   "source": [
    "Apply the mask to the S2 data"
   ]
  },
  {
   "cell_type": "code",
   "execution_count": 160,
   "id": "fa717fdf-24f4-4baa-b393-3f7e23666eb0",
   "metadata": {},
   "outputs": [],
   "source": [
    "S2_L1C_masked = S2_L1C_masked.filter_bands(['B02','B03','B04']).mask(cloud_mask)"
   ]
  },
  {
   "cell_type": "markdown",
   "id": "aec23115-2c02-4734-ada6-b643a0df166b",
   "metadata": {},
   "source": [
    "Compute the median over time"
   ]
  },
  {
   "cell_type": "code",
   "execution_count": 161,
   "id": "601fd674-acca-4752-a0c7-2d492e33cbb3",
   "metadata": {},
   "outputs": [],
   "source": [
    "S2_data_masked_median = S2_L1C_masked.reduce_dimension(dimension='DATE',reducer=median)"
   ]
  },
  {
   "cell_type": "markdown",
   "id": "9fb5a0da-6107-4569-8f56-93a79e453d20",
   "metadata": {},
   "source": [
    "Clip the data between 0 and 1800 for a better visualization"
   ]
  },
  {
   "cell_type": "code",
   "execution_count": 165,
   "id": "7becf739-a056-41c5-ad25-3bcf92ba734b",
   "metadata": {},
   "outputs": [],
   "source": [
    "S2_data_masked_median_clipped = S2_data_masked_median.apply(lambda value: value.clip(0,1800))"
   ]
  },
  {
   "cell_type": "markdown",
   "id": "7be6a0b6-9d0b-4d5b-b475-94f160f48e0d",
   "metadata": {},
   "source": [
    "Save the result as netCDF"
   ]
  },
  {
   "cell_type": "code",
   "execution_count": 166,
   "id": "ff9af9a1-e016-4ece-abde-bca766d35891",
   "metadata": {},
   "outputs": [],
   "source": [
    "S2_data_masked_median_nc = S2_data_masked_median_clipped.save_result(format='netCDF')"
   ]
  },
  {
   "cell_type": "markdown",
   "id": "9b8f614b-07df-43dc-87aa-89ee9e7d8fd8",
   "metadata": {},
   "source": [
    "Start a batch job and wait until it is marked as finished"
   ]
  },
  {
   "cell_type": "code",
   "execution_count": 167,
   "id": "d6aaf36e-72fd-4229-9138-4349f9be42e3",
   "metadata": {},
   "outputs": [
    {
     "name": "stdout",
     "output_type": "stream",
     "text": [
      "Batch job created with id:  26a41da1-d483-4ade-98b5-e0c13a753518\n"
     ]
    }
   ],
   "source": [
    "job_title = 'S2_L1C_RGB_cloud_free_composite4'\n",
    "job = conn.create_job(S2_data_masked_median_nc,title=job_title)\n",
    "job_id = job.job_id\n",
    "if job_id:\n",
    "    print('Batch job created with id: ',job_id)\n",
    "    job.start_job()\n",
    "else:\n",
    "    print('Error! Job ID is None')"
   ]
  },
  {
   "cell_type": "code",
   "execution_count": 170,
   "id": "e851dc2b-0a0c-4509-8d93-d53b6d91a9c8",
   "metadata": {},
   "outputs": [
    {
     "data": {
      "text/html": [
       "\n",
       "    <script>\n",
       "    if (!window.customElements || !window.customElements.get('openeo-job')) {\n",
       "        var el = document.createElement('script');\n",
       "        el.src = \"https://cdn.jsdelivr.net/npm/@openeo/vue-components@2/assets/openeo.min.js\";\n",
       "        document.head.appendChild(el);\n",
       "\n",
       "        var font = document.createElement('font');\n",
       "        font.as = \"font\";\n",
       "        font.type = \"font/woff2\";\n",
       "        font.crossOrigin = true;\n",
       "        font.href = \"https://use.fontawesome.com/releases/v5.13.0/webfonts/fa-solid-900.woff2\"\n",
       "        document.head.appendChild(font);\n",
       "    }\n",
       "    </script>\n",
       "    <openeo-job>\n",
       "        <script type=\"application/json\">{\"currency\": null, \"job\": {\"id\": \"26a41da1-d483-4ade-98b5-e0c13a753518\", \"ownerPrincipal\": \"michele.claus@eurac.edu\", \"title\": \"S2_L1C_RGB_cloud_free_composite4\", \"description\": null, \"process\": {\"process_graph\": {\"filterbbox1\": {\"process_id\": \"filter_bbox\", \"arguments\": {\"extent\": {\"east\": 11.706254333033245, \"south\": 45.93349650441821, \"north\": 46.94616825350531, \"west\": 10.314035280367841}, \"data\": {\"from_node\": \"loadcollection1\"}}}, \"apply1\": {\"process_id\": \"apply\", \"arguments\": {\"process\": {\"process_graph\": {\"clip1\": {\"result\": true, \"process_id\": \"clip\", \"arguments\": {\"min\": 0, \"max\": 1800, \"x\": {\"from_parameter\": \"x\"}}}}}, \"data\": {\"from_node\": \"reducedimension3\"}}}, \"loadcollection1\": {\"process_id\": \"load_collection\", \"arguments\": {\"temporal_extent\": [\"2017-06-01\", \"2017-07-01\"], \"id\": \"S2_L1C_T32TPS\", \"bands\": [\"B02\", \"B03\", \"B04\", \"FMASK\"]}}, \"mask1\": {\"process_id\": \"mask\", \"arguments\": {\"data\": {\"from_node\": \"filterbbox1\"}, \"mask\": {\"from_node\": \"reducedimension1\"}}}, \"filterbands3\": {\"process_id\": \"filter_bands\", \"arguments\": {\"data\": {\"from_node\": \"filterbbox1\"}, \"bands\": [\"FMASK\"]}}, \"reducedimension2\": {\"process_id\": \"reduce_dimension\", \"arguments\": {\"data\": {\"from_node\": \"filterbands3\"}, \"reducer\": {\"process_graph\": {\"arrayelement3\": {\"process_id\": \"array_element\", \"arguments\": {\"data\": {\"from_parameter\": \"data\"}, \"index\": 0}}, \"eq3\": {\"process_id\": \"eq\", \"arguments\": {\"x\": {\"from_node\": \"arrayelement3\"}, \"y\": 4}}, \"eq2\": {\"process_id\": \"eq\", \"arguments\": {\"x\": {\"from_node\": \"arrayelement2\"}, \"y\": 2}}, \"arrayelement2\": {\"process_id\": \"array_element\", \"arguments\": {\"data\": {\"from_parameter\": \"data\"}, \"index\": 0}}, \"or1\": {\"result\": true, \"process_id\": \"or\", \"arguments\": {\"x\": {\"from_node\": \"eq2\"}, \"y\": {\"from_node\": \"eq3\"}}}}}, \"dimension\": \"bands\"}}, \"filterbands2\": {\"process_id\": \"filter_bands\", \"arguments\": {\"data\": {\"from_node\": \"mask1\"}, \"bands\": [\"B02\", \"B03\", \"B04\"]}}, \"reducedimension3\": {\"process_id\": \"reduce_dimension\", \"arguments\": {\"data\": {\"from_node\": \"mask2\"}, \"reducer\": {\"process_graph\": {\"median1\": {\"result\": true, \"process_id\": \"median\", \"arguments\": {\"data\": {\"from_parameter\": \"data\"}}}}}, \"dimension\": \"DATE\"}}, \"saveresult1\": {\"result\": true, \"process_id\": \"save_result\", \"arguments\": {\"data\": {\"from_node\": \"apply1\"}, \"format\": \"netCDF\", \"options\": {}}}, \"reducedimension1\": {\"process_id\": \"reduce_dimension\", \"arguments\": {\"data\": {\"from_node\": \"filterbands1\"}, \"reducer\": {\"process_graph\": {\"eq1\": {\"result\": true, \"process_id\": \"eq\", \"arguments\": {\"x\": {\"from_node\": \"arrayelement1\"}, \"y\": 0}}, \"arrayelement1\": {\"process_id\": \"array_element\", \"arguments\": {\"data\": {\"from_parameter\": \"data\"}, \"index\": 0}}}}, \"dimension\": \"bands\"}}, \"mask2\": {\"process_id\": \"mask\", \"arguments\": {\"data\": {\"from_node\": \"filterbands2\"}, \"mask\": {\"from_node\": \"reducedimension2\"}}}, \"filterbands1\": {\"process_id\": \"filter_bands\", \"arguments\": {\"data\": {\"from_node\": \"filterbbox1\"}, \"bands\": [\"B04\"]}}}}, \"status\": \"finished\", \"progress\": 100.0, \"created\": \"2022-04-22T14:18:47.935Z\", \"updated\": \"2022-04-22T14:20:38.375Z\", \"plan\": \"free\", \"costs\": null, \"budget\": null, \"engine\": \"ODC_DASK\"}}</script>\n",
       "    </openeo-job>\n",
       "    "
      ],
      "text/plain": [
       "<RESTJob job_id='26a41da1-d483-4ade-98b5-e0c13a753518'>"
      ]
     },
     "execution_count": 170,
     "metadata": {},
     "output_type": "execute_result"
    }
   ],
   "source": [
    "job = conn.job(job_id)\n",
    "job"
   ]
  },
  {
   "cell_type": "code",
   "execution_count": 76,
   "id": "742cc404-3bbd-4708-bd52-9c58f55d3a0d",
   "metadata": {},
   "outputs": [
    {
     "data": {
      "text/plain": [
       "[PosixPath('results/process.json'), PosixPath('results/result.nc')]"
      ]
     },
     "execution_count": 76,
     "metadata": {},
     "output_type": "execute_result"
    }
   ],
   "source": [
    "results = job.get_results()\n",
    "results.download_files('./results/')"
   ]
  }
 ],
 "metadata": {
  "kernelspec": {
   "display_name": "Python 3",
   "language": "python",
   "name": "python3"
  },
  "language_info": {
   "codemirror_mode": {
    "name": "ipython",
    "version": 3
   },
   "file_extension": ".py",
   "mimetype": "text/x-python",
   "name": "python",
   "nbconvert_exporter": "python",
   "pygments_lexer": "ipython3",
   "version": "3.7.10"
  }
 },
 "nbformat": 4,
 "nbformat_minor": 5
}
