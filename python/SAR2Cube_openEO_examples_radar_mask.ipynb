{
 "cells": [
  {
   "cell_type": "markdown",
   "id": "0506dd9c-b268-4574-8020-62b26db7d761",
   "metadata": {},
   "source": [
    "<img src=\"https://gitlab.inf.unibz.it/earth_observation_public/eurac-openeo-examples/-/raw/main/python/aux_data/eurac_EO.png\"\n",
    "     alt=\"EURAC EO logo\"\n",
    "     style=\"float: left; margin-right: 10px; max-width: 300px\" />"
   ]
  },
  {
   "cell_type": "markdown",
   "id": "faeb9b21-7c72-47c3-a860-99ba4165fcaf",
   "metadata": {},
   "source": [
    "<img src=\"https://avatars.githubusercontent.com/u/63704085?s=400&u=5dc6c45b7d457ce6f303fbc612091cb2c133482f&v=4\"\n",
    "     alt=\"SAR2Cube logo\"\n",
    "     style=\"float: right; max-width: 200px\" />\n",
    "# SAR2Cube and openEO - Accessing and Analyzing SAR data on-the-fly\n",
    "Author michele.claus@eurac.edu\n",
    "\n",
    "Date: 2022/09/29\n",
    "\n",
    "Updated: 2023/05/15"
   ]
  },
  {
   "cell_type": "markdown",
   "id": "41778cac-5cf2-475e-80ec-6bd4d5dcc7f0",
   "metadata": {},
   "source": [
    "## Useful links:\n",
    "\n",
    "SAR2Cube website: https://sar2cube.projects.eurac.edu/\n",
    "\n",
    "openEO main website: https://openeo.org/\n",
    "\n",
    "openEO Python Client documentation: https://open-eo.github.io/openeo-python-client/index.html\n",
    "\n",
    "Getting started guide for openEO with python: https://openeo.org/documentation/1.0/python/\n",
    "\n",
    "## Topics:\n",
    "- Login to Eurac's openEO backend containing the SAR2Cube data sets\n",
    "- Compute the intensity over the area of interest with different Multi Look sizes in SAR and geocoded domain\n",
    "- Apply the radar mask to remove areas affected by layover, foreshortening or shadow effects"
   ]
  },
  {
   "cell_type": "markdown",
   "id": "b6fd5eda-1593-4370-ab54-96382cbee356",
   "metadata": {},
   "source": [
    "## Import all the libraries and utilities functions\n",
    "The ones included in the eo_utils.py file are needed for the ipyleaflet interactive map"
   ]
  },
  {
   "cell_type": "markdown",
   "id": "63f3778a-4b96-435f-b905-217b72899495",
   "metadata": {},
   "source": [
    "Please check to have the latest `openeo` library. Please check here for the latest available version: https://pypi.org/project/openeo/"
   ]
  },
  {
   "cell_type": "code",
   "execution_count": null,
   "id": "1d1f1e1c-0adc-4176-8c37-86fda7b2d2fa",
   "metadata": {},
   "outputs": [],
   "source": [
    "import os\n",
    "import openeo\n",
    "import xarray as xr\n",
    "import matplotlib.pyplot as plt\n",
    "try:\n",
    "    from eo_utils import *\n",
    "except Exception as e:\n",
    "    print(e)"
   ]
  },
  {
   "cell_type": "markdown",
   "id": "e600d41f-b6c7-4335-9f68-0ee97061d18a",
   "metadata": {},
   "source": [
    "## Connect and login"
   ]
  },
  {
   "cell_type": "code",
   "execution_count": null,
   "id": "701a23e4-9c53-43f0-ab8d-bb0995fc85bf",
   "metadata": {},
   "outputs": [],
   "source": [
    "openeoHost = \"https://openeo.eurac.edu\"\n",
    "conn = openeo.connect(openeoHost).authenticate_oidc(client_id=\"openEO_PKCE\")"
   ]
  },
  {
   "cell_type": "markdown",
   "id": "69900d9e-53c1-4b0b-8dc8-8e49ed630596",
   "metadata": {},
   "source": [
    "## SAR processing\n",
    "\n",
    "We load an openEO collection containing pre-processed Sentinel-1 SLC data. It contains real and imaginary parts of each polarization, the longitude and latitude grids used for geocoding, LIA and DEM used for radar masking."
   ]
  },
  {
   "cell_type": "code",
   "execution_count": null,
   "id": "7cf96916-df0f-48c0-a989-ab148dd77369",
   "metadata": {},
   "outputs": [],
   "source": [
    "conn.describe_collection(\"SAR2Cube_SInCohMap_S1_L0_117_ASC_SOUTH_TYROL\")"
   ]
  },
  {
   "cell_type": "markdown",
   "id": "3e0bdc68-f01d-412b-a89a-62fb97133c16",
   "metadata": {},
   "source": [
    "## Select the AOI\n",
    "Use the rectangle selection tool to select the area of interest.\n",
    "\n",
    "If it does not work, it means that some library is missing and the functions contained in `eo_utils.py` could not be loaded.\n",
    "\n",
    "Uncomment the line defining `spatial_extent` to use a predefined area instead."
   ]
  },
  {
   "cell_type": "code",
   "execution_count": null,
   "id": "32981512-fe61-4455-b8ec-39e5ed51d507",
   "metadata": {},
   "outputs": [],
   "source": [
    "center = [46.5, 11.4]\n",
    "zoom = 12\n",
    "\n",
    "eoMap = openeoMap(center,zoom)\n",
    "eoMap.map"
   ]
  },
  {
   "cell_type": "code",
   "execution_count": null,
   "id": "cd2354ac-ce87-4a4b-95c8-aa8246187e21",
   "metadata": {
    "scrolled": true
   },
   "outputs": [],
   "source": [
    "bbox = eoMap.getBbox()\n",
    "print(\"Coordinates selected from map:\",\"\\n west\",bbox[0],\"\\n east\",bbox[2],\"\\n south\",bbox[1],\"\\n north\",bbox[3])"
   ]
  },
  {
   "cell_type": "markdown",
   "id": "a401ea5c-7c6c-40e8-bb4e-a133156f9f32",
   "metadata": {},
   "source": [
    "## SAR processing"
   ]
  },
  {
   "cell_type": "markdown",
   "id": "a1a06e33-674d-4890-a3d9-be0d06c54ceb",
   "metadata": {},
   "source": [
    "\n",
    "### Load the datacube"
   ]
  },
  {
   "cell_type": "code",
   "execution_count": null,
   "id": "d0775a26-949c-4210-b737-27786a8490f1",
   "metadata": {
    "scrolled": true
   },
   "outputs": [],
   "source": [
    "conn = openeo.connect(openeoHost).authenticate_oidc(client_id='openEO_PKCE')\n",
    "\n",
    "collection      = 'SAR2Cube_SInCohMap_S1_L0_117_ASC_SOUTH_TYROL'\n",
    "temporal_extent = ['2018-06-01T00:00:00.000Z', '2018-06-30T00:00:00.000Z']\n",
    "spatial_extent = {\"west\": 11.259613, \"east\": 11.406212, \"south\": 46.461019, \"north\": 46.522237}\n",
    "\n",
    "S1_slant_range = conn.load_collection(collection,spatial_extent=spatial_extent,temporal_extent=temporal_extent)"
   ]
  },
  {
   "cell_type": "markdown",
   "id": "a1d95578-e9bd-4f92-b807-9ba1d1b9d0ad",
   "metadata": {},
   "source": [
    "Compute the intensity"
   ]
  },
  {
   "cell_type": "code",
   "execution_count": null,
   "id": "bb999d3f-bae8-4036-ad2d-500b8139f3df",
   "metadata": {
    "scrolled": true
   },
   "outputs": [],
   "source": [
    "i_VV = S1_slant_range.band('i_VV')\n",
    "q_VV = S1_slant_range.band('q_VV')\n",
    "S1_INT = (i_VV**2+q_VV**2)\n",
    "S1_INT_VV = S1_INT.add_dimension(name=\"bands\",label=\"VV\")"
   ]
  },
  {
   "cell_type": "markdown",
   "id": "ed1fa191-24d2-44c3-a6ad-6c5cb529ef70",
   "metadata": {},
   "source": [
    "Compute the Multi Look over the intensity and convert from linear to dB."
   ]
  },
  {
   "cell_type": "code",
   "execution_count": null,
   "id": "737fc78a-bc12-4efb-b859-64b6e974fb7a",
   "metadata": {
    "scrolled": true
   },
   "outputs": [],
   "source": [
    "range_looks   = 4\n",
    "azimuth_looks = 19\n",
    "\n",
    "S1_INT_VV_ML = S1_INT_VV.aggregate_spatial_window(\n",
    "    boundary=\"trim\",\n",
    "    size=[azimuth_looks,range_looks],\n",
    "    reducer=\"mean\")\n",
    "\n",
    "from openeo.processes import log\n",
    "S1_INT_VV_ML = S1_INT_VV_ML.apply(lambda x: 10*log(x,base=10))"
   ]
  },
  {
   "cell_type": "markdown",
   "id": "1017563f-0e84-4a60-ac5d-2781cc2fbcd3",
   "metadata": {},
   "source": [
    "Compute the same Multi Look over the coordinate grids for geocoding"
   ]
  },
  {
   "cell_type": "code",
   "execution_count": null,
   "id": "22c7da1b-ad0b-422e-9cb6-1c422b063d40",
   "metadata": {},
   "outputs": [],
   "source": [
    "lat_lon = S1_slant_range.filter_bands([\"grid_lon\",\"grid_lat\"])\n",
    "\n",
    "lat_lon_ML = lat_lon.aggregate_spatial_window(\n",
    "    boundary=\"trim\",\n",
    "    size=[azimuth_looks,range_looks],\n",
    "    reducer=\"mean\")"
   ]
  },
  {
   "cell_type": "markdown",
   "id": "20618d81-a393-4b92-af12-ac5872eaafe9",
   "metadata": {},
   "source": [
    "Compute the Multi Look of Local Incidence Angle and Digital Elevation Model for radar masking"
   ]
  },
  {
   "cell_type": "code",
   "execution_count": null,
   "id": "4b472833-d2b4-476a-8e94-d48b93c22b34",
   "metadata": {},
   "outputs": [],
   "source": [
    "dem_lia = S1_slant_range.filter_bands([\"DEM\",\"LIA\"])\n",
    "\n",
    "dem_lia_ML = dem_lia.aggregate_spatial_window(\n",
    "    boundary=\"trim\",\n",
    "    size=[azimuth_looks,range_looks],\n",
    "    reducer=\"mean\")"
   ]
  },
  {
   "cell_type": "markdown",
   "id": "f41f5073-2e0c-411a-baa8-82f4fecee522",
   "metadata": {},
   "source": [
    "Remove the temporal dimension, not required for radar_mask"
   ]
  },
  {
   "cell_type": "code",
   "execution_count": null,
   "id": "af50df57-98ef-41f7-8df7-5084001d0faa",
   "metadata": {},
   "outputs": [],
   "source": [
    "dem_lia_ML = dem_lia_ML.reduce_dimension(reducer=\"mean\", dimension=\"DATE\")"
   ]
  },
  {
   "cell_type": "markdown",
   "id": "b0705bfd-069e-4777-b7ad-c43635306c5a",
   "metadata": {},
   "source": [
    "Use the `radar_mask` process inside an `apply_dimension` process.\n",
    "\n",
    "`apply_dimension` is used when we need to apply a process over a specific dimension, similarly to `reduce_dimension`, but the specified dimension is not reduced/removed. Instead, the number of output dimension labels (i.e. bands) can grow or shrink."
   ]
  },
  {
   "cell_type": "markdown",
   "id": "8c62cb86-7ebb-4103-bd94-f2414cb2f1dc",
   "metadata": {},
   "source": [
    "Use the list_processes method and search for radar_mask to get more details on I/O of this process."
   ]
  },
  {
   "cell_type": "code",
   "execution_count": null,
   "id": "ed829262-5e5e-481f-a8a9-7e8a2a883019",
   "metadata": {
    "scrolled": true,
    "tags": []
   },
   "outputs": [],
   "source": [
    "conn.list_processes() # Search for radar_mask"
   ]
  },
  {
   "cell_type": "markdown",
   "id": "1040cddf-ae67-488e-a5ad-f1422f800e80",
   "metadata": {},
   "source": [
    "The `radar_mask` process is not yet an official openEO process and therefore the syntax to apply it is not streamlined as with the other processes."
   ]
  },
  {
   "cell_type": "code",
   "execution_count": null,
   "id": "78b3b021-dedb-4041-beb3-a2dff2275efa",
   "metadata": {},
   "outputs": [],
   "source": [
    "from openeo.rest.datacube import PGNode\n",
    "\n",
    "radar_mask_node = PGNode(\"radar_mask\",\n",
    "                         data={\"from_parameter\": \"data\"},\n",
    "                         orbit_direction=\"ASC\",\n",
    "                         foreshortening_th=0.1,\n",
    "                         layover_th=2.1)\n",
    "radar_mask = dem_lia_ML.apply_dimension(process=radar_mask_node, dimension=\"bands\")"
   ]
  },
  {
   "cell_type": "markdown",
   "id": "ae3f2f93-0908-427d-a8a3-afb066408ed2",
   "metadata": {},
   "source": [
    "Rename the output bands with a meaningful name"
   ]
  },
  {
   "cell_type": "code",
   "execution_count": null,
   "id": "43c071d5-f066-4970-886f-b460219f9e93",
   "metadata": {},
   "outputs": [],
   "source": [
    "radar_mask = radar_mask.rename_labels(target=[\"layover\",\"foreshortening\",\"shadow\"],dimension=\"bands\")"
   ]
  },
  {
   "cell_type": "markdown",
   "id": "d8f07a2e-b2a2-4ec4-b192-74aa96cb1b68",
   "metadata": {},
   "source": [
    "Merge the intensity and the coordinates into the same datacube"
   ]
  },
  {
   "cell_type": "code",
   "execution_count": null,
   "id": "9457845e-6c7c-46a2-9820-a0b6dbf1c6ff",
   "metadata": {
    "scrolled": true
   },
   "outputs": [],
   "source": [
    "S1_INT_VV_ML = S1_INT_VV_ML.merge_cubes(lat_lon_ML)"
   ]
  },
  {
   "cell_type": "markdown",
   "id": "029fd079-0058-4220-b29a-446aec8900fd",
   "metadata": {},
   "source": [
    "Compute the average over time"
   ]
  },
  {
   "cell_type": "code",
   "execution_count": null,
   "id": "7cef9f4b-4e51-40c9-bbaf-2374fb6c533d",
   "metadata": {
    "scrolled": true
   },
   "outputs": [],
   "source": [
    "S1_INT_ML_VV_MEAN = S1_INT_VV_ML.reduce_dimension(reducer=\"mean\", dimension=\"DATE\")"
   ]
  },
  {
   "cell_type": "markdown",
   "id": "36eaf863-51c8-45a2-8ed6-a5da73b1f8f2",
   "metadata": {},
   "source": [
    "Merge also the radar_mask output"
   ]
  },
  {
   "cell_type": "code",
   "execution_count": null,
   "id": "b2d28d46-c78a-4578-88c0-9e51d01e3a72",
   "metadata": {},
   "outputs": [],
   "source": [
    "S1_INT_ML_VV_MEAN = S1_INT_ML_VV_MEAN.merge_cubes(radar_mask)"
   ]
  },
  {
   "cell_type": "markdown",
   "id": "9029a44d-a1fb-4ebc-9dcc-f5738ee5da95",
   "metadata": {},
   "source": [
    "Apply geocoding. We choose 20m resolution for the pixel size and the local UTM zone as projection.\n",
    "\n",
    "We can choose only from 10, 20 or 60m for resolution, for being able to align the data with Sentinel-2 grid.\n",
    "\n",
    "This process is not yet an official openEO process and therefore the syntax to apply it is not streamlined as with the other processes."
   ]
  },
  {
   "cell_type": "code",
   "execution_count": null,
   "id": "ad8f8963-4ae6-4d1d-9f02-d56a781c78cc",
   "metadata": {
    "scrolled": true
   },
   "outputs": [],
   "source": [
    "args_geocoding = {\"resolution\":20,\"crs\":32632}\n",
    "S1_INT_ML_VV_GEOCODED = S1_INT_ML_VV_MEAN.process(\"geocode\",args_geocoding, data=S1_INT_ML_VV_MEAN)"
   ]
  },
  {
   "cell_type": "code",
   "execution_count": null,
   "id": "7a9513e2-200c-4d09-8157-9690db027b46",
   "metadata": {},
   "outputs": [],
   "source": [
    "S1_INT_ML_VV_GEOCODED_NC = S1_INT_ML_VV_GEOCODED.save_result(format=\"netCDF\")"
   ]
  },
  {
   "cell_type": "markdown",
   "id": "348e8781-ddaa-4a58-848d-9a07544cc825",
   "metadata": {},
   "source": [
    "For jobs requiring to process many dates and a big area in the spatial domain, we need to use batch jobs.\n",
    "\n",
    "The job will run in the background and when it will be marked as finished you can download the result."
   ]
  },
  {
   "cell_type": "code",
   "execution_count": null,
   "id": "unknown-triumph",
   "metadata": {},
   "outputs": [],
   "source": [
    "job = conn.create_job(S1_INT_ML_VV_GEOCODED_NC,title=\"SAR2Cube_South_Tyrol_radar_mask_ASC\")\n",
    "job_id = job.job_id\n",
    "print('Batch job created with id: ',job_id)\n",
    "job.start_job()"
   ]
  },
  {
   "cell_type": "markdown",
   "id": "a2277901-e006-4279-836c-20db9427d0da",
   "metadata": {},
   "source": [
    "Visualize the job status"
   ]
  },
  {
   "cell_type": "code",
   "execution_count": null,
   "id": "6b5e1560-8379-4130-b7ac-2507120c494b",
   "metadata": {},
   "outputs": [],
   "source": [
    "job = conn.job(job_id)\n",
    "job"
   ]
  },
  {
   "cell_type": "markdown",
   "id": "2a718526-3ce4-4319-80b9-9386f711a274",
   "metadata": {},
   "source": [
    "Create the output folder to store the results:"
   ]
  },
  {
   "cell_type": "code",
   "execution_count": null,
   "id": "b1a82914-91f9-4cbf-86b7-f3f77e0d4914",
   "metadata": {},
   "outputs": [],
   "source": [
    "import os\n",
    "result_dir_name = \"radar_mask_result\"\n",
    "if not os.path.exists(result_dir_name):\n",
    "    os.mkdir(result_dir_name)"
   ]
  },
  {
   "cell_type": "markdown",
   "id": "1234d1b0-cd4f-4451-9d13-ffa5bc3b88a7",
   "metadata": {},
   "source": [
    "Once the job is marked as finished, you can download the result.\n",
    "\n",
    "Either via the download link provided in the following visualization:"
   ]
  },
  {
   "cell_type": "code",
   "execution_count": null,
   "id": "8698677c-832c-41ce-ad73-374dc0a76a7d",
   "metadata": {},
   "outputs": [],
   "source": [
    "result = job.get_results()\n",
    "result"
   ]
  },
  {
   "cell_type": "markdown",
   "id": "bc879de8-b042-4cd2-bb95-a1d456b636c5",
   "metadata": {},
   "source": [
    "Or via python code specifying the target location:"
   ]
  },
  {
   "cell_type": "code",
   "execution_count": null,
   "id": "c3817cd7-2b38-41a5-8a2b-db09ad6072c5",
   "metadata": {},
   "outputs": [],
   "source": [
    "result.download_files('./radar_mask_ASC/')"
   ]
  },
  {
   "cell_type": "markdown",
   "id": "138caed3-0274-4e65-86be-436aca9d71c6",
   "metadata": {},
   "source": [
    "Loading the netCDF using xArray"
   ]
  },
  {
   "cell_type": "code",
   "execution_count": null,
   "id": "3bf0fb3c-5fb5-4a8c-be37-4c4f5cc006f9",
   "metadata": {},
   "outputs": [],
   "source": [
    "out = xr.open_dataarray('./radar_mask_ASC/result.nc',decode_coords='all').to_dataset(dim='variable')\n",
    "out"
   ]
  },
  {
   "cell_type": "markdown",
   "id": "9311ebcc-3eed-4881-901b-29030cd60e99",
   "metadata": {},
   "source": [
    "Visualize the result with matplotlib"
   ]
  },
  {
   "cell_type": "code",
   "execution_count": null,
   "id": "93792c1f-709b-4906-a534-522140dab4e2",
   "metadata": {},
   "outputs": [],
   "source": [
    "plot_args = {'cmap':'Greys_r','add_colorbar':False}\n",
    "fig, ax = plt.subplots(1,3,figsize=(20,5))\n",
    "out.VV.plot.imshow(ax=ax[0],**plot_args, vmin=-30,vmax=0)\n",
    "ax[0].set_title('VV ASC Intensity [dB]')\n",
    "out.layover.plot.imshow(ax=ax[1],**plot_args, vmin=0,vmax=1)\n",
    "ax[1].set_title('Layover ASC mask')\n",
    "out.shadow.plot.imshow(ax=ax[2],**plot_args, vmin=0,vmax=1)\n",
    "ax[2].set_title('Shadow ASC mask')\n",
    "plt.show()"
   ]
  },
  {
   "cell_type": "code",
   "execution_count": null,
   "id": "8fb1d1d7-c6a1-4f40-bba2-20c6be1ae17e",
   "metadata": {},
   "outputs": [],
   "source": []
  }
 ],
 "metadata": {
  "kernelspec": {
   "display_name": "Python 3 (ipykernel)",
   "language": "python",
   "name": "python3"
  },
  "language_info": {
   "codemirror_mode": {
    "name": "ipython",
    "version": 3
   },
   "file_extension": ".py",
   "mimetype": "text/x-python",
   "name": "python",
   "nbconvert_exporter": "python",
   "pygments_lexer": "ipython3",
   "version": "3.10.11"
  }
 },
 "nbformat": 4,
 "nbformat_minor": 5
}
