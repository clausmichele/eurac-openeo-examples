{
 "cells": [
  {
   "cell_type": "markdown",
   "id": "eb104f48-3940-40c3-84c2-4a3aa20985db",
   "metadata": {},
   "source": [
    "<img src=\"https://gitlab.inf.unibz.it/earth_observation_public/eurac-openeo-examples/-/raw/main/python/aux_data/eurac_EO.png\"\n",
    "     alt=\"EURAC EO logo\"\n",
    "     style=\"float: left; margin-right: 10px; max-width: 300px\" />"
   ]
  },
  {
   "cell_type": "markdown",
   "id": "ba232308-5742-4e2d-b6af-57572d543348",
   "metadata": {},
   "source": [
    "# openEO - Cloud Free Point Time Series of Sentinel-2 L2A\n",
    "Author michele.claus@eurac.edu\n",
    "\n",
    "Updated: 2023/05/15"
   ]
  },
  {
   "cell_type": "markdown",
   "id": "77d58f63-6b56-4ebc-8180-e9b6febbdca7",
   "metadata": {},
   "source": [
    "In this notebook we will use openEO to retrieve a timeseries of cloud free Sentinel-2 data given a point with it's coordinates."
   ]
  },
  {
   "cell_type": "code",
   "execution_count": 1,
   "id": "b626f71c-beb4-4944-a2fd-f372c98ec1f1",
   "metadata": {},
   "outputs": [],
   "source": [
    "import openeo\n",
    "from openeo.processes import eq, array_element\n",
    "import xarray as xr"
   ]
  },
  {
   "cell_type": "markdown",
   "id": "bae6c95f-6e11-4fd0-8af0-af23523a3294",
   "metadata": {},
   "source": [
    "Connect to the EURAC openEO back-end"
   ]
  },
  {
   "cell_type": "code",
   "execution_count": 2,
   "id": "ddb27029-5aaf-48ce-810e-d8491058b6bc",
   "metadata": {},
   "outputs": [
    {
     "name": "stdout",
     "output_type": "stream",
     "text": [
      "Authenticated using refresh token.\n"
     ]
    }
   ],
   "source": [
    "euracEndpoint = \"https://openeo.eurac.edu\"\n",
    "conn = openeo.connect(euracEndpoint).authenticate_oidc(client_id=\"openEO_PKCE\")"
   ]
  },
  {
   "cell_type": "markdown",
   "id": "40b5bae0-2635-41f2-af1e-b066b3962c14",
   "metadata": {},
   "source": [
    "Set the temporal extent we want to consider"
   ]
  },
  {
   "cell_type": "code",
   "execution_count": 3,
   "id": "c8643ddb-e119-4bc6-a365-819a31004241",
   "metadata": {},
   "outputs": [],
   "source": [
    "temporal_extent = [\"2018-01-01\",\"2019-01-01\"]"
   ]
  },
  {
   "cell_type": "markdown",
   "id": "e91b02d4-495e-4999-a328-bdd03efb3e3d",
   "metadata": {},
   "source": [
    "Set the point coordinates"
   ]
  },
  {
   "cell_type": "code",
   "execution_count": 4,
   "id": "fabc69a9-7602-4e56-9415-f39bcbbfa9e0",
   "metadata": {},
   "outputs": [],
   "source": [
    "point_coords = [46.487317942782414, 11.249706840515137]"
   ]
  },
  {
   "cell_type": "markdown",
   "id": "a677ddeb-0b30-4dcf-8fea-2579f7c4bf5c",
   "metadata": {},
   "source": [
    "Set the spatial extent to use in `load_collection`: we apply a little buffer to the point coordinates."
   ]
  },
  {
   "cell_type": "code",
   "execution_count": 5,
   "id": "b3e90e70-a80a-4c56-b530-d12d399dedac",
   "metadata": {},
   "outputs": [],
   "source": [
    "spatial_extent = {'west':point_coords[1],'east':point_coords[1],'north':point_coords[0],'south':point_coords[0]}"
   ]
  },
  {
   "cell_type": "markdown",
   "id": "4b73930a-e47e-4536-8387-0bd12745e662",
   "metadata": {},
   "source": [
    "Set the collection name for the Sentinel-2 data"
   ]
  },
  {
   "cell_type": "code",
   "execution_count": 6,
   "id": "52b84965-de93-497b-a048-822af4c9195f",
   "metadata": {},
   "outputs": [],
   "source": [
    "S2_collection = \"S2_L2A_ALPS\""
   ]
  },
  {
   "cell_type": "markdown",
   "id": "2bf361af-1126-4c01-b6dc-3a2909209b3e",
   "metadata": {},
   "source": [
    "Set the bands we want to load"
   ]
  },
  {
   "cell_type": "code",
   "execution_count": 7,
   "id": "dafa3994-8794-42b7-b1fe-1de222ab3196",
   "metadata": {},
   "outputs": [],
   "source": [
    "bands = [\"B02\",\"B03\",\"B04\",\"CLOUD_MASK\"]"
   ]
  },
  {
   "cell_type": "markdown",
   "id": "3fc92a2b-4928-44d4-b264-c23b47e1dc33",
   "metadata": {},
   "source": [
    "Load the S2 data:"
   ]
  },
  {
   "cell_type": "code",
   "execution_count": 8,
   "id": "65643637-6f6f-4e41-b3b3-839f002b8c8d",
   "metadata": {},
   "outputs": [],
   "source": [
    "S2_data = conn.load_collection(S2_collection,\n",
    "                               temporal_extent=temporal_extent,\n",
    "                               spatial_extent=spatial_extent,\n",
    "                               bands=bands)"
   ]
  },
  {
   "cell_type": "markdown",
   "id": "de6e4682-f37a-440d-9123-d6162ce10e3d",
   "metadata": {},
   "source": [
    "We need to mask out the cloudy pixels. We can use the CLOUD_MASK layer for this:"
   ]
  },
  {
   "cell_type": "code",
   "execution_count": 9,
   "id": "5450c73b-5dc7-4d94-a0e2-9d50c50b555a",
   "metadata": {},
   "outputs": [],
   "source": [
    "cloud_mask = S2_data.filter_bands(\"CLOUD_MASK\").reduce_dimension(dimension=\"bands\",reducer = lambda value: eq(array_element(value,0),1))"
   ]
  },
  {
   "cell_type": "markdown",
   "id": "b2f0aac0-7190-4cec-90d8-ffba5bcab34c",
   "metadata": {},
   "source": [
    "Apply the mask to the S2 data"
   ]
  },
  {
   "cell_type": "code",
   "execution_count": 10,
   "id": "fa717fdf-24f4-4baa-b393-3f7e23666eb0",
   "metadata": {},
   "outputs": [],
   "source": [
    "S2_data_masked = S2_data.filter_bands([\"B02\",\"B03\",\"B04\"]).mask(cloud_mask,replacement=0)"
   ]
  },
  {
   "cell_type": "markdown",
   "id": "b7f9dc3d-8a5c-49f9-bd3d-a5435a258fcb",
   "metadata": {},
   "source": [
    "Download the result"
   ]
  },
  {
   "cell_type": "code",
   "execution_count": 11,
   "id": "7478e999-cff9-41e8-a01c-ac5125b30ad3",
   "metadata": {},
   "outputs": [
    {
     "name": "stdout",
     "output_type": "stream",
     "text": [
      "CPU times: user 27.7 ms, sys: 698 µs, total: 28.4 ms\n",
      "Wall time: 18 s\n"
     ]
    }
   ],
   "source": [
    "%%time\n",
    "S2_data_masked.download(\"S2_data_masked.nc\")"
   ]
  },
  {
   "cell_type": "markdown",
   "id": "18179b72-de89-44c5-9c53-4816fc839b7b",
   "metadata": {},
   "source": [
    "Open the result"
   ]
  },
  {
   "cell_type": "code",
   "execution_count": 12,
   "id": "5b5cd4b2-6c9c-4357-b6f0-561749b1179f",
   "metadata": {},
   "outputs": [
    {
     "data": {
      "text/html": [
       "<div><svg style=\"position: absolute; width: 0; height: 0; overflow: hidden\">\n",
       "<defs>\n",
       "<symbol id=\"icon-database\" viewBox=\"0 0 32 32\">\n",
       "<path d=\"M16 0c-8.837 0-16 2.239-16 5v4c0 2.761 7.163 5 16 5s16-2.239 16-5v-4c0-2.761-7.163-5-16-5z\"></path>\n",
       "<path d=\"M16 17c-8.837 0-16-2.239-16-5v6c0 2.761 7.163 5 16 5s16-2.239 16-5v-6c0 2.761-7.163 5-16 5z\"></path>\n",
       "<path d=\"M16 26c-8.837 0-16-2.239-16-5v6c0 2.761 7.163 5 16 5s16-2.239 16-5v-6c0 2.761-7.163 5-16 5z\"></path>\n",
       "</symbol>\n",
       "<symbol id=\"icon-file-text2\" viewBox=\"0 0 32 32\">\n",
       "<path d=\"M28.681 7.159c-0.694-0.947-1.662-2.053-2.724-3.116s-2.169-2.030-3.116-2.724c-1.612-1.182-2.393-1.319-2.841-1.319h-15.5c-1.378 0-2.5 1.121-2.5 2.5v27c0 1.378 1.122 2.5 2.5 2.5h23c1.378 0 2.5-1.122 2.5-2.5v-19.5c0-0.448-0.137-1.23-1.319-2.841zM24.543 5.457c0.959 0.959 1.712 1.825 2.268 2.543h-4.811v-4.811c0.718 0.556 1.584 1.309 2.543 2.268zM28 29.5c0 0.271-0.229 0.5-0.5 0.5h-23c-0.271 0-0.5-0.229-0.5-0.5v-27c0-0.271 0.229-0.5 0.5-0.5 0 0 15.499-0 15.5 0v7c0 0.552 0.448 1 1 1h7v19.5z\"></path>\n",
       "<path d=\"M23 26h-14c-0.552 0-1-0.448-1-1s0.448-1 1-1h14c0.552 0 1 0.448 1 1s-0.448 1-1 1z\"></path>\n",
       "<path d=\"M23 22h-14c-0.552 0-1-0.448-1-1s0.448-1 1-1h14c0.552 0 1 0.448 1 1s-0.448 1-1 1z\"></path>\n",
       "<path d=\"M23 18h-14c-0.552 0-1-0.448-1-1s0.448-1 1-1h14c0.552 0 1 0.448 1 1s-0.448 1-1 1z\"></path>\n",
       "</symbol>\n",
       "</defs>\n",
       "</svg>\n",
       "<style>/* CSS stylesheet for displaying xarray objects in jupyterlab.\n",
       " *\n",
       " */\n",
       "\n",
       ":root {\n",
       "  --xr-font-color0: var(--jp-content-font-color0, rgba(0, 0, 0, 1));\n",
       "  --xr-font-color2: var(--jp-content-font-color2, rgba(0, 0, 0, 0.54));\n",
       "  --xr-font-color3: var(--jp-content-font-color3, rgba(0, 0, 0, 0.38));\n",
       "  --xr-border-color: var(--jp-border-color2, #e0e0e0);\n",
       "  --xr-disabled-color: var(--jp-layout-color3, #bdbdbd);\n",
       "  --xr-background-color: var(--jp-layout-color0, white);\n",
       "  --xr-background-color-row-even: var(--jp-layout-color1, white);\n",
       "  --xr-background-color-row-odd: var(--jp-layout-color2, #eeeeee);\n",
       "}\n",
       "\n",
       "html[theme=dark],\n",
       "body[data-theme=dark],\n",
       "body.vscode-dark {\n",
       "  --xr-font-color0: rgba(255, 255, 255, 1);\n",
       "  --xr-font-color2: rgba(255, 255, 255, 0.54);\n",
       "  --xr-font-color3: rgba(255, 255, 255, 0.38);\n",
       "  --xr-border-color: #1F1F1F;\n",
       "  --xr-disabled-color: #515151;\n",
       "  --xr-background-color: #111111;\n",
       "  --xr-background-color-row-even: #111111;\n",
       "  --xr-background-color-row-odd: #313131;\n",
       "}\n",
       "\n",
       ".xr-wrap {\n",
       "  display: block !important;\n",
       "  min-width: 300px;\n",
       "  max-width: 700px;\n",
       "}\n",
       "\n",
       ".xr-text-repr-fallback {\n",
       "  /* fallback to plain text repr when CSS is not injected (untrusted notebook) */\n",
       "  display: none;\n",
       "}\n",
       "\n",
       ".xr-header {\n",
       "  padding-top: 6px;\n",
       "  padding-bottom: 6px;\n",
       "  margin-bottom: 4px;\n",
       "  border-bottom: solid 1px var(--xr-border-color);\n",
       "}\n",
       "\n",
       ".xr-header > div,\n",
       ".xr-header > ul {\n",
       "  display: inline;\n",
       "  margin-top: 0;\n",
       "  margin-bottom: 0;\n",
       "}\n",
       "\n",
       ".xr-obj-type,\n",
       ".xr-array-name {\n",
       "  margin-left: 2px;\n",
       "  margin-right: 10px;\n",
       "}\n",
       "\n",
       ".xr-obj-type {\n",
       "  color: var(--xr-font-color2);\n",
       "}\n",
       "\n",
       ".xr-sections {\n",
       "  padding-left: 0 !important;\n",
       "  display: grid;\n",
       "  grid-template-columns: 150px auto auto 1fr 20px 20px;\n",
       "}\n",
       "\n",
       ".xr-section-item {\n",
       "  display: contents;\n",
       "}\n",
       "\n",
       ".xr-section-item input {\n",
       "  display: none;\n",
       "}\n",
       "\n",
       ".xr-section-item input + label {\n",
       "  color: var(--xr-disabled-color);\n",
       "}\n",
       "\n",
       ".xr-section-item input:enabled + label {\n",
       "  cursor: pointer;\n",
       "  color: var(--xr-font-color2);\n",
       "}\n",
       "\n",
       ".xr-section-item input:enabled + label:hover {\n",
       "  color: var(--xr-font-color0);\n",
       "}\n",
       "\n",
       ".xr-section-summary {\n",
       "  grid-column: 1;\n",
       "  color: var(--xr-font-color2);\n",
       "  font-weight: 500;\n",
       "}\n",
       "\n",
       ".xr-section-summary > span {\n",
       "  display: inline-block;\n",
       "  padding-left: 0.5em;\n",
       "}\n",
       "\n",
       ".xr-section-summary-in:disabled + label {\n",
       "  color: var(--xr-font-color2);\n",
       "}\n",
       "\n",
       ".xr-section-summary-in + label:before {\n",
       "  display: inline-block;\n",
       "  content: '►';\n",
       "  font-size: 11px;\n",
       "  width: 15px;\n",
       "  text-align: center;\n",
       "}\n",
       "\n",
       ".xr-section-summary-in:disabled + label:before {\n",
       "  color: var(--xr-disabled-color);\n",
       "}\n",
       "\n",
       ".xr-section-summary-in:checked + label:before {\n",
       "  content: '▼';\n",
       "}\n",
       "\n",
       ".xr-section-summary-in:checked + label > span {\n",
       "  display: none;\n",
       "}\n",
       "\n",
       ".xr-section-summary,\n",
       ".xr-section-inline-details {\n",
       "  padding-top: 4px;\n",
       "  padding-bottom: 4px;\n",
       "}\n",
       "\n",
       ".xr-section-inline-details {\n",
       "  grid-column: 2 / -1;\n",
       "}\n",
       "\n",
       ".xr-section-details {\n",
       "  display: none;\n",
       "  grid-column: 1 / -1;\n",
       "  margin-bottom: 5px;\n",
       "}\n",
       "\n",
       ".xr-section-summary-in:checked ~ .xr-section-details {\n",
       "  display: contents;\n",
       "}\n",
       "\n",
       ".xr-array-wrap {\n",
       "  grid-column: 1 / -1;\n",
       "  display: grid;\n",
       "  grid-template-columns: 20px auto;\n",
       "}\n",
       "\n",
       ".xr-array-wrap > label {\n",
       "  grid-column: 1;\n",
       "  vertical-align: top;\n",
       "}\n",
       "\n",
       ".xr-preview {\n",
       "  color: var(--xr-font-color3);\n",
       "}\n",
       "\n",
       ".xr-array-preview,\n",
       ".xr-array-data {\n",
       "  padding: 0 5px !important;\n",
       "  grid-column: 2;\n",
       "}\n",
       "\n",
       ".xr-array-data,\n",
       ".xr-array-in:checked ~ .xr-array-preview {\n",
       "  display: none;\n",
       "}\n",
       "\n",
       ".xr-array-in:checked ~ .xr-array-data,\n",
       ".xr-array-preview {\n",
       "  display: inline-block;\n",
       "}\n",
       "\n",
       ".xr-dim-list {\n",
       "  display: inline-block !important;\n",
       "  list-style: none;\n",
       "  padding: 0 !important;\n",
       "  margin: 0;\n",
       "}\n",
       "\n",
       ".xr-dim-list li {\n",
       "  display: inline-block;\n",
       "  padding: 0;\n",
       "  margin: 0;\n",
       "}\n",
       "\n",
       ".xr-dim-list:before {\n",
       "  content: '(';\n",
       "}\n",
       "\n",
       ".xr-dim-list:after {\n",
       "  content: ')';\n",
       "}\n",
       "\n",
       ".xr-dim-list li:not(:last-child):after {\n",
       "  content: ',';\n",
       "  padding-right: 5px;\n",
       "}\n",
       "\n",
       ".xr-has-index {\n",
       "  font-weight: bold;\n",
       "}\n",
       "\n",
       ".xr-var-list,\n",
       ".xr-var-item {\n",
       "  display: contents;\n",
       "}\n",
       "\n",
       ".xr-var-item > div,\n",
       ".xr-var-item label,\n",
       ".xr-var-item > .xr-var-name span {\n",
       "  background-color: var(--xr-background-color-row-even);\n",
       "  margin-bottom: 0;\n",
       "}\n",
       "\n",
       ".xr-var-item > .xr-var-name:hover span {\n",
       "  padding-right: 5px;\n",
       "}\n",
       "\n",
       ".xr-var-list > li:nth-child(odd) > div,\n",
       ".xr-var-list > li:nth-child(odd) > label,\n",
       ".xr-var-list > li:nth-child(odd) > .xr-var-name span {\n",
       "  background-color: var(--xr-background-color-row-odd);\n",
       "}\n",
       "\n",
       ".xr-var-name {\n",
       "  grid-column: 1;\n",
       "}\n",
       "\n",
       ".xr-var-dims {\n",
       "  grid-column: 2;\n",
       "}\n",
       "\n",
       ".xr-var-dtype {\n",
       "  grid-column: 3;\n",
       "  text-align: right;\n",
       "  color: var(--xr-font-color2);\n",
       "}\n",
       "\n",
       ".xr-var-preview {\n",
       "  grid-column: 4;\n",
       "}\n",
       "\n",
       ".xr-index-preview {\n",
       "  grid-column: 2 / 5;\n",
       "  color: var(--xr-font-color2);\n",
       "}\n",
       "\n",
       ".xr-var-name,\n",
       ".xr-var-dims,\n",
       ".xr-var-dtype,\n",
       ".xr-preview,\n",
       ".xr-attrs dt {\n",
       "  white-space: nowrap;\n",
       "  overflow: hidden;\n",
       "  text-overflow: ellipsis;\n",
       "  padding-right: 10px;\n",
       "}\n",
       "\n",
       ".xr-var-name:hover,\n",
       ".xr-var-dims:hover,\n",
       ".xr-var-dtype:hover,\n",
       ".xr-attrs dt:hover {\n",
       "  overflow: visible;\n",
       "  width: auto;\n",
       "  z-index: 1;\n",
       "}\n",
       "\n",
       ".xr-var-attrs,\n",
       ".xr-var-data,\n",
       ".xr-index-data {\n",
       "  display: none;\n",
       "  background-color: var(--xr-background-color) !important;\n",
       "  padding-bottom: 5px !important;\n",
       "}\n",
       "\n",
       ".xr-var-attrs-in:checked ~ .xr-var-attrs,\n",
       ".xr-var-data-in:checked ~ .xr-var-data,\n",
       ".xr-index-data-in:checked ~ .xr-index-data {\n",
       "  display: block;\n",
       "}\n",
       "\n",
       ".xr-var-data > table {\n",
       "  float: right;\n",
       "}\n",
       "\n",
       ".xr-var-name span,\n",
       ".xr-var-data,\n",
       ".xr-index-name div,\n",
       ".xr-index-data,\n",
       ".xr-attrs {\n",
       "  padding-left: 25px !important;\n",
       "}\n",
       "\n",
       ".xr-attrs,\n",
       ".xr-var-attrs,\n",
       ".xr-var-data,\n",
       ".xr-index-data {\n",
       "  grid-column: 1 / -1;\n",
       "}\n",
       "\n",
       "dl.xr-attrs {\n",
       "  padding: 0;\n",
       "  margin: 0;\n",
       "  display: grid;\n",
       "  grid-template-columns: 125px auto;\n",
       "}\n",
       "\n",
       ".xr-attrs dt,\n",
       ".xr-attrs dd {\n",
       "  padding: 0;\n",
       "  margin: 0;\n",
       "  float: left;\n",
       "  padding-right: 10px;\n",
       "  width: auto;\n",
       "}\n",
       "\n",
       ".xr-attrs dt {\n",
       "  font-weight: normal;\n",
       "  grid-column: 1;\n",
       "}\n",
       "\n",
       ".xr-attrs dt:hover span {\n",
       "  display: inline-block;\n",
       "  background: var(--xr-background-color);\n",
       "  padding-right: 10px;\n",
       "}\n",
       "\n",
       ".xr-attrs dd {\n",
       "  grid-column: 2;\n",
       "  white-space: pre-wrap;\n",
       "  word-break: break-all;\n",
       "}\n",
       "\n",
       ".xr-icon-database,\n",
       ".xr-icon-file-text2,\n",
       ".xr-no-icon {\n",
       "  display: inline-block;\n",
       "  vertical-align: middle;\n",
       "  width: 1em;\n",
       "  height: 1.5em !important;\n",
       "  stroke-width: 0;\n",
       "  stroke: currentColor;\n",
       "  fill: currentColor;\n",
       "}\n",
       "</style><pre class='xr-text-repr-fallback'>&lt;xarray.DataArray (variable: 3, time: 92, y: 1, x: 1)&gt;\n",
       "[276 values with dtype=float64]\n",
       "Coordinates:\n",
       "  * time         (time) datetime64[ns] 2018-01-02T10:24:21 ... 2018-12-30T10:...\n",
       "  * y            (y) float64 5.151e+06\n",
       "  * x            (x) float64 6.727e+05\n",
       "    spatial_ref  int32 ...\n",
       "  * variable     (variable) object &#x27;B02&#x27; &#x27;B03&#x27; &#x27;B04&#x27;\n",
       "Attributes:\n",
       "    crs:      EPSG:32632</pre><div class='xr-wrap' style='display:none'><div class='xr-header'><div class='xr-obj-type'>xarray.DataArray</div><div class='xr-array-name'></div><ul class='xr-dim-list'><li><span class='xr-has-index'>variable</span>: 3</li><li><span class='xr-has-index'>time</span>: 92</li><li><span class='xr-has-index'>y</span>: 1</li><li><span class='xr-has-index'>x</span>: 1</li></ul></div><ul class='xr-sections'><li class='xr-section-item'><div class='xr-array-wrap'><input id='section-e24fa505-f9bf-49cc-b2e2-f6a690422d8c' class='xr-array-in' type='checkbox' checked><label for='section-e24fa505-f9bf-49cc-b2e2-f6a690422d8c' title='Show/hide data repr'><svg class='icon xr-icon-database'><use xlink:href='#icon-database'></use></svg></label><div class='xr-array-preview xr-preview'><span>...</span></div><div class='xr-array-data'><pre>[276 values with dtype=float64]</pre></div></div></li><li class='xr-section-item'><input id='section-57b82cfe-0715-4293-97c9-028b6cde0895' class='xr-section-summary-in' type='checkbox'  checked><label for='section-57b82cfe-0715-4293-97c9-028b6cde0895' class='xr-section-summary' >Coordinates: <span>(5)</span></label><div class='xr-section-inline-details'></div><div class='xr-section-details'><ul class='xr-var-list'><li class='xr-var-item'><div class='xr-var-name'><span class='xr-has-index'>time</span></div><div class='xr-var-dims'>(time)</div><div class='xr-var-dtype'>datetime64[ns]</div><div class='xr-var-preview xr-preview'>2018-01-02T10:24:21 ... 2018-12-...</div><input id='attrs-d7808ac0-8143-44a8-af9e-797ea8739fae' class='xr-var-attrs-in' type='checkbox' disabled><label for='attrs-d7808ac0-8143-44a8-af9e-797ea8739fae' title='Show/Hide attributes'><svg class='icon xr-icon-file-text2'><use xlink:href='#icon-file-text2'></use></svg></label><input id='data-fe80f8ab-ea84-4387-8b9e-80aec41cb53f' class='xr-var-data-in' type='checkbox'><label for='data-fe80f8ab-ea84-4387-8b9e-80aec41cb53f' title='Show/Hide data repr'><svg class='icon xr-icon-database'><use xlink:href='#icon-database'></use></svg></label><div class='xr-var-attrs'><dl class='xr-attrs'></dl></div><div class='xr-var-data'><pre>array([&#x27;2018-01-02T10:24:21.000000000&#x27;, &#x27;2018-01-09T10:14:01.000000000&#x27;,\n",
       "       &#x27;2018-01-12T10:24:01.000000000&#x27;, &#x27;2018-01-14T10:13:49.000000000&#x27;,\n",
       "       &#x27;2018-01-19T10:13:31.000000000&#x27;, &#x27;2018-02-11T10:21:41.000000000&#x27;,\n",
       "       &#x27;2018-02-13T10:11:19.000000000&#x27;, &#x27;2018-02-21T10:20:31.000000000&#x27;,\n",
       "       &#x27;2018-02-23T10:10:19.000000000&#x27;, &#x27;2018-02-26T10:20:19.000000000&#x27;,\n",
       "       &#x27;2018-02-28T10:10:21.000000000&#x27;, &#x27;2018-03-08T10:20:19.000000000&#x27;,\n",
       "       &#x27;2018-03-13T10:20:21.000000000&#x27;, &#x27;2018-03-20T10:10:21.000000000&#x27;,\n",
       "       &#x27;2018-03-25T10:10:19.000000000&#x27;, &#x27;2018-04-02T10:20:21.000000000&#x27;,\n",
       "       &#x27;2018-04-14T10:10:19.000000000&#x27;, &#x27;2018-04-17T10:20:19.000000000&#x27;,\n",
       "       &#x27;2018-04-19T10:10:31.000000000&#x27;, &#x27;2018-04-27T10:20:19.000000000&#x27;,\n",
       "       &#x27;2018-05-17T10:20:19.000000000&#x27;, &#x27;2018-05-24T10:10:19.000000000&#x27;,\n",
       "       &#x27;2018-05-29T10:10:31.000000000&#x27;, &#x27;2018-06-01T10:20:21.000000000&#x27;,\n",
       "       &#x27;2018-06-06T10:20:19.000000000&#x27;, &#x27;2018-06-08T10:10:21.000000000&#x27;,\n",
       "       &#x27;2018-06-16T10:20:19.000000000&#x27;, &#x27;2018-06-18T10:10:21.000000000&#x27;,\n",
       "       &#x27;2018-06-21T10:20:21.000000000&#x27;, &#x27;2018-06-23T10:10:29.000000000&#x27;,\n",
       "       &#x27;2018-06-26T10:20:19.000000000&#x27;, &#x27;2018-07-01T10:20:21.000000000&#x27;,\n",
       "       &#x27;2018-07-03T10:10:29.000000000&#x27;, &#x27;2018-07-06T10:20:19.000000000&#x27;,\n",
       "       &#x27;2018-07-08T10:10:31.000000000&#x27;, &#x27;2018-07-11T10:20:21.000000000&#x27;,\n",
       "       &#x27;2018-07-13T10:10:29.000000000&#x27;, &#x27;2018-07-16T10:20:19.000000000&#x27;,\n",
       "       &#x27;2018-07-18T10:10:31.000000000&#x27;, &#x27;2018-07-23T10:10:19.000000000&#x27;,\n",
       "       &#x27;2018-07-26T10:20:19.000000000&#x27;, &#x27;2018-07-28T10:10:31.000000000&#x27;,\n",
       "       &#x27;2018-07-31T10:20:21.000000000&#x27;, &#x27;2018-08-02T10:10:19.000000000&#x27;,\n",
       "       &#x27;2018-08-05T10:20:19.000000000&#x27;, &#x27;2018-08-07T10:10:21.000000000&#x27;,\n",
       "       &#x27;2018-08-10T10:20:21.000000000&#x27;, &#x27;2018-08-12T10:10:19.000000000&#x27;,\n",
       "       &#x27;2018-08-15T10:20:19.000000000&#x27;, &#x27;2018-08-17T10:10:21.000000000&#x27;,\n",
       "       &#x27;2018-08-20T10:20:21.000000000&#x27;, &#x27;2018-08-22T10:10:19.000000000&#x27;,\n",
       "       &#x27;2018-08-25T10:20:19.000000000&#x27;, &#x27;2018-08-27T10:10:21.000000000&#x27;,\n",
       "       &#x27;2018-08-30T10:20:21.000000000&#x27;, &#x27;2018-09-04T10:20:19.000000000&#x27;,\n",
       "       &#x27;2018-09-06T10:10:21.000000000&#x27;, &#x27;2018-09-09T10:20:21.000000000&#x27;,\n",
       "       &#x27;2018-09-11T10:10:19.000000000&#x27;, &#x27;2018-09-14T10:20:19.000000000&#x27;,\n",
       "       &#x27;2018-09-16T10:10:21.000000000&#x27;, &#x27;2018-09-19T10:20:21.000000000&#x27;,\n",
       "       &#x27;2018-09-21T10:10:19.000000000&#x27;, &#x27;2018-09-24T10:20:19.000000000&#x27;,\n",
       "       &#x27;2018-09-26T10:10:21.000000000&#x27;, &#x27;2018-09-29T10:20:21.000000000&#x27;,\n",
       "       &#x27;2018-10-04T10:20:19.000000000&#x27;, &#x27;2018-10-06T10:10:21.000000000&#x27;,\n",
       "       &#x27;2018-10-09T10:20:21.000000000&#x27;, &#x27;2018-10-11T10:10:19.000000000&#x27;,\n",
       "       &#x27;2018-10-14T10:20:19.000000000&#x27;, &#x27;2018-10-19T10:20:31.000000000&#x27;,\n",
       "       &#x27;2018-10-21T10:10:39.000000000&#x27;, &#x27;2018-10-24T10:20:59.000000000&#x27;,\n",
       "       &#x27;2018-10-26T10:11:11.000000000&#x27;, &#x27;2018-10-31T10:11:39.000000000&#x27;,\n",
       "       &#x27;2018-11-05T10:12:11.000000000&#x27;, &#x27;2018-11-10T10:12:39.000000000&#x27;,\n",
       "       &#x27;2018-11-15T10:12:51.000000000&#x27;, &#x27;2018-11-18T10:23:11.000000000&#x27;,\n",
       "       &#x27;2018-11-20T10:13:19.000000000&#x27;, &#x27;2018-11-28T10:23:51.000000000&#x27;,\n",
       "       &#x27;2018-12-03T10:23:59.000000000&#x27;, &#x27;2018-12-05T10:14:01.000000000&#x27;,\n",
       "       &#x27;2018-12-08T10:24:01.000000000&#x27;, &#x27;2018-12-10T10:14:09.000000000&#x27;,\n",
       "       &#x27;2018-12-13T10:24:19.000000000&#x27;, &#x27;2018-12-15T10:14:21.000000000&#x27;,\n",
       "       &#x27;2018-12-20T10:14:29.000000000&#x27;, &#x27;2018-12-23T10:24:29.000000000&#x27;,\n",
       "       &#x27;2018-12-25T10:14:21.000000000&#x27;, &#x27;2018-12-30T10:14:29.000000000&#x27;],\n",
       "      dtype=&#x27;datetime64[ns]&#x27;)</pre></div></li><li class='xr-var-item'><div class='xr-var-name'><span class='xr-has-index'>y</span></div><div class='xr-var-dims'>(y)</div><div class='xr-var-dtype'>float64</div><div class='xr-var-preview xr-preview'>5.151e+06</div><input id='attrs-1fb84a9a-468c-411d-8918-093bf94c8812' class='xr-var-attrs-in' type='checkbox' ><label for='attrs-1fb84a9a-468c-411d-8918-093bf94c8812' title='Show/Hide attributes'><svg class='icon xr-icon-file-text2'><use xlink:href='#icon-file-text2'></use></svg></label><input id='data-814726fa-c83b-41db-9974-91c7320dc9dc' class='xr-var-data-in' type='checkbox'><label for='data-814726fa-c83b-41db-9974-91c7320dc9dc' title='Show/Hide data repr'><svg class='icon xr-icon-database'><use xlink:href='#icon-database'></use></svg></label><div class='xr-var-attrs'><dl class='xr-attrs'><dt><span>units :</span></dt><dd>metre</dd><dt><span>resolution :</span></dt><dd>10.0</dd><dt><span>crs :</span></dt><dd>EPSG:32632</dd></dl></div><div class='xr-var-data'><pre>array([5150655.])</pre></div></li><li class='xr-var-item'><div class='xr-var-name'><span class='xr-has-index'>x</span></div><div class='xr-var-dims'>(x)</div><div class='xr-var-dtype'>float64</div><div class='xr-var-preview xr-preview'>6.727e+05</div><input id='attrs-18a35692-5669-4507-9fce-a3b94167cfa4' class='xr-var-attrs-in' type='checkbox' ><label for='attrs-18a35692-5669-4507-9fce-a3b94167cfa4' title='Show/Hide attributes'><svg class='icon xr-icon-file-text2'><use xlink:href='#icon-file-text2'></use></svg></label><input id='data-9d1277fc-cc47-4b0d-a913-8907a38d6e3c' class='xr-var-data-in' type='checkbox'><label for='data-9d1277fc-cc47-4b0d-a913-8907a38d6e3c' title='Show/Hide data repr'><svg class='icon xr-icon-database'><use xlink:href='#icon-database'></use></svg></label><div class='xr-var-attrs'><dl class='xr-attrs'><dt><span>units :</span></dt><dd>metre</dd><dt><span>resolution :</span></dt><dd>10.0</dd><dt><span>crs :</span></dt><dd>EPSG:32632</dd></dl></div><div class='xr-var-data'><pre>array([672665.])</pre></div></li><li class='xr-var-item'><div class='xr-var-name'><span>spatial_ref</span></div><div class='xr-var-dims'>()</div><div class='xr-var-dtype'>int32</div><div class='xr-var-preview xr-preview'>...</div><input id='attrs-4c074123-0756-44cc-a3ad-7b1a4bbc7896' class='xr-var-attrs-in' type='checkbox' ><label for='attrs-4c074123-0756-44cc-a3ad-7b1a4bbc7896' title='Show/Hide attributes'><svg class='icon xr-icon-file-text2'><use xlink:href='#icon-file-text2'></use></svg></label><input id='data-265ff8ab-f62f-4ba5-ae4b-ff183b8e7d41' class='xr-var-data-in' type='checkbox'><label for='data-265ff8ab-f62f-4ba5-ae4b-ff183b8e7d41' title='Show/Hide data repr'><svg class='icon xr-icon-database'><use xlink:href='#icon-database'></use></svg></label><div class='xr-var-attrs'><dl class='xr-attrs'><dt><span>spatial_ref :</span></dt><dd>PROJCS[&quot;WGS 84 / UTM zone 32N&quot;,GEOGCS[&quot;WGS 84&quot;,DATUM[&quot;WGS_1984&quot;,SPHEROID[&quot;WGS 84&quot;,6378137,298.257223563,AUTHORITY[&quot;EPSG&quot;,&quot;7030&quot;]],AUTHORITY[&quot;EPSG&quot;,&quot;6326&quot;]],PRIMEM[&quot;Greenwich&quot;,0,AUTHORITY[&quot;EPSG&quot;,&quot;8901&quot;]],UNIT[&quot;degree&quot;,0.0174532925199433,AUTHORITY[&quot;EPSG&quot;,&quot;9122&quot;]],AUTHORITY[&quot;EPSG&quot;,&quot;4326&quot;]],PROJECTION[&quot;Transverse_Mercator&quot;],PARAMETER[&quot;latitude_of_origin&quot;,0],PARAMETER[&quot;central_meridian&quot;,9],PARAMETER[&quot;scale_factor&quot;,0.9996],PARAMETER[&quot;false_easting&quot;,500000],PARAMETER[&quot;false_northing&quot;,0],UNIT[&quot;metre&quot;,1,AUTHORITY[&quot;EPSG&quot;,&quot;9001&quot;]],AXIS[&quot;Easting&quot;,EAST],AXIS[&quot;Northing&quot;,NORTH],AUTHORITY[&quot;EPSG&quot;,&quot;32632&quot;]]</dd><dt><span>grid_mapping_name :</span></dt><dd>transverse_mercator</dd></dl></div><div class='xr-var-data'><pre>[1 values with dtype=int32]</pre></div></li><li class='xr-var-item'><div class='xr-var-name'><span class='xr-has-index'>variable</span></div><div class='xr-var-dims'>(variable)</div><div class='xr-var-dtype'>object</div><div class='xr-var-preview xr-preview'>&#x27;B02&#x27; &#x27;B03&#x27; &#x27;B04&#x27;</div><input id='attrs-faaffad5-f6b6-46c1-bc00-4b2ba685028b' class='xr-var-attrs-in' type='checkbox' disabled><label for='attrs-faaffad5-f6b6-46c1-bc00-4b2ba685028b' title='Show/Hide attributes'><svg class='icon xr-icon-file-text2'><use xlink:href='#icon-file-text2'></use></svg></label><input id='data-525903f4-9a7b-40b9-8482-1ff4a3040474' class='xr-var-data-in' type='checkbox'><label for='data-525903f4-9a7b-40b9-8482-1ff4a3040474' title='Show/Hide data repr'><svg class='icon xr-icon-database'><use xlink:href='#icon-database'></use></svg></label><div class='xr-var-attrs'><dl class='xr-attrs'></dl></div><div class='xr-var-data'><pre>array([&#x27;B02&#x27;, &#x27;B03&#x27;, &#x27;B04&#x27;], dtype=object)</pre></div></li></ul></div></li><li class='xr-section-item'><input id='section-07b0de88-02e1-44de-97e1-a7609732c812' class='xr-section-summary-in' type='checkbox'  ><label for='section-07b0de88-02e1-44de-97e1-a7609732c812' class='xr-section-summary' >Indexes: <span>(4)</span></label><div class='xr-section-inline-details'></div><div class='xr-section-details'><ul class='xr-var-list'><li class='xr-var-item'><div class='xr-index-name'><div>time</div></div><div class='xr-index-preview'>PandasIndex</div><div></div><input id='index-a5acc4ea-36aa-42b7-9700-fd19bdc1e74a' class='xr-index-data-in' type='checkbox'/><label for='index-a5acc4ea-36aa-42b7-9700-fd19bdc1e74a' title='Show/Hide index repr'><svg class='icon xr-icon-database'><use xlink:href='#icon-database'></use></svg></label><div class='xr-index-data'><pre>PandasIndex(DatetimeIndex([&#x27;2018-01-02 10:24:21&#x27;, &#x27;2018-01-09 10:14:01&#x27;,\n",
       "               &#x27;2018-01-12 10:24:01&#x27;, &#x27;2018-01-14 10:13:49&#x27;,\n",
       "               &#x27;2018-01-19 10:13:31&#x27;, &#x27;2018-02-11 10:21:41&#x27;,\n",
       "               &#x27;2018-02-13 10:11:19&#x27;, &#x27;2018-02-21 10:20:31&#x27;,\n",
       "               &#x27;2018-02-23 10:10:19&#x27;, &#x27;2018-02-26 10:20:19&#x27;,\n",
       "               &#x27;2018-02-28 10:10:21&#x27;, &#x27;2018-03-08 10:20:19&#x27;,\n",
       "               &#x27;2018-03-13 10:20:21&#x27;, &#x27;2018-03-20 10:10:21&#x27;,\n",
       "               &#x27;2018-03-25 10:10:19&#x27;, &#x27;2018-04-02 10:20:21&#x27;,\n",
       "               &#x27;2018-04-14 10:10:19&#x27;, &#x27;2018-04-17 10:20:19&#x27;,\n",
       "               &#x27;2018-04-19 10:10:31&#x27;, &#x27;2018-04-27 10:20:19&#x27;,\n",
       "               &#x27;2018-05-17 10:20:19&#x27;, &#x27;2018-05-24 10:10:19&#x27;,\n",
       "               &#x27;2018-05-29 10:10:31&#x27;, &#x27;2018-06-01 10:20:21&#x27;,\n",
       "               &#x27;2018-06-06 10:20:19&#x27;, &#x27;2018-06-08 10:10:21&#x27;,\n",
       "               &#x27;2018-06-16 10:20:19&#x27;, &#x27;2018-06-18 10:10:21&#x27;,\n",
       "               &#x27;2018-06-21 10:20:21&#x27;, &#x27;2018-06-23 10:10:29&#x27;,\n",
       "               &#x27;2018-06-26 10:20:19&#x27;, &#x27;2018-07-01 10:20:21&#x27;,\n",
       "               &#x27;2018-07-03 10:10:29&#x27;, &#x27;2018-07-06 10:20:19&#x27;,\n",
       "               &#x27;2018-07-08 10:10:31&#x27;, &#x27;2018-07-11 10:20:21&#x27;,\n",
       "               &#x27;2018-07-13 10:10:29&#x27;, &#x27;2018-07-16 10:20:19&#x27;,\n",
       "               &#x27;2018-07-18 10:10:31&#x27;, &#x27;2018-07-23 10:10:19&#x27;,\n",
       "               &#x27;2018-07-26 10:20:19&#x27;, &#x27;2018-07-28 10:10:31&#x27;,\n",
       "               &#x27;2018-07-31 10:20:21&#x27;, &#x27;2018-08-02 10:10:19&#x27;,\n",
       "               &#x27;2018-08-05 10:20:19&#x27;, &#x27;2018-08-07 10:10:21&#x27;,\n",
       "               &#x27;2018-08-10 10:20:21&#x27;, &#x27;2018-08-12 10:10:19&#x27;,\n",
       "               &#x27;2018-08-15 10:20:19&#x27;, &#x27;2018-08-17 10:10:21&#x27;,\n",
       "               &#x27;2018-08-20 10:20:21&#x27;, &#x27;2018-08-22 10:10:19&#x27;,\n",
       "               &#x27;2018-08-25 10:20:19&#x27;, &#x27;2018-08-27 10:10:21&#x27;,\n",
       "               &#x27;2018-08-30 10:20:21&#x27;, &#x27;2018-09-04 10:20:19&#x27;,\n",
       "               &#x27;2018-09-06 10:10:21&#x27;, &#x27;2018-09-09 10:20:21&#x27;,\n",
       "               &#x27;2018-09-11 10:10:19&#x27;, &#x27;2018-09-14 10:20:19&#x27;,\n",
       "               &#x27;2018-09-16 10:10:21&#x27;, &#x27;2018-09-19 10:20:21&#x27;,\n",
       "               &#x27;2018-09-21 10:10:19&#x27;, &#x27;2018-09-24 10:20:19&#x27;,\n",
       "               &#x27;2018-09-26 10:10:21&#x27;, &#x27;2018-09-29 10:20:21&#x27;,\n",
       "               &#x27;2018-10-04 10:20:19&#x27;, &#x27;2018-10-06 10:10:21&#x27;,\n",
       "               &#x27;2018-10-09 10:20:21&#x27;, &#x27;2018-10-11 10:10:19&#x27;,\n",
       "               &#x27;2018-10-14 10:20:19&#x27;, &#x27;2018-10-19 10:20:31&#x27;,\n",
       "               &#x27;2018-10-21 10:10:39&#x27;, &#x27;2018-10-24 10:20:59&#x27;,\n",
       "               &#x27;2018-10-26 10:11:11&#x27;, &#x27;2018-10-31 10:11:39&#x27;,\n",
       "               &#x27;2018-11-05 10:12:11&#x27;, &#x27;2018-11-10 10:12:39&#x27;,\n",
       "               &#x27;2018-11-15 10:12:51&#x27;, &#x27;2018-11-18 10:23:11&#x27;,\n",
       "               &#x27;2018-11-20 10:13:19&#x27;, &#x27;2018-11-28 10:23:51&#x27;,\n",
       "               &#x27;2018-12-03 10:23:59&#x27;, &#x27;2018-12-05 10:14:01&#x27;,\n",
       "               &#x27;2018-12-08 10:24:01&#x27;, &#x27;2018-12-10 10:14:09&#x27;,\n",
       "               &#x27;2018-12-13 10:24:19&#x27;, &#x27;2018-12-15 10:14:21&#x27;,\n",
       "               &#x27;2018-12-20 10:14:29&#x27;, &#x27;2018-12-23 10:24:29&#x27;,\n",
       "               &#x27;2018-12-25 10:14:21&#x27;, &#x27;2018-12-30 10:14:29&#x27;],\n",
       "              dtype=&#x27;datetime64[ns]&#x27;, name=&#x27;time&#x27;, freq=None))</pre></div></li><li class='xr-var-item'><div class='xr-index-name'><div>y</div></div><div class='xr-index-preview'>PandasIndex</div><div></div><input id='index-43c30bb0-bc03-4c77-a48a-01ae2f3ac418' class='xr-index-data-in' type='checkbox'/><label for='index-43c30bb0-bc03-4c77-a48a-01ae2f3ac418' title='Show/Hide index repr'><svg class='icon xr-icon-database'><use xlink:href='#icon-database'></use></svg></label><div class='xr-index-data'><pre>PandasIndex(Index([5150655.0], dtype=&#x27;float64&#x27;, name=&#x27;y&#x27;))</pre></div></li><li class='xr-var-item'><div class='xr-index-name'><div>x</div></div><div class='xr-index-preview'>PandasIndex</div><div></div><input id='index-95728a83-aadf-4850-a115-0f17d81ef80b' class='xr-index-data-in' type='checkbox'/><label for='index-95728a83-aadf-4850-a115-0f17d81ef80b' title='Show/Hide index repr'><svg class='icon xr-icon-database'><use xlink:href='#icon-database'></use></svg></label><div class='xr-index-data'><pre>PandasIndex(Index([672665.0], dtype=&#x27;float64&#x27;, name=&#x27;x&#x27;))</pre></div></li><li class='xr-var-item'><div class='xr-index-name'><div>variable</div></div><div class='xr-index-preview'>PandasIndex</div><div></div><input id='index-d506ce05-720a-4fc8-9f86-1382cf397813' class='xr-index-data-in' type='checkbox'/><label for='index-d506ce05-720a-4fc8-9f86-1382cf397813' title='Show/Hide index repr'><svg class='icon xr-icon-database'><use xlink:href='#icon-database'></use></svg></label><div class='xr-index-data'><pre>PandasIndex(Index([&#x27;B02&#x27;, &#x27;B03&#x27;, &#x27;B04&#x27;], dtype=&#x27;object&#x27;, name=&#x27;variable&#x27;))</pre></div></li></ul></div></li><li class='xr-section-item'><input id='section-60f1d844-7c08-41f3-bc27-989f83779718' class='xr-section-summary-in' type='checkbox'  checked><label for='section-60f1d844-7c08-41f3-bc27-989f83779718' class='xr-section-summary' >Attributes: <span>(1)</span></label><div class='xr-section-inline-details'></div><div class='xr-section-details'><dl class='xr-attrs'><dt><span>crs :</span></dt><dd>EPSG:32632</dd></dl></div></li></ul></div></div>"
      ],
      "text/plain": [
       "<xarray.DataArray (variable: 3, time: 92, y: 1, x: 1)>\n",
       "[276 values with dtype=float64]\n",
       "Coordinates:\n",
       "  * time         (time) datetime64[ns] 2018-01-02T10:24:21 ... 2018-12-30T10:...\n",
       "  * y            (y) float64 5.151e+06\n",
       "  * x            (x) float64 6.727e+05\n",
       "    spatial_ref  int32 ...\n",
       "  * variable     (variable) object 'B02' 'B03' 'B04'\n",
       "Attributes:\n",
       "    crs:      EPSG:32632"
      ]
     },
     "execution_count": 12,
     "metadata": {},
     "output_type": "execute_result"
    }
   ],
   "source": [
    "data = xr.open_dataarray(\"S2_data_masked.nc\",decode_coords=\"all\")\n",
    "data"
   ]
  },
  {
   "cell_type": "markdown",
   "id": "04dd9c7b-fef0-4afc-9894-efb5cc3c6141",
   "metadata": {},
   "source": [
    "There are many different ways of visualizing the results. Some examples can be found here for XArray: https://xarray-contrib.github.io/xarray-tutorial/scipy-tutorial/04_plotting_and_visualization.html\n",
    "\n",
    "See also the Matplotlib documentation https://matplotlib.org"
   ]
  },
  {
   "cell_type": "code",
   "execution_count": 16,
   "id": "6032af31-10c6-4908-b8e3-bc7a8c9963ea",
   "metadata": {},
   "outputs": [
    {
     "data": {
      "text/plain": [
       "[<matplotlib.lines.Line2D at 0x7f9d463f6320>]"
      ]
     },
     "execution_count": 16,
     "metadata": {},
     "output_type": "execute_result"
    },
    {
     "data": {
      "image/png": "[encoded data removed]",
      "text/plain": [
       "<Figure size 640x480 with 1 Axes>"
      ]
     },
     "metadata": {},
     "output_type": "display_data"
    }
   ],
   "source": [
    "B04 = data.loc[dict(variable='B04')]\n",
    "B04.plot()"
   ]
  },
  {
   "cell_type": "code",
   "execution_count": 25,
   "id": "b0cd1c7c-b3e7-43a4-83e8-21b02667d67c",
   "metadata": {},
   "outputs": [
    {
     "data": {
      "text/plain": [
       "[<matplotlib.lines.Line2D at 0x7fa933752a00>]"
      ]
     },
     "execution_count": 25,
     "metadata": {},
     "output_type": "execute_result"
    },
    {
     "data": {
      "image/png": "[encoded data removed]",
      "text/plain": [
       "<Figure size 432x288 with 1 Axes>"
      ]
     },
     "metadata": {
      "needs_background": "light"
     },
     "output_type": "display_data"
    }
   ],
   "source": [
    "data.loc[dict(variable='B02')].plot()\n",
    "data.loc[dict(variable='B03')].plot()\n",
    "data.loc[dict(variable='B04')].plot()"
   ]
  },
  {
   "cell_type": "markdown",
   "id": "4403e823-6432-40ec-91c7-d16222386018",
   "metadata": {},
   "source": [
    "If the data is still noisy, probably the clouds did not get fully filtered out. We can try to \"clean\" the signal by manually setting a threshold:"
   ]
  },
  {
   "cell_type": "code",
   "execution_count": 28,
   "id": "a68545e0-a6ac-40b8-af1e-a71bc1762bcf",
   "metadata": {},
   "outputs": [
    {
     "data": {
      "text/plain": [
       "[<matplotlib.lines.Line2D at 0x7fa930a5c670>]"
      ]
     },
     "execution_count": 28,
     "metadata": {},
     "output_type": "execute_result"
    },
    {
     "data": {
      "image/png": "[encoded data removed]",
      "text/plain": [
       "<Figure size 432x288 with 1 Axes>"
      ]
     },
     "metadata": {
      "needs_background": "light"
     },
     "output_type": "display_data"
    }
   ],
   "source": [
    "th = 4000\n",
    "data.where(data<th).loc[dict(variable='B02')].plot()\n",
    "data.where(data<th).loc[dict(variable='B03')].plot()\n",
    "data.where(data<th).loc[dict(variable='B04')].plot()"
   ]
  }
 ],
 "metadata": {
  "kernelspec": {
   "display_name": "Python 3 (ipykernel)",
   "language": "python",
   "name": "python3"
  },
  "language_info": {
   "codemirror_mode": {
    "name": "ipython",
    "version": 3
   },
   "file_extension": ".py",
   "mimetype": "text/x-python",
   "name": "python",
   "nbconvert_exporter": "python",
   "pygments_lexer": "ipython3",
   "version": "3.10.11"
  }
 },
 "nbformat": 4,
 "nbformat_minor": 5
}
