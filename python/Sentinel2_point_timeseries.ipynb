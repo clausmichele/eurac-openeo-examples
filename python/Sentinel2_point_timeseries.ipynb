{
 "cells": [
  {
   "cell_type": "markdown",
   "id": "eb104f48-3940-40c3-84c2-4a3aa20985db",
   "metadata": {},
   "source": [
    "<img src=\"./auxdata/eurac_EO.png\" alt=\"EURAC Institute for Earth Observation\" title=\"EURAC Institute for Earth Observation\" width=\"300\"/>"
   ]
  },
  {
   "cell_type": "markdown",
   "id": "77d58f63-6b56-4ebc-8180-e9b6febbdca7",
   "metadata": {},
   "source": [
    "In this notebook we will use openEO to retrieve a timeseries of cloud free Sentinel-2 data given a point with it's coordinates."
   ]
  },
  {
   "cell_type": "code",
   "execution_count": 126,
   "id": "b626f71c-beb4-4944-a2fd-f372c98ec1f1",
   "metadata": {},
   "outputs": [],
   "source": [
    "import openeo\n",
    "from openeo.processes import eq, array_element\n",
    "import xarray as xr"
   ]
  },
  {
   "cell_type": "markdown",
   "id": "bae6c95f-6e11-4fd0-8af0-af23523a3294",
   "metadata": {},
   "source": [
    "Connect to the EURAC openEO back-end"
   ]
  },
  {
   "cell_type": "code",
   "execution_count": 127,
   "id": "ddb27029-5aaf-48ce-810e-d8491058b6bc",
   "metadata": {},
   "outputs": [
    {
     "name": "stdout",
     "output_type": "stream",
     "text": [
      "Authenticated using refresh token.\n"
     ]
    }
   ],
   "source": [
    "euracEndpoint = \"https://openeo.eurac.edu\"\n",
    "conn = openeo.connect(euracEndpoint).authenticate_oidc(client_id=\"openEO_PKCE\")"
   ]
  },
  {
   "cell_type": "markdown",
   "id": "40b5bae0-2635-41f2-af1e-b066b3962c14",
   "metadata": {},
   "source": [
    "Set the temporal extent we want to consider"
   ]
  },
  {
   "cell_type": "code",
   "execution_count": 128,
   "id": "c8643ddb-e119-4bc6-a365-819a31004241",
   "metadata": {},
   "outputs": [],
   "source": [
    "temporal_extent = [\"2018-01-01\",\"2019-01-01\"]"
   ]
  },
  {
   "cell_type": "markdown",
   "id": "e91b02d4-495e-4999-a328-bdd03efb3e3d",
   "metadata": {},
   "source": [
    "Set the point coordinates"
   ]
  },
  {
   "cell_type": "code",
   "execution_count": 129,
   "id": "b631b364-3b2d-45a1-81d1-95d75cd92043",
   "metadata": {},
   "outputs": [],
   "source": [
    "# point_coords = [46.46,11.24] #lat/lon\n",
    "# water           \n",
    "point_coords = [46.379149058330746,11.2630033493042]\n",
    "# forest\n",
    "point_coords = [46.187317942782414, 11.149706840515137]"
   ]
  },
  {
   "cell_type": "markdown",
   "id": "a677ddeb-0b30-4dcf-8fea-2579f7c4bf5c",
   "metadata": {},
   "source": [
    "Set the spatial extent to use in load_collection: we apply a little buffer to the point coordinates."
   ]
  },
  {
   "cell_type": "code",
   "execution_count": 130,
   "id": "b3e90e70-a80a-4c56-b530-d12d399dedac",
   "metadata": {},
   "outputs": [],
   "source": [
    "spatial_extent = {'west':point_coords[1],'east':point_coords[1],'north':point_coords[0],'south':point_coords[0]}"
   ]
  },
  {
   "cell_type": "markdown",
   "id": "4b73930a-e47e-4536-8387-0bd12745e662",
   "metadata": {},
   "source": [
    "Set the collection name for the Sentinel-2 data"
   ]
  },
  {
   "cell_type": "code",
   "execution_count": 131,
   "id": "52b84965-de93-497b-a048-822af4c9195f",
   "metadata": {},
   "outputs": [],
   "source": [
    "S2_collection = 'S2_L2A_ALPS'"
   ]
  },
  {
   "cell_type": "markdown",
   "id": "2bf361af-1126-4c01-b6dc-3a2909209b3e",
   "metadata": {},
   "source": [
    "Set the bands we want to load"
   ]
  },
  {
   "cell_type": "code",
   "execution_count": 132,
   "id": "dafa3994-8794-42b7-b1fe-1de222ab3196",
   "metadata": {},
   "outputs": [],
   "source": [
    "bands = ['B02_10m','B03_10m','B04_10m']"
   ]
  },
  {
   "cell_type": "markdown",
   "id": "3fc92a2b-4928-44d4-b264-c23b47e1dc33",
   "metadata": {},
   "source": [
    "Load the S2 data:"
   ]
  },
  {
   "cell_type": "code",
   "execution_count": 133,
   "id": "65643637-6f6f-4e41-b3b3-839f002b8c8d",
   "metadata": {},
   "outputs": [],
   "source": [
    "S2_data = conn.load_collection(S2_collection,temporal_extent=temporal_extent,spatial_extent=spatial_extent,bands=bands)"
   ]
  },
  {
   "cell_type": "markdown",
   "id": "de6e4682-f37a-440d-9123-d6162ce10e3d",
   "metadata": {},
   "source": [
    "We need to mask out the cloudy pixels. We can use the s2cloudless collection for this:"
   ]
  },
  {
   "cell_type": "code",
   "execution_count": 134,
   "id": "5450c73b-5dc7-4d94-a0e2-9d50c50b555a",
   "metadata": {},
   "outputs": [],
   "source": [
    "cloud_mask = conn.load_collection('s2cloudless_alps',temporal_extent=temporal_extent,spatial_extent=spatial_extent)\n",
    "cloud_mask_bool = cloud_mask.resample_cube_temporal(S2_data).reduce_dimension(dimension=\"bands\",reducer = lambda value: eq(array_element(value,0),1))"
   ]
  },
  {
   "cell_type": "markdown",
   "id": "b2f0aac0-7190-4cec-90d8-ffba5bcab34c",
   "metadata": {},
   "source": [
    "Apply the mask to the S2 data"
   ]
  },
  {
   "cell_type": "code",
   "execution_count": 135,
   "id": "fa717fdf-24f4-4baa-b393-3f7e23666eb0",
   "metadata": {},
   "outputs": [],
   "source": [
    "S2_data_masked = S2_data.mask(cloud_mask_bool,replacement=0)"
   ]
  },
  {
   "cell_type": "markdown",
   "id": "b7f9dc3d-8a5c-49f9-bd3d-a5435a258fcb",
   "metadata": {},
   "source": [
    "Download the result"
   ]
  },
  {
   "cell_type": "code",
   "execution_count": 136,
   "id": "7478e999-cff9-41e8-a01c-ac5125b30ad3",
   "metadata": {},
   "outputs": [],
   "source": [
    "S2_data_masked.download('S2_data_masked.nc')"
   ]
  },
  {
   "cell_type": "markdown",
   "id": "18179b72-de89-44c5-9c53-4816fc839b7b",
   "metadata": {},
   "source": [
    "Open the result"
   ]
  },
  {
   "cell_type": "code",
   "execution_count": 137,
   "id": "5b5cd4b2-6c9c-4357-b6f0-561749b1179f",
   "metadata": {},
   "outputs": [
    {
     "data": {
      "text/html": [
       "<div><svg style=\"position: absolute; width: 0; height: 0; overflow: hidden\">\n",
       "<defs>\n",
       "<symbol id=\"icon-database\" viewBox=\"0 0 32 32\">\n",
       "<path d=\"M16 0c-8.837 0-16 2.239-16 5v4c0 2.761 7.163 5 16 5s16-2.239 16-5v-4c0-2.761-7.163-5-16-5z\"></path>\n",
       "<path d=\"M16 17c-8.837 0-16-2.239-16-5v6c0 2.761 7.163 5 16 5s16-2.239 16-5v-6c0 2.761-7.163 5-16 5z\"></path>\n",
       "<path d=\"M16 26c-8.837 0-16-2.239-16-5v6c0 2.761 7.163 5 16 5s16-2.239 16-5v-6c0 2.761-7.163 5-16 5z\"></path>\n",
       "</symbol>\n",
       "<symbol id=\"icon-file-text2\" viewBox=\"0 0 32 32\">\n",
       "<path d=\"M28.681 7.159c-0.694-0.947-1.662-2.053-2.724-3.116s-2.169-2.030-3.116-2.724c-1.612-1.182-2.393-1.319-2.841-1.319h-15.5c-1.378 0-2.5 1.121-2.5 2.5v27c0 1.378 1.122 2.5 2.5 2.5h23c1.378 0 2.5-1.122 2.5-2.5v-19.5c0-0.448-0.137-1.23-1.319-2.841zM24.543 5.457c0.959 0.959 1.712 1.825 2.268 2.543h-4.811v-4.811c0.718 0.556 1.584 1.309 2.543 2.268zM28 29.5c0 0.271-0.229 0.5-0.5 0.5h-23c-0.271 0-0.5-0.229-0.5-0.5v-27c0-0.271 0.229-0.5 0.5-0.5 0 0 15.499-0 15.5 0v7c0 0.552 0.448 1 1 1h7v19.5z\"></path>\n",
       "<path d=\"M23 26h-14c-0.552 0-1-0.448-1-1s0.448-1 1-1h14c0.552 0 1 0.448 1 1s-0.448 1-1 1z\"></path>\n",
       "<path d=\"M23 22h-14c-0.552 0-1-0.448-1-1s0.448-1 1-1h14c0.552 0 1 0.448 1 1s-0.448 1-1 1z\"></path>\n",
       "<path d=\"M23 18h-14c-0.552 0-1-0.448-1-1s0.448-1 1-1h14c0.552 0 1 0.448 1 1s-0.448 1-1 1z\"></path>\n",
       "</symbol>\n",
       "</defs>\n",
       "</svg>\n",
       "<style>/* CSS stylesheet for displaying xarray objects in jupyterlab.\n",
       " *\n",
       " */\n",
       "\n",
       ":root {\n",
       "  --xr-font-color0: var(--jp-content-font-color0, rgba(0, 0, 0, 1));\n",
       "  --xr-font-color2: var(--jp-content-font-color2, rgba(0, 0, 0, 0.54));\n",
       "  --xr-font-color3: var(--jp-content-font-color3, rgba(0, 0, 0, 0.38));\n",
       "  --xr-border-color: var(--jp-border-color2, #e0e0e0);\n",
       "  --xr-disabled-color: var(--jp-layout-color3, #bdbdbd);\n",
       "  --xr-background-color: var(--jp-layout-color0, white);\n",
       "  --xr-background-color-row-even: var(--jp-layout-color1, white);\n",
       "  --xr-background-color-row-odd: var(--jp-layout-color2, #eeeeee);\n",
       "}\n",
       "\n",
       "html[theme=dark],\n",
       "body.vscode-dark {\n",
       "  --xr-font-color0: rgba(255, 255, 255, 1);\n",
       "  --xr-font-color2: rgba(255, 255, 255, 0.54);\n",
       "  --xr-font-color3: rgba(255, 255, 255, 0.38);\n",
       "  --xr-border-color: #1F1F1F;\n",
       "  --xr-disabled-color: #515151;\n",
       "  --xr-background-color: #111111;\n",
       "  --xr-background-color-row-even: #111111;\n",
       "  --xr-background-color-row-odd: #313131;\n",
       "}\n",
       "\n",
       ".xr-wrap {\n",
       "  display: block !important;\n",
       "  min-width: 300px;\n",
       "  max-width: 700px;\n",
       "}\n",
       "\n",
       ".xr-text-repr-fallback {\n",
       "  /* fallback to plain text repr when CSS is not injected (untrusted notebook) */\n",
       "  display: none;\n",
       "}\n",
       "\n",
       ".xr-header {\n",
       "  padding-top: 6px;\n",
       "  padding-bottom: 6px;\n",
       "  margin-bottom: 4px;\n",
       "  border-bottom: solid 1px var(--xr-border-color);\n",
       "}\n",
       "\n",
       ".xr-header > div,\n",
       ".xr-header > ul {\n",
       "  display: inline;\n",
       "  margin-top: 0;\n",
       "  margin-bottom: 0;\n",
       "}\n",
       "\n",
       ".xr-obj-type,\n",
       ".xr-array-name {\n",
       "  margin-left: 2px;\n",
       "  margin-right: 10px;\n",
       "}\n",
       "\n",
       ".xr-obj-type {\n",
       "  color: var(--xr-font-color2);\n",
       "}\n",
       "\n",
       ".xr-sections {\n",
       "  padding-left: 0 !important;\n",
       "  display: grid;\n",
       "  grid-template-columns: 150px auto auto 1fr 20px 20px;\n",
       "}\n",
       "\n",
       ".xr-section-item {\n",
       "  display: contents;\n",
       "}\n",
       "\n",
       ".xr-section-item input {\n",
       "  display: none;\n",
       "}\n",
       "\n",
       ".xr-section-item input + label {\n",
       "  color: var(--xr-disabled-color);\n",
       "}\n",
       "\n",
       ".xr-section-item input:enabled + label {\n",
       "  cursor: pointer;\n",
       "  color: var(--xr-font-color2);\n",
       "}\n",
       "\n",
       ".xr-section-item input:enabled + label:hover {\n",
       "  color: var(--xr-font-color0);\n",
       "}\n",
       "\n",
       ".xr-section-summary {\n",
       "  grid-column: 1;\n",
       "  color: var(--xr-font-color2);\n",
       "  font-weight: 500;\n",
       "}\n",
       "\n",
       ".xr-section-summary > span {\n",
       "  display: inline-block;\n",
       "  padding-left: 0.5em;\n",
       "}\n",
       "\n",
       ".xr-section-summary-in:disabled + label {\n",
       "  color: var(--xr-font-color2);\n",
       "}\n",
       "\n",
       ".xr-section-summary-in + label:before {\n",
       "  display: inline-block;\n",
       "  content: '►';\n",
       "  font-size: 11px;\n",
       "  width: 15px;\n",
       "  text-align: center;\n",
       "}\n",
       "\n",
       ".xr-section-summary-in:disabled + label:before {\n",
       "  color: var(--xr-disabled-color);\n",
       "}\n",
       "\n",
       ".xr-section-summary-in:checked + label:before {\n",
       "  content: '▼';\n",
       "}\n",
       "\n",
       ".xr-section-summary-in:checked + label > span {\n",
       "  display: none;\n",
       "}\n",
       "\n",
       ".xr-section-summary,\n",
       ".xr-section-inline-details {\n",
       "  padding-top: 4px;\n",
       "  padding-bottom: 4px;\n",
       "}\n",
       "\n",
       ".xr-section-inline-details {\n",
       "  grid-column: 2 / -1;\n",
       "}\n",
       "\n",
       ".xr-section-details {\n",
       "  display: none;\n",
       "  grid-column: 1 / -1;\n",
       "  margin-bottom: 5px;\n",
       "}\n",
       "\n",
       ".xr-section-summary-in:checked ~ .xr-section-details {\n",
       "  display: contents;\n",
       "}\n",
       "\n",
       ".xr-array-wrap {\n",
       "  grid-column: 1 / -1;\n",
       "  display: grid;\n",
       "  grid-template-columns: 20px auto;\n",
       "}\n",
       "\n",
       ".xr-array-wrap > label {\n",
       "  grid-column: 1;\n",
       "  vertical-align: top;\n",
       "}\n",
       "\n",
       ".xr-preview {\n",
       "  color: var(--xr-font-color3);\n",
       "}\n",
       "\n",
       ".xr-array-preview,\n",
       ".xr-array-data {\n",
       "  padding: 0 5px !important;\n",
       "  grid-column: 2;\n",
       "}\n",
       "\n",
       ".xr-array-data,\n",
       ".xr-array-in:checked ~ .xr-array-preview {\n",
       "  display: none;\n",
       "}\n",
       "\n",
       ".xr-array-in:checked ~ .xr-array-data,\n",
       ".xr-array-preview {\n",
       "  display: inline-block;\n",
       "}\n",
       "\n",
       ".xr-dim-list {\n",
       "  display: inline-block !important;\n",
       "  list-style: none;\n",
       "  padding: 0 !important;\n",
       "  margin: 0;\n",
       "}\n",
       "\n",
       ".xr-dim-list li {\n",
       "  display: inline-block;\n",
       "  padding: 0;\n",
       "  margin: 0;\n",
       "}\n",
       "\n",
       ".xr-dim-list:before {\n",
       "  content: '(';\n",
       "}\n",
       "\n",
       ".xr-dim-list:after {\n",
       "  content: ')';\n",
       "}\n",
       "\n",
       ".xr-dim-list li:not(:last-child):after {\n",
       "  content: ',';\n",
       "  padding-right: 5px;\n",
       "}\n",
       "\n",
       ".xr-has-index {\n",
       "  font-weight: bold;\n",
       "}\n",
       "\n",
       ".xr-var-list,\n",
       ".xr-var-item {\n",
       "  display: contents;\n",
       "}\n",
       "\n",
       ".xr-var-item > div,\n",
       ".xr-var-item label,\n",
       ".xr-var-item > .xr-var-name span {\n",
       "  background-color: var(--xr-background-color-row-even);\n",
       "  margin-bottom: 0;\n",
       "}\n",
       "\n",
       ".xr-var-item > .xr-var-name:hover span {\n",
       "  padding-right: 5px;\n",
       "}\n",
       "\n",
       ".xr-var-list > li:nth-child(odd) > div,\n",
       ".xr-var-list > li:nth-child(odd) > label,\n",
       ".xr-var-list > li:nth-child(odd) > .xr-var-name span {\n",
       "  background-color: var(--xr-background-color-row-odd);\n",
       "}\n",
       "\n",
       ".xr-var-name {\n",
       "  grid-column: 1;\n",
       "}\n",
       "\n",
       ".xr-var-dims {\n",
       "  grid-column: 2;\n",
       "}\n",
       "\n",
       ".xr-var-dtype {\n",
       "  grid-column: 3;\n",
       "  text-align: right;\n",
       "  color: var(--xr-font-color2);\n",
       "}\n",
       "\n",
       ".xr-var-preview {\n",
       "  grid-column: 4;\n",
       "}\n",
       "\n",
       ".xr-var-name,\n",
       ".xr-var-dims,\n",
       ".xr-var-dtype,\n",
       ".xr-preview,\n",
       ".xr-attrs dt {\n",
       "  white-space: nowrap;\n",
       "  overflow: hidden;\n",
       "  text-overflow: ellipsis;\n",
       "  padding-right: 10px;\n",
       "}\n",
       "\n",
       ".xr-var-name:hover,\n",
       ".xr-var-dims:hover,\n",
       ".xr-var-dtype:hover,\n",
       ".xr-attrs dt:hover {\n",
       "  overflow: visible;\n",
       "  width: auto;\n",
       "  z-index: 1;\n",
       "}\n",
       "\n",
       ".xr-var-attrs,\n",
       ".xr-var-data {\n",
       "  display: none;\n",
       "  background-color: var(--xr-background-color) !important;\n",
       "  padding-bottom: 5px !important;\n",
       "}\n",
       "\n",
       ".xr-var-attrs-in:checked ~ .xr-var-attrs,\n",
       ".xr-var-data-in:checked ~ .xr-var-data {\n",
       "  display: block;\n",
       "}\n",
       "\n",
       ".xr-var-data > table {\n",
       "  float: right;\n",
       "}\n",
       "\n",
       ".xr-var-name span,\n",
       ".xr-var-data,\n",
       ".xr-attrs {\n",
       "  padding-left: 25px !important;\n",
       "}\n",
       "\n",
       ".xr-attrs,\n",
       ".xr-var-attrs,\n",
       ".xr-var-data {\n",
       "  grid-column: 1 / -1;\n",
       "}\n",
       "\n",
       "dl.xr-attrs {\n",
       "  padding: 0;\n",
       "  margin: 0;\n",
       "  display: grid;\n",
       "  grid-template-columns: 125px auto;\n",
       "}\n",
       "\n",
       ".xr-attrs dt,\n",
       ".xr-attrs dd {\n",
       "  padding: 0;\n",
       "  margin: 0;\n",
       "  float: left;\n",
       "  padding-right: 10px;\n",
       "  width: auto;\n",
       "}\n",
       "\n",
       ".xr-attrs dt {\n",
       "  font-weight: normal;\n",
       "  grid-column: 1;\n",
       "}\n",
       "\n",
       ".xr-attrs dt:hover span {\n",
       "  display: inline-block;\n",
       "  background: var(--xr-background-color);\n",
       "  padding-right: 10px;\n",
       "}\n",
       "\n",
       ".xr-attrs dd {\n",
       "  grid-column: 2;\n",
       "  white-space: pre-wrap;\n",
       "  word-break: break-all;\n",
       "}\n",
       "\n",
       ".xr-icon-database,\n",
       ".xr-icon-file-text2 {\n",
       "  display: inline-block;\n",
       "  vertical-align: middle;\n",
       "  width: 1em;\n",
       "  height: 1.5em !important;\n",
       "  stroke-width: 0;\n",
       "  stroke: currentColor;\n",
       "  fill: currentColor;\n",
       "}\n",
       "</style><pre class='xr-text-repr-fallback'>&lt;xarray.DataArray &#x27;stack-e9398f5bc7f2a07eb80e9a1df2577120&#x27; (variable: 3, time: 98, y: 1, x: 1)&gt;\n",
       "array([[[[251.]],\n",
       "\n",
       "        ...,\n",
       "\n",
       "        [[662.]]],\n",
       "\n",
       "\n",
       "       ...,\n",
       "\n",
       "\n",
       "       [[[146.]],\n",
       "\n",
       "        ...,\n",
       "\n",
       "        [[800.]]]])\n",
       "Coordinates:\n",
       "  * time         (time) datetime64[ns] 2018-01-02T10:24:20.462000 ... 2018-12...\n",
       "  * y            (y) float64 5.117e+06\n",
       "  * x            (x) float64 6.659e+05\n",
       "  * variable     (variable) object &#x27;B02_10m&#x27; &#x27;B03_10m&#x27; &#x27;B04_10m&#x27;\n",
       "    spatial_ref  int64 0\n",
       "Attributes:\n",
       "    crs:           PROJCS[&quot;WGS 84 / UTM zone 32N&quot;,GEOGCS[&quot;WGS 84&quot;,DATUM[&quot;WGS_...\n",
       "    grid_mapping:  spatial_ref</pre><div class='xr-wrap' style='display:none'><div class='xr-header'><div class='xr-obj-type'>xarray.DataArray</div><div class='xr-array-name'>'stack-e9398f5bc7f2a07eb80e9a1df2577120'</div><ul class='xr-dim-list'><li><span class='xr-has-index'>variable</span>: 3</li><li><span class='xr-has-index'>time</span>: 98</li><li><span class='xr-has-index'>y</span>: 1</li><li><span class='xr-has-index'>x</span>: 1</li></ul></div><ul class='xr-sections'><li class='xr-section-item'><div class='xr-array-wrap'><input id='section-676c22e4-a7bf-41c5-8496-83134f4d889f' class='xr-array-in' type='checkbox' checked><label for='section-676c22e4-a7bf-41c5-8496-83134f4d889f' title='Show/hide data repr'><svg class='icon xr-icon-database'><use xlink:href='#icon-database'></use></svg></label><div class='xr-array-preview xr-preview'><span>251.0 1.0 688.0 6.348e+03 5.418e+03 ... 2.972e+03 537.0 197.0 800.0</span></div><div class='xr-array-data'><pre>array([[[[251.]],\n",
       "\n",
       "        ...,\n",
       "\n",
       "        [[662.]]],\n",
       "\n",
       "\n",
       "       ...,\n",
       "\n",
       "\n",
       "       [[[146.]],\n",
       "\n",
       "        ...,\n",
       "\n",
       "        [[800.]]]])</pre></div></div></li><li class='xr-section-item'><input id='section-f35c1b7e-d1bc-476c-968d-8db8af95ff13' class='xr-section-summary-in' type='checkbox'  checked><label for='section-f35c1b7e-d1bc-476c-968d-8db8af95ff13' class='xr-section-summary' >Coordinates: <span>(5)</span></label><div class='xr-section-inline-details'></div><div class='xr-section-details'><ul class='xr-var-list'><li class='xr-var-item'><div class='xr-var-name'><span class='xr-has-index'>time</span></div><div class='xr-var-dims'>(time)</div><div class='xr-var-dtype'>datetime64[ns]</div><div class='xr-var-preview xr-preview'>2018-01-02T10:24:20.462000 ... 2...</div><input id='attrs-185665f2-8e01-4fe5-9e59-e7ec7cb27f1c' class='xr-var-attrs-in' type='checkbox' disabled><label for='attrs-185665f2-8e01-4fe5-9e59-e7ec7cb27f1c' title='Show/Hide attributes'><svg class='icon xr-icon-file-text2'><use xlink:href='#icon-file-text2'></use></svg></label><input id='data-4f07b86b-7e2b-4e68-9ea2-719f78c01501' class='xr-var-data-in' type='checkbox'><label for='data-4f07b86b-7e2b-4e68-9ea2-719f78c01501' title='Show/Hide data repr'><svg class='icon xr-icon-database'><use xlink:href='#icon-database'></use></svg></label><div class='xr-var-attrs'><dl class='xr-attrs'></dl></div><div class='xr-var-data'><pre>array([&#x27;2018-01-02T10:24:20.462000000&#x27;, &#x27;2018-01-09T10:15:36.868000000&#x27;,\n",
       "       &#x27;2018-01-12T10:26:30.596000000&#x27;, &#x27;2018-01-14T10:13:47.463000000&#x27;,\n",
       "       &#x27;2018-01-19T10:13:31.457000000&#x27;, &#x27;2018-02-11T10:25:59.219000000&#x27;,\n",
       "       &#x27;2018-02-13T10:15:59.864000000&#x27;, &#x27;2018-02-21T10:20:33.459999999&#x27;,\n",
       "       &#x27;2018-02-23T10:15:08.686000000&#x27;, &#x27;2018-02-26T10:20:50.534000000&#x27;,\n",
       "       &#x27;2018-02-28T10:10:21.459000000&#x27;, &#x27;2018-03-08T10:22:41.383000000&#x27;,\n",
       "       &#x27;2018-03-13T10:25:40.551000000&#x27;, &#x27;2018-03-20T10:10:21.458000000&#x27;,\n",
       "       &#x27;2018-03-25T10:15:11.692000000&#x27;, &#x27;2018-04-02T10:24:35.002000000&#x27;,\n",
       "       &#x27;2018-04-14T10:15:36.339000000&#x27;, &#x27;2018-04-17T10:20:21.457000000&#x27;,\n",
       "       &#x27;2018-04-19T10:14:57.043000000&#x27;, &#x27;2018-04-27T10:20:22.456000000&#x27;,\n",
       "       &#x27;2018-05-17T10:22:09.690000000&#x27;, &#x27;2018-05-24T10:10:22.455000000&#x27;,\n",
       "       &#x27;2018-05-29T10:12:25.516000000&#x27;, &#x27;2018-06-01T10:20:24.463000000&#x27;,\n",
       "       &#x27;2018-06-06T10:25:12.692000000&#x27;, &#x27;2018-06-08T10:17:26.568000000&#x27;,\n",
       "       &#x27;2018-06-11T10:26:34.063000000&#x27;, &#x27;2018-06-16T10:20:21.460000000&#x27;,\n",
       "       &#x27;2018-06-18T10:17:33.781000000&#x27;, &#x27;2018-06-21T10:23:16.629000000&#x27;,\n",
       "       &#x27;2018-06-23T10:11:39.224000000&#x27;, &#x27;2018-06-26T10:26:26.849000000&#x27;,\n",
       "       &#x27;2018-07-01T10:24:04.535000000&#x27;, &#x27;2018-07-03T10:10:23.456000000&#x27;,\n",
       "       &#x27;2018-07-06T10:27:24.568000000&#x27;, &#x27;2018-07-08T10:10:25.459000000&#x27;,\n",
       "       &#x27;2018-07-08T10:18:03.646000000&#x27;, &#x27;2018-07-11T10:20:24.460000000&#x27;,\n",
       "       &#x27;2018-07-13T10:10:23.458000000&#x27;, &#x27;2018-07-16T10:25:49.771000000&#x27;,\n",
       "       &#x27;2018-07-18T10:15:39.336000002&#x27;, &#x27;2018-07-23T10:10:36.891000002&#x27;,\n",
       "       &#x27;2018-07-26T10:21:50.652000002&#x27;, &#x27;2018-07-28T10:13:40.280999998&#x27;,\n",
       "       &#x27;2018-07-31T10:27:01.317000000&#x27;, &#x27;2018-08-02T10:10:20.460000000&#x27;,\n",
       "       &#x27;2018-08-05T10:20:19.462000000&#x27;, &#x27;2018-08-07T10:10:24.457000000&#x27;,\n",
       "       &#x27;2018-08-10T10:20:23.460000000&#x27;, &#x27;2018-08-12T10:11:24.399000000&#x27;,\n",
       "       &#x27;2018-08-15T10:20:17.456000000&#x27;, &#x27;2018-08-17T10:10:24.461000000&#x27;,\n",
       "       &#x27;2018-08-20T10:23:58.925000000&#x27;, &#x27;2018-08-22T10:13:21.460000000&#x27;,\n",
       "       &#x27;2018-08-25T10:20:15.457000000&#x27;, &#x27;2018-08-25T10:27:42.821000000&#x27;,\n",
       "       &#x27;2018-08-27T10:10:23.459000000&#x27;, &#x27;2018-08-30T10:25:24.509000000&#x27;,\n",
       "       &#x27;2018-09-04T10:20:14.457000000&#x27;, &#x27;2018-09-06T10:10:22.456000000&#x27;,\n",
       "       &#x27;2018-09-09T10:22:05.087000000&#x27;, &#x27;2018-09-11T10:14:38.831000000&#x27;,\n",
       "       &#x27;2018-09-14T10:20:14.459000000&#x27;, &#x27;2018-09-16T10:15:12.688000000&#x27;,\n",
       "       &#x27;2018-09-19T10:20:18.462000000&#x27;, &#x27;2018-09-21T10:16:47.097000000&#x27;,\n",
       "       &#x27;2018-09-24T10:26:02.807000000&#x27;, &#x27;2018-09-26T10:17:04.527000000&#x27;,\n",
       "       &#x27;2018-09-29T10:20:19.456000000&#x27;, &#x27;2018-10-04T10:20:18.457000000&#x27;,\n",
       "       &#x27;2018-10-06T10:16:51.096000000&#x27;, &#x27;2018-10-09T10:25:59.595000000&#x27;,\n",
       "       &#x27;2018-10-11T10:10:20.457000000&#x27;, &#x27;2018-10-11T10:17:58.644000000&#x27;,\n",
       "       &#x27;2018-10-14T10:26:27.452000000&#x27;, &#x27;2018-10-19T10:20:29.464000000&#x27;,\n",
       "       &#x27;2018-10-21T10:12:01.442000000&#x27;, &#x27;2018-10-24T10:24:28.105000000&#x27;,\n",
       "       &#x27;2018-10-26T10:11:08.458000000&#x27;, &#x27;2018-10-26T10:17:59.744000000&#x27;,\n",
       "       &#x27;2018-10-31T10:11:40.455000000&#x27;, &#x27;2018-11-05T10:14:04.520000000&#x27;,\n",
       "       &#x27;2018-11-10T10:17:56.834000000&#x27;, &#x27;2018-11-15T10:17:49.522000000&#x27;,\n",
       "       &#x27;2018-11-15T10:17:56.173000000&#x27;, &#x27;2018-11-18T10:27:49.171000000&#x27;,\n",
       "       &#x27;2018-11-20T10:17:56.197000000&#x27;, &#x27;2018-11-28T10:27:46.874000000&#x27;,\n",
       "       &#x27;2018-12-03T10:27:50.662000000&#x27;, &#x27;2018-12-05T10:17:50.862000000&#x27;,\n",
       "       &#x27;2018-12-08T10:27:47.125000000&#x27;, &#x27;2018-12-10T10:17:53.087000000&#x27;,\n",
       "       &#x27;2018-12-13T10:27:48.971000000&#x27;, &#x27;2018-12-15T10:17:50.728000000&#x27;,\n",
       "       &#x27;2018-12-20T10:17:54.375000000&#x27;, &#x27;2018-12-23T10:27:51.226000000&#x27;,\n",
       "       &#x27;2018-12-25T10:17:51.886000000&#x27;, &#x27;2018-12-30T10:17:56.450000000&#x27;],\n",
       "      dtype=&#x27;datetime64[ns]&#x27;)</pre></div></li><li class='xr-var-item'><div class='xr-var-name'><span class='xr-has-index'>y</span></div><div class='xr-var-dims'>(y)</div><div class='xr-var-dtype'>float64</div><div class='xr-var-preview xr-preview'>5.117e+06</div><input id='attrs-f6fa361c-427b-4428-a193-c0110a26024f' class='xr-var-attrs-in' type='checkbox' ><label for='attrs-f6fa361c-427b-4428-a193-c0110a26024f' title='Show/Hide attributes'><svg class='icon xr-icon-file-text2'><use xlink:href='#icon-file-text2'></use></svg></label><input id='data-2dc94de5-b623-4972-b322-70b42d6cfde0' class='xr-var-data-in' type='checkbox'><label for='data-2dc94de5-b623-4972-b322-70b42d6cfde0' title='Show/Hide data repr'><svg class='icon xr-icon-database'><use xlink:href='#icon-database'></use></svg></label><div class='xr-var-attrs'><dl class='xr-attrs'><dt><span>units :</span></dt><dd>metre</dd><dt><span>resolution :</span></dt><dd>10.0</dd><dt><span>crs :</span></dt><dd>PROJCS[&quot;WGS 84 / UTM zone 32N&quot;,GEOGCS[&quot;WGS 84&quot;,DATUM[&quot;WGS_1984&quot;,SPHEROID[&quot;WGS 84&quot;,6378137,298.257223563,AUTHORITY[&quot;EPSG&quot;,&quot;7030&quot;]],AUTHORITY[&quot;EPSG&quot;,&quot;6326&quot;]],PRIMEM[&quot;Greenwich&quot;,0,AUTHORITY[&quot;EPSG&quot;,&quot;8901&quot;]],UNIT[&quot;degree&quot;,0.0174532925199433,AUTHORITY[&quot;EPSG&quot;,&quot;9122&quot;]],AUTHORITY[&quot;EPSG&quot;,&quot;4326&quot;]],PROJECTION[&quot;Transverse_Mercator&quot;],PARAMETER[&quot;latitude_of_origin&quot;,0],PARAMETER[&quot;central_meridian&quot;,9],PARAMETER[&quot;scale_factor&quot;,0.9996],PARAMETER[&quot;false_easting&quot;,500000],PARAMETER[&quot;false_northing&quot;,0],UNIT[&quot;metre&quot;,1,AUTHORITY[&quot;EPSG&quot;,&quot;9001&quot;]],AXIS[&quot;Easting&quot;,EAST],AXIS[&quot;Northing&quot;,NORTH],AUTHORITY[&quot;EPSG&quot;,&quot;32632&quot;]]</dd></dl></div><div class='xr-var-data'><pre>array([5117105.])</pre></div></li><li class='xr-var-item'><div class='xr-var-name'><span class='xr-has-index'>x</span></div><div class='xr-var-dims'>(x)</div><div class='xr-var-dtype'>float64</div><div class='xr-var-preview xr-preview'>6.659e+05</div><input id='attrs-51c3f466-b863-45a8-813c-743254e18355' class='xr-var-attrs-in' type='checkbox' ><label for='attrs-51c3f466-b863-45a8-813c-743254e18355' title='Show/Hide attributes'><svg class='icon xr-icon-file-text2'><use xlink:href='#icon-file-text2'></use></svg></label><input id='data-410b2c14-540b-4aaf-8293-1809c9622e57' class='xr-var-data-in' type='checkbox'><label for='data-410b2c14-540b-4aaf-8293-1809c9622e57' title='Show/Hide data repr'><svg class='icon xr-icon-database'><use xlink:href='#icon-database'></use></svg></label><div class='xr-var-attrs'><dl class='xr-attrs'><dt><span>units :</span></dt><dd>metre</dd><dt><span>resolution :</span></dt><dd>10.0</dd><dt><span>crs :</span></dt><dd>PROJCS[&quot;WGS 84 / UTM zone 32N&quot;,GEOGCS[&quot;WGS 84&quot;,DATUM[&quot;WGS_1984&quot;,SPHEROID[&quot;WGS 84&quot;,6378137,298.257223563,AUTHORITY[&quot;EPSG&quot;,&quot;7030&quot;]],AUTHORITY[&quot;EPSG&quot;,&quot;6326&quot;]],PRIMEM[&quot;Greenwich&quot;,0,AUTHORITY[&quot;EPSG&quot;,&quot;8901&quot;]],UNIT[&quot;degree&quot;,0.0174532925199433,AUTHORITY[&quot;EPSG&quot;,&quot;9122&quot;]],AUTHORITY[&quot;EPSG&quot;,&quot;4326&quot;]],PROJECTION[&quot;Transverse_Mercator&quot;],PARAMETER[&quot;latitude_of_origin&quot;,0],PARAMETER[&quot;central_meridian&quot;,9],PARAMETER[&quot;scale_factor&quot;,0.9996],PARAMETER[&quot;false_easting&quot;,500000],PARAMETER[&quot;false_northing&quot;,0],UNIT[&quot;metre&quot;,1,AUTHORITY[&quot;EPSG&quot;,&quot;9001&quot;]],AXIS[&quot;Easting&quot;,EAST],AXIS[&quot;Northing&quot;,NORTH],AUTHORITY[&quot;EPSG&quot;,&quot;32632&quot;]]</dd></dl></div><div class='xr-var-data'><pre>array([665895.])</pre></div></li><li class='xr-var-item'><div class='xr-var-name'><span class='xr-has-index'>variable</span></div><div class='xr-var-dims'>(variable)</div><div class='xr-var-dtype'>object</div><div class='xr-var-preview xr-preview'>&#x27;B02_10m&#x27; &#x27;B03_10m&#x27; &#x27;B04_10m&#x27;</div><input id='attrs-53d5f5bb-1fd5-4124-9809-359e9b8b68c2' class='xr-var-attrs-in' type='checkbox' disabled><label for='attrs-53d5f5bb-1fd5-4124-9809-359e9b8b68c2' title='Show/Hide attributes'><svg class='icon xr-icon-file-text2'><use xlink:href='#icon-file-text2'></use></svg></label><input id='data-01e9cb13-f3aa-46d1-bd68-0bcb48971509' class='xr-var-data-in' type='checkbox'><label for='data-01e9cb13-f3aa-46d1-bd68-0bcb48971509' title='Show/Hide data repr'><svg class='icon xr-icon-database'><use xlink:href='#icon-database'></use></svg></label><div class='xr-var-attrs'><dl class='xr-attrs'></dl></div><div class='xr-var-data'><pre>array([&#x27;B02_10m&#x27;, &#x27;B03_10m&#x27;, &#x27;B04_10m&#x27;], dtype=object)</pre></div></li><li class='xr-var-item'><div class='xr-var-name'><span>spatial_ref</span></div><div class='xr-var-dims'>()</div><div class='xr-var-dtype'>int64</div><div class='xr-var-preview xr-preview'>...</div><input id='attrs-dcca52d0-d4d1-4dab-90a0-1c32ebe352c9' class='xr-var-attrs-in' type='checkbox' ><label for='attrs-dcca52d0-d4d1-4dab-90a0-1c32ebe352c9' title='Show/Hide attributes'><svg class='icon xr-icon-file-text2'><use xlink:href='#icon-file-text2'></use></svg></label><input id='data-b2cb619c-ca59-4ae8-af90-92daf2993ae5' class='xr-var-data-in' type='checkbox'><label for='data-b2cb619c-ca59-4ae8-af90-92daf2993ae5' title='Show/Hide data repr'><svg class='icon xr-icon-database'><use xlink:href='#icon-database'></use></svg></label><div class='xr-var-attrs'><dl class='xr-attrs'><dt><span>crs_wkt :</span></dt><dd>PROJCS[&quot;WGS 84 / UTM zone 32N&quot;,GEOGCS[&quot;WGS 84&quot;,DATUM[&quot;WGS_1984&quot;,SPHEROID[&quot;WGS 84&quot;,6378137,298.257223563,AUTHORITY[&quot;EPSG&quot;,&quot;7030&quot;]],AUTHORITY[&quot;EPSG&quot;,&quot;6326&quot;]],PRIMEM[&quot;Greenwich&quot;,0,AUTHORITY[&quot;EPSG&quot;,&quot;8901&quot;]],UNIT[&quot;degree&quot;,0.0174532925199433,AUTHORITY[&quot;EPSG&quot;,&quot;9122&quot;]],AUTHORITY[&quot;EPSG&quot;,&quot;4326&quot;]],PROJECTION[&quot;Transverse_Mercator&quot;],PARAMETER[&quot;latitude_of_origin&quot;,0],PARAMETER[&quot;central_meridian&quot;,9],PARAMETER[&quot;scale_factor&quot;,0.9996],PARAMETER[&quot;false_easting&quot;,500000],PARAMETER[&quot;false_northing&quot;,0],UNIT[&quot;metre&quot;,1,AUTHORITY[&quot;EPSG&quot;,&quot;9001&quot;]],AXIS[&quot;Easting&quot;,EAST],AXIS[&quot;Northing&quot;,NORTH],AUTHORITY[&quot;EPSG&quot;,&quot;32632&quot;]]</dd><dt><span>semi_major_axis :</span></dt><dd>6378137.0</dd><dt><span>semi_minor_axis :</span></dt><dd>6356752.314245179</dd><dt><span>inverse_flattening :</span></dt><dd>298.257223563</dd><dt><span>reference_ellipsoid_name :</span></dt><dd>WGS 84</dd><dt><span>longitude_of_prime_meridian :</span></dt><dd>0.0</dd><dt><span>prime_meridian_name :</span></dt><dd>Greenwich</dd><dt><span>geographic_crs_name :</span></dt><dd>WGS 84</dd><dt><span>horizontal_datum_name :</span></dt><dd>World Geodetic System 1984</dd><dt><span>projected_crs_name :</span></dt><dd>WGS 84 / UTM zone 32N</dd><dt><span>grid_mapping_name :</span></dt><dd>transverse_mercator</dd><dt><span>latitude_of_projection_origin :</span></dt><dd>0.0</dd><dt><span>longitude_of_central_meridian :</span></dt><dd>9.0</dd><dt><span>false_easting :</span></dt><dd>500000.0</dd><dt><span>false_northing :</span></dt><dd>0.0</dd><dt><span>scale_factor_at_central_meridian :</span></dt><dd>0.9996</dd><dt><span>spatial_ref :</span></dt><dd>PROJCS[&quot;WGS 84 / UTM zone 32N&quot;,GEOGCS[&quot;WGS 84&quot;,DATUM[&quot;WGS_1984&quot;,SPHEROID[&quot;WGS 84&quot;,6378137,298.257223563,AUTHORITY[&quot;EPSG&quot;,&quot;7030&quot;]],AUTHORITY[&quot;EPSG&quot;,&quot;6326&quot;]],PRIMEM[&quot;Greenwich&quot;,0,AUTHORITY[&quot;EPSG&quot;,&quot;8901&quot;]],UNIT[&quot;degree&quot;,0.0174532925199433,AUTHORITY[&quot;EPSG&quot;,&quot;9122&quot;]],AUTHORITY[&quot;EPSG&quot;,&quot;4326&quot;]],PROJECTION[&quot;Transverse_Mercator&quot;],PARAMETER[&quot;latitude_of_origin&quot;,0],PARAMETER[&quot;central_meridian&quot;,9],PARAMETER[&quot;scale_factor&quot;,0.9996],PARAMETER[&quot;false_easting&quot;,500000],PARAMETER[&quot;false_northing&quot;,0],UNIT[&quot;metre&quot;,1,AUTHORITY[&quot;EPSG&quot;,&quot;9001&quot;]],AXIS[&quot;Easting&quot;,EAST],AXIS[&quot;Northing&quot;,NORTH],AUTHORITY[&quot;EPSG&quot;,&quot;32632&quot;]]</dd></dl></div><div class='xr-var-data'><pre>array(0)</pre></div></li></ul></div></li><li class='xr-section-item'><input id='section-f65cfc03-022f-47d0-9372-829ea304f81d' class='xr-section-summary-in' type='checkbox'  checked><label for='section-f65cfc03-022f-47d0-9372-829ea304f81d' class='xr-section-summary' >Attributes: <span>(2)</span></label><div class='xr-section-inline-details'></div><div class='xr-section-details'><dl class='xr-attrs'><dt><span>crs :</span></dt><dd>PROJCS[&quot;WGS 84 / UTM zone 32N&quot;,GEOGCS[&quot;WGS 84&quot;,DATUM[&quot;WGS_1984&quot;,SPHEROID[&quot;WGS 84&quot;,6378137,298.257223563,AUTHORITY[&quot;EPSG&quot;,&quot;7030&quot;]],AUTHORITY[&quot;EPSG&quot;,&quot;6326&quot;]],PRIMEM[&quot;Greenwich&quot;,0,AUTHORITY[&quot;EPSG&quot;,&quot;8901&quot;]],UNIT[&quot;degree&quot;,0.0174532925199433,AUTHORITY[&quot;EPSG&quot;,&quot;9122&quot;]],AUTHORITY[&quot;EPSG&quot;,&quot;4326&quot;]],PROJECTION[&quot;Transverse_Mercator&quot;],PARAMETER[&quot;latitude_of_origin&quot;,0],PARAMETER[&quot;central_meridian&quot;,9],PARAMETER[&quot;scale_factor&quot;,0.9996],PARAMETER[&quot;false_easting&quot;,500000],PARAMETER[&quot;false_northing&quot;,0],UNIT[&quot;metre&quot;,1,AUTHORITY[&quot;EPSG&quot;,&quot;9001&quot;]],AXIS[&quot;Easting&quot;,EAST],AXIS[&quot;Northing&quot;,NORTH],AUTHORITY[&quot;EPSG&quot;,&quot;32632&quot;]]</dd><dt><span>grid_mapping :</span></dt><dd>spatial_ref</dd></dl></div></li></ul></div></div>"
      ],
      "text/plain": [
       "<xarray.DataArray 'stack-e9398f5bc7f2a07eb80e9a1df2577120' (variable: 3, time: 98, y: 1, x: 1)>\n",
       "array([[[[251.]],\n",
       "\n",
       "        ...,\n",
       "\n",
       "        [[662.]]],\n",
       "\n",
       "\n",
       "       ...,\n",
       "\n",
       "\n",
       "       [[[146.]],\n",
       "\n",
       "        ...,\n",
       "\n",
       "        [[800.]]]])\n",
       "Coordinates:\n",
       "  * time         (time) datetime64[ns] 2018-01-02T10:24:20.462000 ... 2018-12...\n",
       "  * y            (y) float64 5.117e+06\n",
       "  * x            (x) float64 6.659e+05\n",
       "  * variable     (variable) object 'B02_10m' 'B03_10m' 'B04_10m'\n",
       "    spatial_ref  int64 ...\n",
       "Attributes:\n",
       "    crs:           PROJCS[\"WGS 84 / UTM zone 32N\",GEOGCS[\"WGS 84\",DATUM[\"WGS_...\n",
       "    grid_mapping:  spatial_ref"
      ]
     },
     "execution_count": 137,
     "metadata": {},
     "output_type": "execute_result"
    }
   ],
   "source": [
    "data = xr.open_dataarray('S2_data_masked.nc')\n",
    "data"
   ]
  },
  {
   "cell_type": "markdown",
   "id": "04dd9c7b-fef0-4afc-9894-efb5cc3c6141",
   "metadata": {},
   "source": [
    "There are many different ways of visualizing the results. Some examples can be found here for XArray: https://xarray-contrib.github.io/xarray-tutorial/scipy-tutorial/04_plotting_and_visualization.html\n",
    "\n",
    "See also the Matplotlib documentation https://matplotlib.org"
   ]
  },
  {
   "cell_type": "code",
   "execution_count": 120,
   "id": "6032af31-10c6-4908-b8e3-bc7a8c9963ea",
   "metadata": {},
   "outputs": [
    {
     "data": {
      "text/plain": [
       "[<matplotlib.lines.Line2D at 0x7fd36de95950>]"
      ]
     },
     "execution_count": 120,
     "metadata": {},
     "output_type": "execute_result"
    },
    {
     "data": {
      "image/png": "[encoded data removed]",
      "text/plain": [
       "<Figure size 432x288 with 1 Axes>"
      ]
     },
     "metadata": {
      "needs_background": "light"
     },
     "output_type": "display_data"
    }
   ],
   "source": [
    "B04 = data.loc[dict(variable='B04_10m')]\n",
    "B04.plot()"
   ]
  },
  {
   "cell_type": "code",
   "execution_count": 138,
   "id": "687c5b41-9d6b-4dd9-9822-11549e68b90a",
   "metadata": {},
   "outputs": [
    {
     "data": {
      "text/plain": [
       "[<matplotlib.lines.Line2D at 0x7fd36dffc590>]"
      ]
     },
     "execution_count": 138,
     "metadata": {},
     "output_type": "execute_result"
    },
    {
     "data": {
      "image/png": "[encoded data removed]",
      "text/plain": [
       "<Figure size 432x288 with 1 Axes>"
      ]
     },
     "metadata": {
      "needs_background": "light"
     },
     "output_type": "display_data"
    }
   ],
   "source": [
    "B04 = data.loc[dict(variable='B04_10m')]\n",
    "B04.plot()"
   ]
  },
  {
   "cell_type": "markdown",
   "id": "4403e823-6432-40ec-91c7-d16222386018",
   "metadata": {},
   "source": [
    "If the data is still noisy, probably the clouds did not get fully filtered out. We can try to \"clean\" the signal manually setting a threshold:"
   ]
  },
  {
   "cell_type": "code",
   "execution_count": 139,
   "id": "a68545e0-a6ac-40b8-af1e-a71bc1762bcf",
   "metadata": {},
   "outputs": [
    {
     "data": {
      "text/plain": [
       "[<matplotlib.lines.Line2D at 0x7fd36dc81810>]"
      ]
     },
     "execution_count": 139,
     "metadata": {},
     "output_type": "execute_result"
    },
    {
     "data": {
      "image/png": "[encoded data removed]",
      "text/plain": [
       "<Figure size 432x288 with 1 Axes>"
      ]
     },
     "metadata": {
      "needs_background": "light"
     },
     "output_type": "display_data"
    }
   ],
   "source": [
    "th = 1000\n",
    "B04 = data.where(data<th).loc[dict(variable='B04_10m')]\n",
    "B04.plot()"
   ]
  }
 ],
 "metadata": {
  "kernelspec": {
   "display_name": "Python 3",
   "language": "python",
   "name": "python3"
  },
  "language_info": {
   "codemirror_mode": {
    "name": "ipython",
    "version": 3
   },
   "file_extension": ".py",
   "mimetype": "text/x-python",
   "name": "python",
   "nbconvert_exporter": "python",
   "pygments_lexer": "ipython3",
   "version": "3.7.10"
  }
 },
 "nbformat": 4,
 "nbformat_minor": 5
}
